{
 "cells": [
  {
   "cell_type": "code",
   "execution_count": 1,
   "metadata": {},
   "outputs": [],
   "source": [
    "import os, glob"
   ]
  },
  {
   "cell_type": "code",
   "execution_count": 2,
   "metadata": {},
   "outputs": [],
   "source": [
    "import xarray as xr\n",
    "import numpy as np"
   ]
  },
  {
   "cell_type": "code",
   "execution_count": 3,
   "metadata": {},
   "outputs": [],
   "source": [
    "import netCDF4"
   ]
  },
  {
   "cell_type": "code",
   "execution_count": 6,
   "metadata": {},
   "outputs": [],
   "source": [
    "pname = '/Volumes/Transcend/Dropbox/Z_wjlee/projects/echopype/'\n",
    "fname = 'test90-D20171107-T195023.nc'"
   ]
  },
  {
   "cell_type": "code",
   "execution_count": 7,
   "metadata": {},
   "outputs": [],
   "source": [
    "ds = xr.open_dataset(os.path.join(pname,fname))"
   ]
  },
  {
   "cell_type": "code",
   "execution_count": 8,
   "metadata": {},
   "outputs": [
    {
     "data": {
      "text/plain": [
       "<xarray.Dataset>\n",
       "Dimensions:  ()\n",
       "Data variables:\n",
       "    *empty*\n",
       "Attributes:\n",
       "    Conventions:                 CF-1.7, SONAR-netCDF4, ACDD-1.3\n",
       "    date_created:                2018-04-16T14:27:35.294245+02:00\n",
       "    keywords:                    Simrad SU90\n",
       "    license:                     None\n",
       "    rights:                      Unrestricted rights\n",
       "    sonar_convention_authority:  ICES\n",
       "    sonar_convention_name:       SONAR-netCDF4\n",
       "    sonar_convention_version:    1.0\n",
       "    summary:                     Converted files from .raw format\n",
       "    title:                       raw to nc converted files"
      ]
     },
     "execution_count": 8,
     "metadata": {},
     "output_type": "execute_result"
    }
   ],
   "source": [
    "ds"
   ]
  },
  {
   "cell_type": "code",
   "execution_count": 13,
   "metadata": {},
   "outputs": [],
   "source": [
    "ds.close()"
   ]
  },
  {
   "cell_type": "code",
   "execution_count": 15,
   "metadata": {},
   "outputs": [],
   "source": [
    "f = netCDF4.Dataset(os.path.join(pname,fname))"
   ]
  },
  {
   "cell_type": "code",
   "execution_count": 16,
   "metadata": {},
   "outputs": [
    {
     "data": {
      "text/plain": [
       "<class 'netCDF4._netCDF4.Dataset'>\n",
       "root group (NETCDF4 data model, file format HDF5):\n",
       "    Conventions: CF-1.7, SONAR-netCDF4, ACDD-1.3\n",
       "    date_created: 2018-04-16T14:27:35.294245+02:00\n",
       "    keywords: Simrad SU90\n",
       "    license: None\n",
       "    rights: Unrestricted rights\n",
       "    sonar_convention_authority: ICES\n",
       "    sonar_convention_name: SONAR-netCDF4\n",
       "    sonar_convention_version: 1.0\n",
       "    summary: Converted files from .raw format\n",
       "    title: raw to nc converted files\n",
       "    dimensions(sizes): \n",
       "    variables(dimensions): \n",
       "    groups: Annotation, Environment, Platform, Provenance, Sonar, Vendor_specific"
      ]
     },
     "execution_count": 16,
     "metadata": {},
     "output_type": "execute_result"
    }
   ],
   "source": [
    "f"
   ]
  },
  {
   "cell_type": "code",
   "execution_count": 18,
   "metadata": {
    "scrolled": false
   },
   "outputs": [
    {
     "data": {
      "text/plain": [
       "<class 'netCDF4._netCDF4.Group'>\n",
       "group /Sonar/Beam_group1:\n",
       "    beam_mode: Vertical\n",
       "    conversion_equation_type: 1\n",
       "    dimensions(sizes): beam(64), ping_time(31)\n",
       "    variables(dimensions): <class 'str'> \u001b[4mbeam\u001b[0m(beam), float32 \u001b[4mbackscatter_i\u001b[0m(ping_time,beam), float32 \u001b[4mbackscatter_r\u001b[0m(ping_time,beam), float32 \u001b[4mbeam_direction_x\u001b[0m(ping_time,beam), float32 \u001b[4mbeam_direction_y\u001b[0m(ping_time,beam), float32 \u001b[4mbeam_direction_z\u001b[0m(ping_time,beam), uint8 \u001b[4mbeam_stabilisation\u001b[0m(ping_time), uint8 \u001b[4mbeam_type\u001b[0m(ping_time), float32 \u001b[4mbeamwidth_receive_major\u001b[0m(ping_time,beam), float32 \u001b[4mbeamwidth_receive_minor\u001b[0m(ping_time,beam), float32 \u001b[4mbeamwidth_transmit_major\u001b[0m(ping_time,beam), float32 \u001b[4mbeamwidth_transmit_minor\u001b[0m(ping_time,beam), float32 \u001b[4mequivalent_beam_angle\u001b[0m(ping_time,beam), float32 \u001b[4mgain_correction\u001b[0m(ping_time,beam), int16 \u001b[4mnon_quantitative_processing\u001b[0m(ping_time), float32 \u001b[4mreceiver_sensitivity\u001b[0m(ping_time,beam), float32 \u001b[4msample_interval\u001b[0m(ping_time), float32 \u001b[4msample_time_offset\u001b[0m(ping_time), float32 \u001b[4mtime_varied_gain\u001b[0m(ping_time), float32 \u001b[4mtransducer_gain\u001b[0m(ping_time,beam), float32 \u001b[4mtransmit_bandwidth\u001b[0m(ping_time), float32 \u001b[4mtransmit_duration_equivalent\u001b[0m(ping_time), float32 \u001b[4mtransmit_duration_nominal\u001b[0m(ping_time), float32 \u001b[4mtransmit_frequency_start\u001b[0m(ping_time), float32 \u001b[4mtransmit_frequency_stop\u001b[0m(ping_time), float32 \u001b[4mtransmit_power\u001b[0m(ping_time), float32 \u001b[4mtransmit_source_level\u001b[0m(ping_time), uint8 \u001b[4mtransmit_type\u001b[0m(ping_time), uint64 \u001b[4mping_time\u001b[0m(ping_time)\n",
       "    groups: "
      ]
     },
     "execution_count": 18,
     "metadata": {},
     "output_type": "execute_result"
    }
   ],
   "source": [
    "f['Sonar/Beam_group1']"
   ]
  },
  {
   "cell_type": "code",
   "execution_count": 9,
   "metadata": {},
   "outputs": [],
   "source": [
    "ds_provenance = xr.open_dataset(os.path.join(pname,fname),group='Provenance', decode_times=False)"
   ]
  },
  {
   "cell_type": "code",
   "execution_count": 10,
   "metadata": {},
   "outputs": [
    {
     "data": {
      "text/plain": [
       "<xarray.Dataset>\n",
       "Dimensions:           (filenames: 0)\n",
       "Dimensions without coordinates: filenames\n",
       "Data variables:\n",
       "    source_filenames  (filenames) object ...\n",
       "Attributes:\n",
       "    conversion_software_name:     P_IMR_RAW_2_NETCDF4\n",
       "    conversion_software_version:  1.0.0\n",
       "    conversion_time:              2018-04-12 15:50:06.205532+02:00"
      ]
     },
     "execution_count": 10,
     "metadata": {},
     "output_type": "execute_result"
    }
   ],
   "source": [
    "ds_provenance"
   ]
  },
  {
   "cell_type": "code",
   "execution_count": 11,
   "metadata": {},
   "outputs": [],
   "source": [
    "ds_sonar = xr.open_dataset(os.path.join(pname,fname),group='Sonar', decode_times=False)"
   ]
  },
  {
   "cell_type": "code",
   "execution_count": 12,
   "metadata": {},
   "outputs": [
    {
     "data": {
      "text/plain": [
       "<xarray.Dataset>\n",
       "Dimensions:  ()\n",
       "Data variables:\n",
       "    *empty*"
      ]
     },
     "execution_count": 12,
     "metadata": {},
     "output_type": "execute_result"
    }
   ],
   "source": [
    "ds_sonar"
   ]
  },
  {
   "cell_type": "code",
   "execution_count": 13,
   "metadata": {},
   "outputs": [
    {
     "ename": "ValueError",
     "evalue": "unable to decode time units 'nanoseconds since 1601-01-01 00:00:00Z' with calendar 'gregorian'. Try opening your dataset with decode_times=False.",
     "output_type": "error",
     "traceback": [
      "\u001b[0;31m---------------------------------------------------------------------------\u001b[0m",
      "\u001b[0;31mKeyError\u001b[0m                                  Traceback (most recent call last)",
      "\u001b[0;32m~/miniconda3/lib/python3.6/site-packages/xarray/conventions.py\u001b[0m in \u001b[0;36m__init__\u001b[0;34m(self, array, units, calendar)\u001b[0m\n\u001b[1;32m    415\u001b[0m         \u001b[0;32mtry\u001b[0m\u001b[0;34m:\u001b[0m\u001b[0;34m\u001b[0m\u001b[0m\n\u001b[0;32m--> 416\u001b[0;31m             \u001b[0mresult\u001b[0m \u001b[0;34m=\u001b[0m \u001b[0mdecode_cf_datetime\u001b[0m\u001b[0;34m(\u001b[0m\u001b[0mexample_value\u001b[0m\u001b[0;34m,\u001b[0m \u001b[0munits\u001b[0m\u001b[0;34m,\u001b[0m \u001b[0mcalendar\u001b[0m\u001b[0;34m)\u001b[0m\u001b[0;34m\u001b[0m\u001b[0m\n\u001b[0m\u001b[1;32m    417\u001b[0m         \u001b[0;32mexcept\u001b[0m \u001b[0mException\u001b[0m\u001b[0;34m:\u001b[0m\u001b[0;34m\u001b[0m\u001b[0m\n",
      "\u001b[0;32m~/miniconda3/lib/python3.6/site-packages/xarray/conventions.py\u001b[0m in \u001b[0;36mdecode_cf_datetime\u001b[0;34m(num_dates, units, calendar)\u001b[0m\n\u001b[1;32m    157\u001b[0m \u001b[0;34m\u001b[0m\u001b[0m\n\u001b[0;32m--> 158\u001b[0;31m         \u001b[0mdelta\u001b[0m \u001b[0;34m=\u001b[0m \u001b[0m_netcdf_to_numpy_timeunit\u001b[0m\u001b[0;34m(\u001b[0m\u001b[0mdelta\u001b[0m\u001b[0;34m)\u001b[0m\u001b[0;34m\u001b[0m\u001b[0m\n\u001b[0m\u001b[1;32m    159\u001b[0m         \u001b[0;32mtry\u001b[0m\u001b[0;34m:\u001b[0m\u001b[0;34m\u001b[0m\u001b[0m\n",
      "\u001b[0;32m~/miniconda3/lib/python3.6/site-packages/xarray/conventions.py\u001b[0m in \u001b[0;36m_netcdf_to_numpy_timeunit\u001b[0;34m(units)\u001b[0m\n\u001b[1;32m     96\u001b[0m     return {'microseconds': 'us', 'milliseconds': 'ms', 'seconds': 's',\n\u001b[0;32m---> 97\u001b[0;31m             'minutes': 'm', 'hours': 'h', 'days': 'D'}[units]\n\u001b[0m\u001b[1;32m     98\u001b[0m \u001b[0;34m\u001b[0m\u001b[0m\n",
      "\u001b[0;31mKeyError\u001b[0m: 'nanoseconds'",
      "\nDuring handling of the above exception, another exception occurred:\n",
      "\u001b[0;31mValueError\u001b[0m                                Traceback (most recent call last)",
      "\u001b[0;32m<ipython-input-13-9361cdbc3f2f>\u001b[0m in \u001b[0;36m<module>\u001b[0;34m()\u001b[0m\n\u001b[0;32m----> 1\u001b[0;31m \u001b[0mds_annotation\u001b[0m \u001b[0;34m=\u001b[0m \u001b[0mxr\u001b[0m\u001b[0;34m.\u001b[0m\u001b[0mopen_dataset\u001b[0m\u001b[0;34m(\u001b[0m\u001b[0mos\u001b[0m\u001b[0;34m.\u001b[0m\u001b[0mpath\u001b[0m\u001b[0;34m.\u001b[0m\u001b[0mjoin\u001b[0m\u001b[0;34m(\u001b[0m\u001b[0mpname\u001b[0m\u001b[0;34m,\u001b[0m\u001b[0mfname\u001b[0m\u001b[0;34m)\u001b[0m\u001b[0;34m,\u001b[0m\u001b[0mgroup\u001b[0m\u001b[0;34m=\u001b[0m\u001b[0;34m'Annotation'\u001b[0m\u001b[0;34m)\u001b[0m\u001b[0;34m\u001b[0m\u001b[0m\n\u001b[0m",
      "\u001b[0;32m~/miniconda3/lib/python3.6/site-packages/xarray/backends/api.py\u001b[0m in \u001b[0;36mopen_dataset\u001b[0;34m(filename_or_obj, group, decode_cf, mask_and_scale, decode_times, autoclose, concat_characters, decode_coords, engine, chunks, lock, cache, drop_variables)\u001b[0m\n\u001b[1;32m    303\u001b[0m             \u001b[0mlock\u001b[0m \u001b[0;34m=\u001b[0m \u001b[0m_default_lock\u001b[0m\u001b[0;34m(\u001b[0m\u001b[0mfilename_or_obj\u001b[0m\u001b[0;34m,\u001b[0m \u001b[0mengine\u001b[0m\u001b[0;34m)\u001b[0m\u001b[0;34m\u001b[0m\u001b[0m\n\u001b[1;32m    304\u001b[0m         \u001b[0;32mwith\u001b[0m \u001b[0mclose_on_error\u001b[0m\u001b[0;34m(\u001b[0m\u001b[0mstore\u001b[0m\u001b[0;34m)\u001b[0m\u001b[0;34m:\u001b[0m\u001b[0;34m\u001b[0m\u001b[0m\n\u001b[0;32m--> 305\u001b[0;31m             \u001b[0;32mreturn\u001b[0m \u001b[0mmaybe_decode_store\u001b[0m\u001b[0;34m(\u001b[0m\u001b[0mstore\u001b[0m\u001b[0;34m,\u001b[0m \u001b[0mlock\u001b[0m\u001b[0;34m)\u001b[0m\u001b[0;34m\u001b[0m\u001b[0m\n\u001b[0m\u001b[1;32m    306\u001b[0m     \u001b[0;32melse\u001b[0m\u001b[0;34m:\u001b[0m\u001b[0;34m\u001b[0m\u001b[0m\n\u001b[1;32m    307\u001b[0m         \u001b[0;32mif\u001b[0m \u001b[0mengine\u001b[0m \u001b[0;32mis\u001b[0m \u001b[0;32mnot\u001b[0m \u001b[0;32mNone\u001b[0m \u001b[0;32mand\u001b[0m \u001b[0mengine\u001b[0m \u001b[0;34m!=\u001b[0m \u001b[0;34m'scipy'\u001b[0m\u001b[0;34m:\u001b[0m\u001b[0;34m\u001b[0m\u001b[0m\n",
      "\u001b[0;32m~/miniconda3/lib/python3.6/site-packages/xarray/backends/api.py\u001b[0m in \u001b[0;36mmaybe_decode_store\u001b[0;34m(store, lock)\u001b[0m\n\u001b[1;32m    223\u001b[0m             \u001b[0mstore\u001b[0m\u001b[0;34m,\u001b[0m \u001b[0mmask_and_scale\u001b[0m\u001b[0;34m=\u001b[0m\u001b[0mmask_and_scale\u001b[0m\u001b[0;34m,\u001b[0m \u001b[0mdecode_times\u001b[0m\u001b[0;34m=\u001b[0m\u001b[0mdecode_times\u001b[0m\u001b[0;34m,\u001b[0m\u001b[0;34m\u001b[0m\u001b[0m\n\u001b[1;32m    224\u001b[0m             \u001b[0mconcat_characters\u001b[0m\u001b[0;34m=\u001b[0m\u001b[0mconcat_characters\u001b[0m\u001b[0;34m,\u001b[0m \u001b[0mdecode_coords\u001b[0m\u001b[0;34m=\u001b[0m\u001b[0mdecode_coords\u001b[0m\u001b[0;34m,\u001b[0m\u001b[0;34m\u001b[0m\u001b[0m\n\u001b[0;32m--> 225\u001b[0;31m             drop_variables=drop_variables)\n\u001b[0m\u001b[1;32m    226\u001b[0m \u001b[0;34m\u001b[0m\u001b[0m\n\u001b[1;32m    227\u001b[0m         \u001b[0m_protect_dataset_variables_inplace\u001b[0m\u001b[0;34m(\u001b[0m\u001b[0mds\u001b[0m\u001b[0;34m,\u001b[0m \u001b[0mcache\u001b[0m\u001b[0;34m)\u001b[0m\u001b[0;34m\u001b[0m\u001b[0m\n",
      "\u001b[0;32m~/miniconda3/lib/python3.6/site-packages/xarray/conventions.py\u001b[0m in \u001b[0;36mdecode_cf\u001b[0;34m(obj, concat_characters, mask_and_scale, decode_times, decode_coords, drop_variables)\u001b[0m\n\u001b[1;32m   1153\u001b[0m     vars, attrs, coord_names = decode_cf_variables(\n\u001b[1;32m   1154\u001b[0m         \u001b[0mvars\u001b[0m\u001b[0;34m,\u001b[0m \u001b[0mattrs\u001b[0m\u001b[0;34m,\u001b[0m \u001b[0mconcat_characters\u001b[0m\u001b[0;34m,\u001b[0m \u001b[0mmask_and_scale\u001b[0m\u001b[0;34m,\u001b[0m \u001b[0mdecode_times\u001b[0m\u001b[0;34m,\u001b[0m\u001b[0;34m\u001b[0m\u001b[0m\n\u001b[0;32m-> 1155\u001b[0;31m         decode_coords, drop_variables=drop_variables)\n\u001b[0m\u001b[1;32m   1156\u001b[0m     \u001b[0mds\u001b[0m \u001b[0;34m=\u001b[0m \u001b[0mDataset\u001b[0m\u001b[0;34m(\u001b[0m\u001b[0mvars\u001b[0m\u001b[0;34m,\u001b[0m \u001b[0mattrs\u001b[0m\u001b[0;34m=\u001b[0m\u001b[0mattrs\u001b[0m\u001b[0;34m)\u001b[0m\u001b[0;34m\u001b[0m\u001b[0m\n\u001b[1;32m   1157\u001b[0m     \u001b[0mds\u001b[0m \u001b[0;34m=\u001b[0m \u001b[0mds\u001b[0m\u001b[0;34m.\u001b[0m\u001b[0mset_coords\u001b[0m\u001b[0;34m(\u001b[0m\u001b[0mcoord_names\u001b[0m\u001b[0;34m.\u001b[0m\u001b[0munion\u001b[0m\u001b[0;34m(\u001b[0m\u001b[0mextra_coords\u001b[0m\u001b[0;34m)\u001b[0m\u001b[0;34m.\u001b[0m\u001b[0mintersection\u001b[0m\u001b[0;34m(\u001b[0m\u001b[0mvars\u001b[0m\u001b[0;34m)\u001b[0m\u001b[0;34m)\u001b[0m\u001b[0;34m\u001b[0m\u001b[0m\n",
      "\u001b[0;32m~/miniconda3/lib/python3.6/site-packages/xarray/conventions.py\u001b[0m in \u001b[0;36mdecode_cf_variables\u001b[0;34m(variables, attributes, concat_characters, mask_and_scale, decode_times, decode_coords, drop_variables)\u001b[0m\n\u001b[1;32m   1086\u001b[0m             \u001b[0mk\u001b[0m\u001b[0;34m,\u001b[0m \u001b[0mv\u001b[0m\u001b[0;34m,\u001b[0m \u001b[0mconcat_characters\u001b[0m\u001b[0;34m=\u001b[0m\u001b[0mconcat_characters\u001b[0m\u001b[0;34m,\u001b[0m\u001b[0;34m\u001b[0m\u001b[0m\n\u001b[1;32m   1087\u001b[0m             \u001b[0mmask_and_scale\u001b[0m\u001b[0;34m=\u001b[0m\u001b[0mmask_and_scale\u001b[0m\u001b[0;34m,\u001b[0m \u001b[0mdecode_times\u001b[0m\u001b[0;34m=\u001b[0m\u001b[0mdecode_times\u001b[0m\u001b[0;34m,\u001b[0m\u001b[0;34m\u001b[0m\u001b[0m\n\u001b[0;32m-> 1088\u001b[0;31m             stack_char_dim=stack_char_dim)\n\u001b[0m\u001b[1;32m   1089\u001b[0m         \u001b[0;32mif\u001b[0m \u001b[0mdecode_coords\u001b[0m\u001b[0;34m:\u001b[0m\u001b[0;34m\u001b[0m\u001b[0m\n\u001b[1;32m   1090\u001b[0m             \u001b[0mvar_attrs\u001b[0m \u001b[0;34m=\u001b[0m \u001b[0mnew_vars\u001b[0m\u001b[0;34m[\u001b[0m\u001b[0mk\u001b[0m\u001b[0;34m]\u001b[0m\u001b[0;34m.\u001b[0m\u001b[0mattrs\u001b[0m\u001b[0;34m\u001b[0m\u001b[0m\n",
      "\u001b[0;32m~/miniconda3/lib/python3.6/site-packages/xarray/conventions.py\u001b[0m in \u001b[0;36mdecode_cf_variable\u001b[0;34m(name, var, concat_characters, mask_and_scale, decode_times, decode_endianness, stack_char_dim)\u001b[0m\n\u001b[1;32m   1021\u001b[0m             \u001b[0munits\u001b[0m \u001b[0;34m=\u001b[0m \u001b[0mpop_to\u001b[0m\u001b[0;34m(\u001b[0m\u001b[0mattributes\u001b[0m\u001b[0;34m,\u001b[0m \u001b[0mencoding\u001b[0m\u001b[0;34m,\u001b[0m \u001b[0;34m'units'\u001b[0m\u001b[0;34m)\u001b[0m\u001b[0;34m\u001b[0m\u001b[0m\n\u001b[1;32m   1022\u001b[0m             \u001b[0mcalendar\u001b[0m \u001b[0;34m=\u001b[0m \u001b[0mpop_to\u001b[0m\u001b[0;34m(\u001b[0m\u001b[0mattributes\u001b[0m\u001b[0;34m,\u001b[0m \u001b[0mencoding\u001b[0m\u001b[0;34m,\u001b[0m \u001b[0;34m'calendar'\u001b[0m\u001b[0;34m)\u001b[0m\u001b[0;34m\u001b[0m\u001b[0m\n\u001b[0;32m-> 1023\u001b[0;31m             \u001b[0mdata\u001b[0m \u001b[0;34m=\u001b[0m \u001b[0mDecodedCFDatetimeArray\u001b[0m\u001b[0;34m(\u001b[0m\u001b[0mdata\u001b[0m\u001b[0;34m,\u001b[0m \u001b[0munits\u001b[0m\u001b[0;34m,\u001b[0m \u001b[0mcalendar\u001b[0m\u001b[0;34m)\u001b[0m\u001b[0;34m\u001b[0m\u001b[0m\n\u001b[0m\u001b[1;32m   1024\u001b[0m         \u001b[0;32melif\u001b[0m \u001b[0mattributes\u001b[0m\u001b[0;34m[\u001b[0m\u001b[0;34m'units'\u001b[0m\u001b[0;34m]\u001b[0m \u001b[0;32min\u001b[0m \u001b[0mTIME_UNITS\u001b[0m\u001b[0;34m:\u001b[0m\u001b[0;34m\u001b[0m\u001b[0m\n\u001b[1;32m   1025\u001b[0m             \u001b[0;31m# timedelta\u001b[0m\u001b[0;34m\u001b[0m\u001b[0;34m\u001b[0m\u001b[0m\n",
      "\u001b[0;32m~/miniconda3/lib/python3.6/site-packages/xarray/conventions.py\u001b[0m in \u001b[0;36m__init__\u001b[0;34m(self, array, units, calendar)\u001b[0m\n\u001b[1;32m    423\u001b[0m             \u001b[0;32mif\u001b[0m \u001b[0;32mnot\u001b[0m \u001b[0mPY3\u001b[0m\u001b[0;34m:\u001b[0m\u001b[0;34m\u001b[0m\u001b[0m\n\u001b[1;32m    424\u001b[0m                 \u001b[0mmsg\u001b[0m \u001b[0;34m+=\u001b[0m \u001b[0;34m' Full traceback:\\n'\u001b[0m \u001b[0;34m+\u001b[0m \u001b[0mtraceback\u001b[0m\u001b[0;34m.\u001b[0m\u001b[0mformat_exc\u001b[0m\u001b[0;34m(\u001b[0m\u001b[0;34m)\u001b[0m\u001b[0;34m\u001b[0m\u001b[0m\n\u001b[0;32m--> 425\u001b[0;31m             \u001b[0;32mraise\u001b[0m \u001b[0mValueError\u001b[0m\u001b[0;34m(\u001b[0m\u001b[0mmsg\u001b[0m\u001b[0;34m)\u001b[0m\u001b[0;34m\u001b[0m\u001b[0m\n\u001b[0m\u001b[1;32m    426\u001b[0m         \u001b[0;32melse\u001b[0m\u001b[0;34m:\u001b[0m\u001b[0;34m\u001b[0m\u001b[0m\n\u001b[1;32m    427\u001b[0m             \u001b[0mself\u001b[0m\u001b[0;34m.\u001b[0m\u001b[0m_dtype\u001b[0m \u001b[0;34m=\u001b[0m \u001b[0mgetattr\u001b[0m\u001b[0;34m(\u001b[0m\u001b[0mresult\u001b[0m\u001b[0;34m,\u001b[0m \u001b[0;34m'dtype'\u001b[0m\u001b[0;34m,\u001b[0m \u001b[0mnp\u001b[0m\u001b[0;34m.\u001b[0m\u001b[0mdtype\u001b[0m\u001b[0;34m(\u001b[0m\u001b[0;34m'object'\u001b[0m\u001b[0;34m)\u001b[0m\u001b[0;34m)\u001b[0m\u001b[0;34m\u001b[0m\u001b[0m\n",
      "\u001b[0;31mValueError\u001b[0m: unable to decode time units 'nanoseconds since 1601-01-01 00:00:00Z' with calendar 'gregorian'. Try opening your dataset with decode_times=False."
     ]
    }
   ],
   "source": [
    "ds_annotation = xr.open_dataset(os.path.join(pname,fname),group='Annotation')"
   ]
  },
  {
   "cell_type": "code",
   "execution_count": 95,
   "metadata": {},
   "outputs": [],
   "source": [
    "ds_annotation = xr.open_dataset(os.path.join(pname,fname),group='Annotation', decode_times=False)"
   ]
  },
  {
   "cell_type": "code",
   "execution_count": 96,
   "metadata": {},
   "outputs": [
    {
     "data": {
      "text/plain": [
       "<xarray.Dataset>\n",
       "Dimensions:              (time: 0)\n",
       "Coordinates:\n",
       "  * time                 (time) uint64 \n",
       "Data variables:\n",
       "    annotation_text      (time) object ...\n",
       "    annotation_category  (time) object ..."
      ]
     },
     "execution_count": 96,
     "metadata": {},
     "output_type": "execute_result"
    }
   ],
   "source": [
    "ds_annotation"
   ]
  },
  {
   "cell_type": "code",
   "execution_count": 98,
   "metadata": {},
   "outputs": [
    {
     "data": {
      "text/plain": [
       "<xarray.DataArray 'time' (time: 0)>\n",
       "array([], dtype=uint64)\n",
       "Coordinates:\n",
       "  * time     (time) uint64 \n",
       "Attributes:\n",
       "    axis:           T\n",
       "    calendar:       gregorian\n",
       "    long_name:      Timestamps of annotations\n",
       "    standard_name:  time\n",
       "    units:          nanoseconds since 1601-01-01 00:00:00Z"
      ]
     },
     "execution_count": 98,
     "metadata": {},
     "output_type": "execute_result"
    }
   ],
   "source": [
    "ds_annotation.time"
   ]
  },
  {
   "cell_type": "code",
   "execution_count": null,
   "metadata": {},
   "outputs": [],
   "source": [
    "ds_annotation.annotation_category"
   ]
  },
  {
   "cell_type": "code",
   "execution_count": null,
   "metadata": {},
   "outputs": [],
   "source": []
  },
  {
   "cell_type": "code",
   "execution_count": 174,
   "metadata": {},
   "outputs": [],
   "source": [
    "ds_env = xr.open_dataset(os.path.join(pname,fname),group='Environment', decode_times=False)"
   ]
  },
  {
   "cell_type": "code",
   "execution_count": 175,
   "metadata": {},
   "outputs": [
    {
     "data": {
      "text/plain": [
       "<xarray.Dataset>\n",
       "Dimensions:                 (frequency: 1)\n",
       "Coordinates:\n",
       "  * frequency               (frequency) float32 30000.0\n",
       "Data variables:\n",
       "    absorption_indicative   (frequency) float32 ...\n",
       "    sound_speed_indicative  (frequency) float32 ..."
      ]
     },
     "execution_count": 175,
     "metadata": {},
     "output_type": "execute_result"
    }
   ],
   "source": [
    "ds_env"
   ]
  },
  {
   "cell_type": "code",
   "execution_count": 101,
   "metadata": {},
   "outputs": [
    {
     "data": {
      "text/plain": [
       "<xarray.DataArray 'absorption_indicative' (frequency: 1)>\n",
       "array([0.006], dtype=float32)\n",
       "Coordinates:\n",
       "  * frequency  (frequency) float32 30000.0\n",
       "Attributes:\n",
       "    long_name:  Indicative acoustic absorption\n",
       "    units:      dB/m\n",
       "    valid_min:  0.0"
      ]
     },
     "execution_count": 101,
     "metadata": {},
     "output_type": "execute_result"
    }
   ],
   "source": [
    "ds_env.absorption_indicative"
   ]
  },
  {
   "cell_type": "code",
   "execution_count": 102,
   "metadata": {},
   "outputs": [
    {
     "data": {
      "text/plain": [
       "<xarray.DataArray 'sound_speed_indicative' (frequency: 1)>\n",
       "array([1490.], dtype=float32)\n",
       "Coordinates:\n",
       "  * frequency  (frequency) float32 30000.0\n",
       "Attributes:\n",
       "    long_name:      Indicative sound speed\n",
       "    standard_name:  speed_of_sound_in_sea_water\n",
       "    units:          m/s\n",
       "    valid_min:      0.0"
      ]
     },
     "execution_count": 102,
     "metadata": {},
     "output_type": "execute_result"
    }
   ],
   "source": [
    "ds_env.sound_speed_indicative"
   ]
  },
  {
   "cell_type": "code",
   "execution_count": 168,
   "metadata": {},
   "outputs": [],
   "source": [
    "freq = np.array([30000.0], dtype='float32')\n",
    "\n",
    "da_absorption_indicative = xr.DataArray(np.array([0.006], dtype='float32'),\n",
    "                                        coords=[freq], dims=['frequency'],\n",
    "                                        attrs={'long_name': \"Indicative acoustic absorption\", \n",
    "                                               'units': \"dB/m\",\n",
    "                                               'valid_min': 0.0})\n",
    "da_sound_speed_indicative = xr.DataArray(np.array([1490.], dtype='float32'),\n",
    "                                         coords=[freq], dims=['frequency'],\n",
    "                                         attrs={'long_name': \"Indicative sound speed\",\n",
    "                                                'standard_name': \"speed_of_sound_in_sea_water\",\n",
    "                                                'units': \"m/s\",\n",
    "                                                'valid_min': 0.0})"
   ]
  },
  {
   "cell_type": "code",
   "execution_count": 169,
   "metadata": {},
   "outputs": [
    {
     "data": {
      "text/plain": [
       "<xarray.DataArray (frequency: 1)>\n",
       "array([0.006], dtype=float32)\n",
       "Coordinates:\n",
       "  * frequency  (frequency) float32 30000.0\n",
       "Attributes:\n",
       "    long_name:  Indicative acoustic absorption\n",
       "    units:      dB/m\n",
       "    valid_min:  0.0"
      ]
     },
     "execution_count": 169,
     "metadata": {},
     "output_type": "execute_result"
    }
   ],
   "source": [
    "da_absorption_indicative"
   ]
  },
  {
   "cell_type": "code",
   "execution_count": 170,
   "metadata": {
    "scrolled": true
   },
   "outputs": [
    {
     "data": {
      "text/plain": [
       "<xarray.DataArray (frequency: 1)>\n",
       "array([1490.], dtype=float32)\n",
       "Coordinates:\n",
       "  * frequency  (frequency) float32 30000.0\n",
       "Attributes:\n",
       "    long_name:      Indicative sound speed\n",
       "    standard_name:  speed_of_sound_in_sea_water\n",
       "    units:          m/s\n",
       "    valid_min:      0.0"
      ]
     },
     "execution_count": 170,
     "metadata": {},
     "output_type": "execute_result"
    }
   ],
   "source": [
    "da_sound_speed_indicative"
   ]
  },
  {
   "cell_type": "code",
   "execution_count": 176,
   "metadata": {},
   "outputs": [],
   "source": [
    "ds_test = xr.Dataset({'absorption_indicative': da_absorption_indicative,\n",
    "                      'sound_speed_indicative': da_sound_speed_indicative}, \n",
    "                     coords={'frequency': (['frequency'], freq)})"
   ]
  },
  {
   "cell_type": "code",
   "execution_count": 183,
   "metadata": {},
   "outputs": [],
   "source": [
    "ds_test.frequency.attrs['long_name'] = \"Acoustic frequency\"\n",
    "ds_test.frequency.attrs['standard_name'] = \"sound_frequency\"\n",
    "ds_test.frequency.attrs['units'] = \"Hz\"\n",
    "ds_test.frequency.attrs['valid_min'] = 0.0"
   ]
  },
  {
   "cell_type": "code",
   "execution_count": 185,
   "metadata": {
    "scrolled": true
   },
   "outputs": [
    {
     "data": {
      "text/plain": [
       "<xarray.Dataset>\n",
       "Dimensions:                 (frequency: 1)\n",
       "Coordinates:\n",
       "  * frequency               (frequency) float32 30000.0\n",
       "Data variables:\n",
       "    absorption_indicative   (frequency) float32 0.006\n",
       "    sound_speed_indicative  (frequency) float32 1490.0"
      ]
     },
     "execution_count": 185,
     "metadata": {},
     "output_type": "execute_result"
    }
   ],
   "source": [
    "ds_test"
   ]
  },
  {
   "cell_type": "code",
   "execution_count": 186,
   "metadata": {},
   "outputs": [
    {
     "data": {
      "text/plain": [
       "<xarray.DataArray 'frequency' (frequency: 1)>\n",
       "array([30000.], dtype=float32)\n",
       "Coordinates:\n",
       "  * frequency  (frequency) float32 30000.0\n",
       "Attributes:\n",
       "    long_name:      Acoustic frequency\n",
       "    standard_name:  sound_frequency\n",
       "    units:          Hz\n",
       "    valid_min:      0.0"
      ]
     },
     "execution_count": 186,
     "metadata": {},
     "output_type": "execute_result"
    }
   ],
   "source": [
    "ds_test.frequency"
   ]
  },
  {
   "cell_type": "code",
   "execution_count": 197,
   "metadata": {},
   "outputs": [],
   "source": [
    "dsf = ds.to_netcdf(path='./test_assert2.nc')"
   ]
  },
  {
   "cell_type": "code",
   "execution_count": 199,
   "metadata": {},
   "outputs": [
    {
     "data": {
      "text/plain": [
       "True"
      ]
     },
     "execution_count": 199,
     "metadata": {},
     "output_type": "execute_result"
    }
   ],
   "source": [
    "ds.equals(xr.open_dataset('./test_assert2.nc'))"
   ]
  },
  {
   "cell_type": "code",
   "execution_count": null,
   "metadata": {},
   "outputs": [],
   "source": []
  },
  {
   "cell_type": "code",
   "execution_count": null,
   "metadata": {},
   "outputs": [],
   "source": []
  },
  {
   "cell_type": "code",
   "execution_count": null,
   "metadata": {},
   "outputs": [],
   "source": []
  },
  {
   "cell_type": "code",
   "execution_count": null,
   "metadata": {},
   "outputs": [],
   "source": []
  },
  {
   "cell_type": "code",
   "execution_count": null,
   "metadata": {},
   "outputs": [],
   "source": []
  },
  {
   "cell_type": "code",
   "execution_count": 184,
   "metadata": {},
   "outputs": [
    {
     "data": {
      "text/plain": [
       "<xarray.Dataset>\n",
       "Dimensions:                 (frequency: 1)\n",
       "Coordinates:\n",
       "  * frequency               (frequency) float32 30000.0\n",
       "Data variables:\n",
       "    absorption_indicative   (frequency) float32 0.006\n",
       "    sound_speed_indicative  (frequency) float32 1490.0"
      ]
     },
     "execution_count": 184,
     "metadata": {},
     "output_type": "execute_result"
    }
   ],
   "source": [
    "ds_env"
   ]
  },
  {
   "cell_type": "code",
   "execution_count": 187,
   "metadata": {},
   "outputs": [
    {
     "data": {
      "text/plain": [
       "<xarray.DataArray 'frequency' (frequency: 1)>\n",
       "array([30000.], dtype=float32)\n",
       "Coordinates:\n",
       "  * frequency  (frequency) float32 30000.0\n",
       "Attributes:\n",
       "    long_name:      Acoustic frequency\n",
       "    standard_name:  sound_frequency\n",
       "    units:          Hz\n",
       "    valid_min:      0.0"
      ]
     },
     "execution_count": 187,
     "metadata": {},
     "output_type": "execute_result"
    }
   ],
   "source": [
    "ds_env.frequency"
   ]
  },
  {
   "cell_type": "code",
   "execution_count": null,
   "metadata": {},
   "outputs": [],
   "source": []
  },
  {
   "cell_type": "code",
   "execution_count": null,
   "metadata": {},
   "outputs": [],
   "source": [
    "ds = xr.Dataset({'d_all': data_d_all,\n",
    "                     'h_actual_all': data_h_actual_all, 'h_est_all': data_h_est_all,\n",
    "                     'beam_ij_all': data_beam_ij_all,\n",
    "                     'hit_value_all': data_hit_value_all, 'hit_type_all': data_hit_type_all})"
   ]
  },
  {
   "cell_type": "code",
   "execution_count": null,
   "metadata": {},
   "outputs": [],
   "source": []
  },
  {
   "cell_type": "code",
   "execution_count": null,
   "metadata": {},
   "outputs": [],
   "source": []
  },
  {
   "cell_type": "code",
   "execution_count": null,
   "metadata": {},
   "outputs": [],
   "source": []
  },
  {
   "cell_type": "code",
   "execution_count": null,
   "metadata": {},
   "outputs": [],
   "source": []
  },
  {
   "cell_type": "code",
   "execution_count": null,
   "metadata": {},
   "outputs": [],
   "source": []
  },
  {
   "cell_type": "code",
   "execution_count": 20,
   "metadata": {},
   "outputs": [],
   "source": [
    "ds_sonar_beamgrp1 = xr.open_dataset(os.path.join(pname,fname),group='Sonar/Beam_group1', decode_times=False)"
   ]
  },
  {
   "cell_type": "code",
   "execution_count": 21,
   "metadata": {},
   "outputs": [
    {
     "data": {
      "text/plain": [
       "<xarray.Dataset>\n",
       "Dimensions:                       (beam: 64, ping_time: 31)\n",
       "Coordinates:\n",
       "  * beam                          (beam) object '' '' '' '' '' '' '' '' '' ...\n",
       "  * ping_time                     (ping_time) uint64 131545578247927373 ...\n",
       "Data variables:\n",
       "    backscatter_i                 (ping_time, beam) float32 ...\n",
       "    backscatter_r                 (ping_time, beam) float32 ...\n",
       "    beam_direction_x              (ping_time, beam) float32 ...\n",
       "    beam_direction_y              (ping_time, beam) float32 ...\n",
       "    beam_direction_z              (ping_time, beam) float32 ...\n",
       "    beam_stabilisation            (ping_time) uint8 ...\n",
       "    beam_type                     (ping_time) uint8 ...\n",
       "    beamwidth_receive_major       (ping_time, beam) float32 ...\n",
       "    beamwidth_receive_minor       (ping_time, beam) float32 ...\n",
       "    beamwidth_transmit_major      (ping_time, beam) float32 ...\n",
       "    beamwidth_transmit_minor      (ping_time, beam) float32 ...\n",
       "    equivalent_beam_angle         (ping_time, beam) float32 ...\n",
       "    gain_correction               (ping_time, beam) float32 ...\n",
       "    non_quantitative_processing   (ping_time) int16 ...\n",
       "    receiver_sensitivity          (ping_time, beam) float32 ...\n",
       "    sample_interval               (ping_time) float32 ...\n",
       "    sample_time_offset            (ping_time) float32 ...\n",
       "    time_varied_gain              (ping_time) float32 ...\n",
       "    transducer_gain               (ping_time, beam) float32 ...\n",
       "    transmit_bandwidth            (ping_time) float32 ...\n",
       "    transmit_duration_equivalent  (ping_time) float32 ...\n",
       "    transmit_duration_nominal     (ping_time) float32 ...\n",
       "    transmit_frequency_start      (ping_time) float32 ...\n",
       "    transmit_frequency_stop       (ping_time) float32 ...\n",
       "    transmit_power                (ping_time) float32 ...\n",
       "    transmit_source_level         (ping_time) float32 ...\n",
       "    transmit_type                 (ping_time) uint8 ...\n",
       "Attributes:\n",
       "    beam_mode:                 Vertical\n",
       "    conversion_equation_type:  1"
      ]
     },
     "execution_count": 21,
     "metadata": {},
     "output_type": "execute_result"
    }
   ],
   "source": [
    "ds_sonar_beamgrp1"
   ]
  },
  {
   "cell_type": "code",
   "execution_count": 25,
   "metadata": {},
   "outputs": [
    {
     "data": {
      "text/plain": [
       "<xarray.DataArray 'backscatter_i' (ping_time: 31, beam: 64)>\n",
       "array([[array([ 9.306826e-04, -9.643295e-04,  9.740553e-04, ..., -2.176321e-08,\n",
       "        4.959619e-08, -6.815596e-08], dtype=float32),\n",
       "        array([ 2.367373e-03, -2.931082e-03,  3.492698e-03, ..., -1.580587e-07,\n",
       "        1.560583e-07, -1.411914e-07], dtype=float32),\n",
       "        array([ 2.763227e-03, -3.198841e-03,  3.603501e-03, ..., -1.511683e-07,\n",
       "        1.097476e-07, -6.187733e-08], dtype=float32),\n",
       "        ...,\n",
       "        array([-8.247152e-04,  9.756034e-04, -1.108371e-03, ..., -2.212049e-07,\n",
       "        1.733083e-07, -1.273344e-07], dtype=float32),\n",
       "        array([-6.019144e-04,  7.145707e-04, -8.055025e-04, ..., -6.644943e-08,\n",
       "        4.060903e-08, -1.973221e-08], dtype=float32),\n",
       "        array([ 5.815502e-04, -3.676428e-04,  1.077075e-04, ...,  7.978933e-08,\n",
       "       -7.263365e-08,  6.334842e-08], dtype=float32)],\n",
       "       [array([-3.267172e-03,  3.451781e-03, -3.538496e-03, ..., -4.994402e-08,\n",
       "        5.128604e-08, -5.983535e-08], dtype=float32),\n",
       "        array([-1.271461e-03,  1.592904e-03, -1.922012e-03, ..., -3.956599e-08,\n",
       "        5.408230e-08, -6.991036e-08], dtype=float32),\n",
       "        array([ 1.882553e-03, -1.895542e-03,  1.836893e-03, ..., -2.755735e-09,\n",
       "        2.648694e-08, -4.954687e-08], dtype=float32),\n",
       "        ...,\n",
       "        array([-1.180233e-03,  1.679031e-03, -2.218922e-03, ...,  6.313829e-08,\n",
       "       -8.604840e-08,  9.925741e-08], dtype=float32),\n",
       "        array([ 1.893972e-03, -2.145094e-03,  2.361301e-03, ..., -2.918991e-08,\n",
       "        2.144861e-08, -2.143316e-08], dtype=float32),\n",
       "        array([-1.037790e-03,  9.069092e-04, -7.093305e-04, ..., -2.150277e-08,\n",
       "        1.427420e-08, -1.527275e-08], dtype=float32)],\n",
       "       [array([ 1.039586e-03, -1.257535e-03,  1.460414e-03, ...,  1.414663e-07,\n",
       "       -1.195913e-07,  8.866435e-08], dtype=float32),\n",
       "        array([ 1.732367e-03, -1.862846e-03,  1.946250e-03, ...,  1.263944e-07,\n",
       "       -1.434248e-07,  1.443756e-07], dtype=float32),\n",
       "        array([-1.299286e-03,  1.671039e-03, -2.052609e-03, ...,  1.156872e-07,\n",
       "       -1.493417e-07,  1.692813e-07], dtype=float32),\n",
       "        ...,\n",
       "        array([ 6.306173e-04, -4.087928e-04,  1.311933e-04, ..., -9.178375e-08,\n",
       "        6.886210e-08, -4.641435e-08], dtype=float32),\n",
       "        array([ 2.234783e-03, -2.204225e-03,  2.095245e-03, ..., -1.072436e-07,\n",
       "        8.462751e-08, -5.954394e-08], dtype=float32),\n",
       "        array([-1.231283e-03,  1.407412e-03, -1.569610e-03, ...,  5.848059e-08,\n",
       "       -4.749743e-08,  3.193468e-08], dtype=float32)],\n",
       "       ...,\n",
       "       [array([ 2.256717e-04, -2.276674e-04,  2.158837e-04, ..., -8.863870e-08,\n",
       "        1.151859e-07, -1.311969e-07], dtype=float32),\n",
       "        array([ 2.323587e-04, -1.851705e-04,  1.062726e-04, ..., -5.493741e-08,\n",
       "        9.266478e-08, -1.260369e-07], dtype=float32),\n",
       "        array([-1.183519e-03,  1.482739e-03, -1.800341e-03, ..., -5.079440e-08,\n",
       "        8.884615e-08, -1.284565e-07], dtype=float32),\n",
       "        ...,\n",
       "        array([-9.736383e-04,  1.186221e-03, -1.402464e-03, ..., -1.605172e-07,\n",
       "        1.573909e-07, -1.422575e-07], dtype=float32),\n",
       "        array([-1.691430e-03,  2.071719e-03, -2.469061e-03, ..., -1.362888e-07,\n",
       "        1.623800e-07, -1.772202e-07], dtype=float32),\n",
       "        array([-1.102083e-03,  1.313952e-03, -1.522585e-03, ..., -1.063580e-07,\n",
       "        1.410217e-07, -1.630287e-07], dtype=float32)],\n",
       "       [array([-2.118880e-04,  3.271545e-04, -4.650572e-04, ..., -1.218225e-07,\n",
       "        1.168007e-07, -9.988793e-08], dtype=float32),\n",
       "        array([ 2.669919e-05,  1.516327e-04, -3.910949e-04, ...,  3.362548e-08,\n",
       "       -3.894398e-08,  5.060070e-08], dtype=float32),\n",
       "        array([-1.481125e-03,  1.809280e-03, -2.148462e-03, ...,  1.829521e-07,\n",
       "       -1.957766e-07,  2.053659e-07], dtype=float32),\n",
       "        ...,\n",
       "        array([-7.288229e-04,  9.411069e-04, -1.175797e-03, ...,  9.070336e-08,\n",
       "       -9.221574e-08,  9.508292e-08], dtype=float32),\n",
       "        array([-1.238224e-03,  1.470247e-03, -1.698910e-03, ...,  2.310369e-08,\n",
       "       -2.557549e-08,  3.109270e-08], dtype=float32),\n",
       "        array([-1.215653e-03,  1.376983e-03, -1.507436e-03, ..., -6.550400e-08,\n",
       "        6.903190e-08, -6.200916e-08], dtype=float32)],\n",
       "       [array([-8.521449e-04,  9.918184e-04, -1.122712e-03, ...,  1.318002e-07,\n",
       "       -9.939642e-08,  6.402969e-08], dtype=float32),\n",
       "        array([-1.734909e-03,  2.005067e-03, -2.242174e-03, ..., -2.741405e-08,\n",
       "        5.109046e-08, -7.385513e-08], dtype=float32),\n",
       "        array([ 1.031760e-03, -1.258899e-03,  1.490502e-03, ..., -1.406821e-07,\n",
       "        1.325724e-07, -1.207841e-07], dtype=float32),\n",
       "        ...,\n",
       "        array([-1.089327e-03,  1.308353e-03, -1.505360e-03, ..., -3.824901e-08,\n",
       "        2.875007e-08, -1.983473e-08], dtype=float32),\n",
       "        array([ 2.674410e-04, -3.082435e-04,  3.445734e-04, ...,  5.828550e-08,\n",
       "       -6.258702e-08,  6.638162e-08], dtype=float32),\n",
       "        array([ 1.511648e-03, -1.834236e-03,  2.147300e-03, ...,  1.581853e-07,\n",
       "       -1.548079e-07,  1.475920e-07], dtype=float32)]], dtype=object)\n",
       "Coordinates:\n",
       "  * beam       (beam) object '' '' '' '' '' '' '' '' '' '' '' '' '' '' '' '' ...\n",
       "  * ping_time  (ping_time) uint64 131545578247927373 131545578272146253 ...\n",
       "Attributes:\n",
       "    long_name:  Raw backscatter measurements (imaginary part)\n",
       "    units:      VA"
      ]
     },
     "execution_count": 25,
     "metadata": {},
     "output_type": "execute_result"
    }
   ],
   "source": [
    "ds_sonar_beamgrp1.backscatter_i"
   ]
  },
  {
   "cell_type": "code",
   "execution_count": 24,
   "metadata": {
    "scrolled": true
   },
   "outputs": [
    {
     "data": {
      "text/plain": [
       "<xarray.DataArray 'beam_direction_x' (ping_time: 31, beam: 64)>\n",
       "array([[-0.815986, -0.849672, -0.875175, ..., -0.669452, -0.72544 , -0.774442],\n",
       "       [-0.809192, -0.842597, -0.867887, ..., -0.663877, -0.7194  , -0.767994],\n",
       "       [-0.809192, -0.842597, -0.867887, ..., -0.663877, -0.7194  , -0.767994],\n",
       "       ...,\n",
       "       [-0.796055, -0.828918, -0.853798, ..., -0.6531  , -0.707721, -0.755526],\n",
       "       [-0.796055, -0.828918, -0.853798, ..., -0.6531  , -0.707721, -0.755526],\n",
       "       [-0.796055, -0.828918, -0.853798, ..., -0.6531  , -0.707721, -0.755526]],\n",
       "      dtype=float32)\n",
       "Coordinates:\n",
       "  * beam       (beam) object '' '' '' '' '' '' '' '' '' '' '' '' '' '' '' '' ...\n",
       "  * ping_time  (ping_time) uint64 131545578247927373 131545578272146253 ...\n",
       "Attributes:\n",
       "    long_name:    x-component of the vector that gives the pointing direction...\n",
       "    units:        1\n",
       "    valid_range:  -1.0,1.0"
      ]
     },
     "execution_count": 24,
     "metadata": {},
     "output_type": "execute_result"
    }
   ],
   "source": [
    "ds_sonar_beamgrp1.beam_direction_x"
   ]
  },
  {
   "cell_type": "code",
   "execution_count": null,
   "metadata": {},
   "outputs": [],
   "source": []
  },
  {
   "cell_type": "code",
   "execution_count": 35,
   "metadata": {},
   "outputs": [],
   "source": [
    "import datetime as dt"
   ]
  },
  {
   "cell_type": "code",
   "execution_count": 39,
   "metadata": {},
   "outputs": [],
   "source": [
    "time_obj = dt.datetime(2018,9,15,13,19,20)"
   ]
  },
  {
   "cell_type": "code",
   "execution_count": 47,
   "metadata": {},
   "outputs": [],
   "source": [
    "time_obj.tzinfo"
   ]
  },
  {
   "cell_type": "code",
   "execution_count": 42,
   "metadata": {},
   "outputs": [
    {
     "data": {
      "text/plain": [
       "<datetime.tzinfo at 0x10a7dad40>"
      ]
     },
     "execution_count": 42,
     "metadata": {},
     "output_type": "execute_result"
    }
   ],
   "source": [
    "dt.tzinfo(time_obj)"
   ]
  },
  {
   "cell_type": "code",
   "execution_count": 60,
   "metadata": {},
   "outputs": [
    {
     "data": {
      "text/plain": [
       "'2018-09-15T13:19:20Z'"
      ]
     },
     "execution_count": 60,
     "metadata": {},
     "output_type": "execute_result"
    }
   ],
   "source": [
    "dt.datetime(2018,9,15,13,19,20).isoformat()+'Z'"
   ]
  },
  {
   "cell_type": "code",
   "execution_count": 59,
   "metadata": {},
   "outputs": [
    {
     "data": {
      "text/plain": [
       "datetime.datetime(2018, 9, 15, 20, 29, 59, 592539)"
      ]
     },
     "execution_count": 59,
     "metadata": {},
     "output_type": "execute_result"
    }
   ],
   "source": [
    "dt.datetime.utcnow()"
   ]
  },
  {
   "cell_type": "code",
   "execution_count": 53,
   "metadata": {},
   "outputs": [
    {
     "ename": "TypeError",
     "evalue": "descriptor 'tzname' of 'datetime.timezone' object needs an argument",
     "output_type": "error",
     "traceback": [
      "\u001b[0;31m---------------------------------------------------------------------------\u001b[0m",
      "\u001b[0;31mTypeError\u001b[0m                                 Traceback (most recent call last)",
      "\u001b[0;32m<ipython-input-53-3d77f3df6756>\u001b[0m in \u001b[0;36m<module>\u001b[0;34m()\u001b[0m\n\u001b[0;32m----> 1\u001b[0;31m \u001b[0mdt\u001b[0m\u001b[0;34m.\u001b[0m\u001b[0mtimezone\u001b[0m\u001b[0;34m.\u001b[0m\u001b[0mtzname\u001b[0m\u001b[0;34m(\u001b[0m\u001b[0;34m)\u001b[0m\u001b[0;34m\u001b[0m\u001b[0m\n\u001b[0m",
      "\u001b[0;31mTypeError\u001b[0m: descriptor 'tzname' of 'datetime.timezone' object needs an argument"
     ]
    }
   ],
   "source": [
    "dt.timezone.tzname()"
   ]
  },
  {
   "cell_type": "code",
   "execution_count": null,
   "metadata": {},
   "outputs": [],
   "source": []
  },
  {
   "cell_type": "code",
   "execution_count": null,
   "metadata": {},
   "outputs": [],
   "source": []
  },
  {
   "cell_type": "code",
   "execution_count": null,
   "metadata": {},
   "outputs": [],
   "source": []
  },
  {
   "cell_type": "code",
   "execution_count": 92,
   "metadata": {},
   "outputs": [],
   "source": [
    "# Attributes\n",
    "attrs_dict = dict()\n",
    "attrs_dict['Conventions'] = \"CF-1.7, SONAR-netCDF4, ACDD-1.3\"\n",
    "attrs_dict['date_created'] = dt.datetime(2018,9,15,13,19,20).isoformat()+'Z'\n",
    "attrs_dict['keywords'] = \"EK60\"\n",
    "attrs_dict['sonar_convention_authority'] = \"ICES\"\n",
    "attrs_dict['sonar_convention_name'] = \"SONAR-netCDF4\"\n",
    "attrs_dict['sonar_convention_version'] = \"1.7\"\n",
    "attrs_dict['summary'] = \"some test data\"\n",
    "attrs_dict['title'] = \"Files generated by the XYZ sonar\""
   ]
  },
  {
   "cell_type": "code",
   "execution_count": 93,
   "metadata": {
    "scrolled": true
   },
   "outputs": [
    {
     "data": {
      "text/plain": [
       "{'Conventions': 'CF-1.7, SONAR-netCDF4, ACDD-1.3',\n",
       " 'date_created': '2018-09-15T13:19:20Z',\n",
       " 'keywords': 'EK60',\n",
       " 'sonar_convention_authority': 'ICES',\n",
       " 'sonar_convention_name': 'SONAR-netCDF4',\n",
       " 'sonar_convention_version': '1.7',\n",
       " 'summary': 'some test data',\n",
       " 'title': 'Files generated by the XYZ sonar'}"
      ]
     },
     "execution_count": 93,
     "metadata": {},
     "output_type": "execute_result"
    }
   ],
   "source": [
    "attrs_dict"
   ]
  },
  {
   "cell_type": "code",
   "execution_count": 76,
   "metadata": {},
   "outputs": [],
   "source": [
    "# Open up .nc file for writing\n",
    "ncfile2 = netCDF4.Dataset(\"./test2.nc\", \"w\", format=\"NETCDF4\")"
   ]
  },
  {
   "cell_type": "code",
   "execution_count": 77,
   "metadata": {
    "scrolled": true
   },
   "outputs": [
    {
     "data": {
      "text/plain": [
       "[None, None, None, None, None, None, None]"
      ]
     },
     "execution_count": 77,
     "metadata": {},
     "output_type": "execute_result"
    }
   ],
   "source": [
    "[ncfile2.setncattr(k, v) for k, v in attrs_dict.items()]"
   ]
  },
  {
   "cell_type": "code",
   "execution_count": 78,
   "metadata": {},
   "outputs": [
    {
     "data": {
      "text/plain": [
       "<class 'netCDF4._netCDF4.Dataset'>\n",
       "root group (NETCDF4 data model, file format HDF5):\n",
       "    Conventions: CF-1.7, SONAR-netCDF4, ACDD-1.3\n",
       "    date_created: 2018-09-15T13:19:20Z\n",
       "    keywords: EK60\n",
       "    sonar_convention_authority: ICES\n",
       "    sonar_convention_name: SONAR-netCDF4\n",
       "    sonar_convention_version: 1.7\n",
       "    summary: some test data\n",
       "    dimensions(sizes): \n",
       "    variables(dimensions): \n",
       "    groups: "
      ]
     },
     "execution_count": 78,
     "metadata": {},
     "output_type": "execute_result"
    }
   ],
   "source": [
    "ncfile2"
   ]
  },
  {
   "cell_type": "code",
   "execution_count": 79,
   "metadata": {},
   "outputs": [],
   "source": [
    "ncfile2.setncattr('test_key', 'test_value')"
   ]
  },
  {
   "cell_type": "code",
   "execution_count": 82,
   "metadata": {},
   "outputs": [],
   "source": [
    "a = ncfile2.setncattr('test_key2', 'test_value2')\n",
    "a"
   ]
  },
  {
   "cell_type": "code",
   "execution_count": 81,
   "metadata": {},
   "outputs": [
    {
     "name": "stdout",
     "output_type": "stream",
     "text": [
      "None\n"
     ]
    }
   ],
   "source": [
    "print(ncfile2.setncattr('test_key2', 'test_value2'))"
   ]
  },
  {
   "cell_type": "code",
   "execution_count": 89,
   "metadata": {},
   "outputs": [
    {
     "name": "stdout",
     "output_type": "stream",
     "text": [
      "success\n"
     ]
    }
   ],
   "source": [
    "try:\n",
    "    [ncfile2.setncattr(k, v) for k, v in attrs_dict.items()]\n",
    "    print('success')\n",
    "except:\n",
    "    print('otherwise')"
   ]
  },
  {
   "cell_type": "code",
   "execution_count": 91,
   "metadata": {},
   "outputs": [],
   "source": [
    "with netCDF4.Dataset(\"./test3.nc\", \"w\", format=\"NETCDF4\") as ncfile3:\n",
    "    [ncfile3.setncattr(k, v) for k, v in attrs_dict.items()]"
   ]
  },
  {
   "cell_type": "code",
   "execution_count": null,
   "metadata": {},
   "outputs": [],
   "source": []
  },
  {
   "cell_type": "code",
   "execution_count": 69,
   "metadata": {},
   "outputs": [
    {
     "name": "stdout",
     "output_type": "stream",
     "text": [
      "('Conventions', 'CF-1.7, SONAR-netCDF4, ACDD-1.3')\n",
      "('date_created', '2018-09-15T13:19:20Z')\n",
      "('keywords', 'EK60')\n",
      "('sonar_convention_authority', 'ICES')\n",
      "('sonar_convention_name', 'SONAR-netCDF4')\n",
      "('sonar_convention_version', '1.7')\n",
      "('summary', 'some test data')\n"
     ]
    }
   ],
   "source": [
    "for kv in attrs_dict.items():\n",
    "    ncfile.setncattr(kk,vv)"
   ]
  },
  {
   "cell_type": "code",
   "execution_count": null,
   "metadata": {},
   "outputs": [],
   "source": [
    "# Attributes\n",
    "ncfile.Conventions = \"CF-1.7, SONAR-netCDF4, ACDD-1.3\"\n",
    "ncfile.date_created = date_created\n",
    "ncfile.keywords = \"EK60\"\n",
    "ncfile.sonar_convention_authority = \"ICES\"\n",
    "ncfile.sonar_convention_name = \"SONAR-netCDF4\"\n",
    "ncfile.sonar_convention_version = \"1.7\"\n",
    "ncfile.summary = \"some test data\""
   ]
  },
  {
   "cell_type": "code",
   "execution_count": 64,
   "metadata": {},
   "outputs": [
    {
     "data": {
      "text/plain": [
       "'/Users/wu-jung/code_git/echopype'"
      ]
     },
     "execution_count": 64,
     "metadata": {},
     "output_type": "execute_result"
    }
   ],
   "source": [
    "pwd"
   ]
  },
  {
   "cell_type": "code",
   "execution_count": null,
   "metadata": {},
   "outputs": [],
   "source": []
  },
  {
   "cell_type": "code",
   "execution_count": null,
   "metadata": {},
   "outputs": [],
   "source": []
  },
  {
   "cell_type": "code",
   "execution_count": null,
   "metadata": {},
   "outputs": [],
   "source": []
  }
 ],
 "metadata": {
  "kernelspec": {
   "display_name": "Python3 sonar",
   "language": "python",
   "name": "sonar"
  },
  "language_info": {
   "codemirror_mode": {
    "name": "ipython",
    "version": 3
   },
   "file_extension": ".py",
   "mimetype": "text/x-python",
   "name": "python",
   "nbconvert_exporter": "python",
   "pygments_lexer": "ipython3",
   "version": "3.6.3"
  }
 },
 "nbformat": 4,
 "nbformat_minor": 2
}
