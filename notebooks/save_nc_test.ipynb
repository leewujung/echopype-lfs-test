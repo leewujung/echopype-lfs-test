{
 "cells": [
  {
   "cell_type": "code",
   "execution_count": 1,
   "metadata": {},
   "outputs": [],
   "source": [
    "import netCDF4\n",
    "import numpy as np\n",
    "import matplotlib.pyplot as plt"
   ]
  },
  {
   "cell_type": "code",
   "execution_count": 2,
   "metadata": {},
   "outputs": [],
   "source": [
    "import datetime, time\n",
    "# calculate the offset taking into account daylight saving time\n",
    "utc_offset_sec = time.altzone if time.localtime().tm_isdst else time.timezone\n",
    "utc_offset = datetime.timedelta(seconds=-utc_offset_sec)\n",
    "date_created = datetime.datetime.now().replace(tzinfo=datetime.timezone(offset=utc_offset)).isoformat(timespec='seconds')"
   ]
  },
  {
   "cell_type": "markdown",
   "metadata": {},
   "source": [
    "## Create .nc file"
   ]
  },
  {
   "cell_type": "code",
   "execution_count": 3,
   "metadata": {},
   "outputs": [],
   "source": [
    "# Open up .nc file for writing\n",
    "ncfile = netCDF4.Dataset(\"../test.nc\", \"w\", format=\"NETCDF4\")"
   ]
  },
  {
   "cell_type": "code",
   "execution_count": 4,
   "metadata": {},
   "outputs": [
    {
     "name": "stdout",
     "output_type": "stream",
     "text": [
      "<class 'netCDF4._netCDF4.Dataset'>\n",
      "root group (NETCDF4 data model, file format HDF5):\n",
      "    dimensions(sizes): \n",
      "    variables(dimensions): \n",
      "    groups: \n",
      "\n"
     ]
    }
   ],
   "source": [
    "print(ncfile)"
   ]
  },
  {
   "cell_type": "markdown",
   "metadata": {},
   "source": [
    "## Create all groups"
   ]
  },
  {
   "cell_type": "code",
   "execution_count": 5,
   "metadata": {},
   "outputs": [],
   "source": [
    "# Create all groups\n",
    "annotation  = ncfile.createGroup(\"Annotation\")\n",
    "environment = ncfile.createGroup(\"Environment\")\n",
    "platform    = ncfile.createGroup(\"Platform\")\n",
    "provenance  = ncfile.createGroup(\"Provenance\")\n",
    "sonar       = ncfile.createGroup(\"Sonar\")\n",
    "beam1       = ncfile.createGroup(\"Sonar/Beam_group1\")\n",
    "vendor      = ncfile.createGroup(\"Vendor specific\")"
   ]
  },
  {
   "cell_type": "markdown",
   "metadata": {},
   "source": [
    "## Top-level group\n",
    "Everything in the Top-level group from SONAR-netCDF4 v1.7 is implemented."
   ]
  },
  {
   "cell_type": "code",
   "execution_count": 6,
   "metadata": {},
   "outputs": [],
   "source": [
    "# Top-level group\n",
    "ncfile.Conventions = \"CF-1.7, SONAR-netCDF4, ACDD-1.3\"\n",
    "ncfile.date_created = date_created\n",
    "ncfile.keywords = \"EK60\"\n",
    "ncfile.sonar_convention_authority = \"ICES\"\n",
    "ncfile.sonar_convention_name = \"SONAR-netCDF4\"\n",
    "ncfile.sonar_convention_version = \"1.7\"\n",
    "ncfile.summary = \"some test data\""
   ]
  },
  {
   "cell_type": "code",
   "execution_count": 7,
   "metadata": {},
   "outputs": [
    {
     "name": "stdout",
     "output_type": "stream",
     "text": [
      "<class 'netCDF4._netCDF4.Dataset'>\n",
      "root group (NETCDF4 data model, file format HDF5):\n",
      "    Conventions: CF-1.7, SONAR-netCDF4, ACDD-1.3\n",
      "    date_created: 2018-04-22T13:49:58-07:00\n",
      "    keywords: EK60\n",
      "    sonar_convention_authority: ICES\n",
      "    sonar_convention_name: SONAR-netCDF4\n",
      "    sonar_convention_version: 1.7\n",
      "    summary: some test data\n",
      "    dimensions(sizes): \n",
      "    variables(dimensions): \n",
      "    groups: Annotation, Environment, Platform, Provenance, Sonar, Vendor specific\n",
      "\n"
     ]
    }
   ],
   "source": [
    "print(ncfile)"
   ]
  },
  {
   "cell_type": "markdown",
   "metadata": {},
   "source": [
    "## Environment group\n",
    "Everything in the Environment group from SONAR-netCDF4 v1.7 is implemented."
   ]
  },
  {
   "cell_type": "code",
   "execution_count": 8,
   "metadata": {},
   "outputs": [],
   "source": [
    "# Environment group\n",
    "# Dimensions\n",
    "frequency_dim = environment.createDimension(\"frequency\",None)\n",
    "\n",
    "# Coordinate variables\n",
    "frequency = environment.createVariable(\"frequency\",\"f8\",(\"frequency\",))\n",
    "frequency.long_name = \"Acoustic frequency\"\n",
    "frequency.standard_name = \"sound_frequency\"\n",
    "frequency.units = \"Hz\"\n",
    "frequency.valid_min = 0.0\n",
    "\n",
    "# Variables\n",
    "env_absorption = environment.createVariable(\"absorption_indicative\",\"f8\",(\"frequency\",))\n",
    "env_absorption.long_name = \"Indicative acoustic absorption\"\n",
    "env_absorption.units = \"dB/m\"\n",
    "env_absorption.valid_min = 0.0\n",
    "\n",
    "env_sound_speed = environment.createVariable(\"sound_speed_indicative\",\"f8\",(\"frequency\",))\n",
    "env_sound_speed.long_name = \"Indicative sound speed\"\n",
    "env_sound_speed.standard_name = \"speed_of_sound_in_sea_water\"\n",
    "env_sound_speed.units = \"m/s\"\n",
    "env_sound_speed.valid_min = 0.0"
   ]
  },
  {
   "cell_type": "code",
   "execution_count": 9,
   "metadata": {},
   "outputs": [
    {
     "name": "stdout",
     "output_type": "stream",
     "text": [
      "<class 'netCDF4._netCDF4.Group'>\n",
      "group /Environment:\n",
      "    dimensions(sizes): frequency(0)\n",
      "    variables(dimensions): float64 \u001b[4mfrequency\u001b[0m(frequency), float64 \u001b[4mabsorption_indicative\u001b[0m(frequency), float64 \u001b[4msound_speed_indicative\u001b[0m(frequency)\n",
      "    groups: \n",
      "\n"
     ]
    }
   ],
   "source": [
    "print(environment)"
   ]
  },
  {
   "cell_type": "markdown",
   "metadata": {},
   "source": [
    "## Provenance group\n",
    "Everything in the Provenance group from SONAR-netCDF4 v1.7 is implemented."
   ]
  },
  {
   "cell_type": "code",
   "execution_count": 10,
   "metadata": {},
   "outputs": [],
   "source": [
    "# Provenance group\n",
    "# Group attributes\n",
    "provenance.conversion_software_name = \"\"\n",
    "provenance.conversion_software_version = \"\"\n",
    "provenance.conversion_time = \"\"\n",
    "# Dimensions\n",
    "filenames_dim = provenance.createDimension(\"filenames\",None)\n",
    "# Variables\n",
    "prov_src_fnames = provenance.createVariable(\"filenames\",str,\"filenames\")\n",
    "prov_src_fnames.long_name = \"Source filenames\""
   ]
  },
  {
   "cell_type": "code",
   "execution_count": 11,
   "metadata": {},
   "outputs": [
    {
     "name": "stdout",
     "output_type": "stream",
     "text": [
      "<class 'netCDF4._netCDF4.Group'>\n",
      "group /Provenance:\n",
      "    conversion_software_name: \n",
      "    conversion_software_version: \n",
      "    conversion_time: \n",
      "    dimensions(sizes): filenames(0)\n",
      "    variables(dimensions): <class 'str'> \u001b[4mfilenames\u001b[0m(filenames)\n",
      "    groups: \n",
      "\n"
     ]
    }
   ],
   "source": [
    "print(provenance)"
   ]
  },
  {
   "cell_type": "markdown",
   "metadata": {},
   "source": [
    "## Platform group\n",
    "The Platform group from SONAR-netCDF4 v1.7 is not implemented yet."
   ]
  },
  {
   "cell_type": "markdown",
   "metadata": {},
   "source": [
    "### *QUESTION: Environment- and platform-related variables recorded at each ping\n",
    "For echosounders, many variables, such as temperature, pitch/heave/roll, and lat/lon are recorded along with each ping. With the current organization of information, these should be recorded under `/Sonar/Beam_groupX`. However the essence of these variables are actually related to the environment and the platform. But unless there is a variable (something like \"base_ping_time\") that is on the top-level, it doesn't make sense to record them in the `Environment` group and `Platform` group.\n",
    "\n",
    "What do you think would be the best way to approach this? Here I put them under `/Sonar/Beam_groupX`."
   ]
  },
  {
   "cell_type": "markdown",
   "metadata": {},
   "source": [
    "## Sonar group\n",
    "The Sonar group from SONAR-netCDF4 v1.7 is partially implemented below.\n",
    "\n",
    "Anything that is related to the conversion equation for using the data has not been implemented.\n",
    "\n",
    "I added the `sample_interval` Dimension and Coordinate Variable in the subgroup `/Sonar/Beam_groupX` so that it can be used to span the backscatter data and all associated data that are recorded on a ping-by-ping basis."
   ]
  },
  {
   "cell_type": "code",
   "execution_count": 12,
   "metadata": {},
   "outputs": [],
   "source": [
    "# Sonar group\n",
    "# Global attributes\n",
    "sonar.sonar_manufacturer = \"Simrad\"\n",
    "sonar.sonar_model = \"EK60\"\n",
    "sonar.sonar_serial_number = \"\"\n",
    "sonar.sonar_software_name = \"\"\n",
    "sonar.sonar_software_version = \"\"\n",
    "sonar.sonar_type = \"echosounde\""
   ]
  },
  {
   "cell_type": "code",
   "execution_count": 13,
   "metadata": {},
   "outputs": [],
   "source": [
    "# Types: enum\n",
    "sonar_beam_stab_dict = {b'not_stabilised':0, b'stabilised':1}\n",
    "sonar_beam_type_dict = {b'single':0, b'split_aperture':1}\n",
    "# sonar_convert_eq_dict = {b'type_1':1, b'type_2':2}\n",
    "sonar_transmit_dict = {b'CW':0, b'LFM':1, b'HFM':2}"
   ]
  },
  {
   "cell_type": "code",
   "execution_count": 14,
   "metadata": {},
   "outputs": [],
   "source": [
    "sonar_beam_stab = sonar.createEnumType(np.uint8,'beam_stabilisation_t',sonar_beam_stab_dict)\n",
    "sonar_beam_type = sonar.createEnumType(np.uint8,'beam_t',sonar_beam_type_dict)\n",
    "# sonar_convert_eq = sonar.createEnumType(np.uint8,'conversion_eq',sonar_convert_eq_dict)\n",
    "sonar_transmit = sonar.createEnumType(np.uint8,'transmit_t',sonar_transmit_dict)"
   ]
  },
  {
   "cell_type": "markdown",
   "metadata": {},
   "source": [
    "### *QUESTION: How `backscatter_i` and `backscatter_r` are recorded under /Sonar/Beam_groupX\n",
    "The SONAR-netCDF4 format recommends using a variable length data type `sample_t` to store backscatter data of each ping and beam. For echosounder data, the length of each ping should be identical within each beam or transducer. It seems more convenient to record `backscatter_i` and `backscatter_r` as 2D array with dimension [ping_time, sample_interval] if there is only 1 beam, or 3D array, with dimension  [beam, ping_time, sample_interval] if there are multiple beams in the same group.\n",
    "\n",
    "The above is related to another question I have: what is `sample_interval` not a Dimension and Coordinate variable?"
   ]
  },
  {
   "cell_type": "markdown",
   "metadata": {},
   "source": [
    "## Sonar/Beam_group1\n",
    "\n",
    "### Beamwidth\n",
    "The SONAR-netCDF4 format recommends 4 variables: `beamwidth_receive_major`, `beamwidth_receive_minor`, `beamwidth_transmit_major`, `beamwidth_transmit_minor`. Here I simplified them to be just two `beamwidth_alongship` and `beamwidth_athwartship` to conform with the EK terminology.\n",
    "\n",
    "### Transducer position\n",
    "The vector that gives the transducer position in the ship coordinate\n",
    "\n",
    "### Calibration-related\n",
    "- use the variable `gain_correction` to store a scalar `gain` variable that comes with EK60 data.\n",
    "- added the variable `sa_correction` that comes with EK60 data.\n",
    "\n",
    "### Transmit\n",
    "- use `transmit_duration_nominal` to store `pulse_length` from EK60 data\n",
    "- `transmit_frequency_start` and `transmit_frequency_stop` are identical for EK60 since it's a single frequency system\n",
    "\n",
    "### Angles\n",
    "- added `beam1_angle_along` and `beam1_angle_athwart` to record electronic angle for each ping and range bin\n",
    "- added `beam1_angle_sens_along`, `beam1_angle_sens_athwart`, `beam1_angle_offset_along`, `beam1_angle_offset_athwart` for converting electronic angle to mechanical angle.\n",
    "\n",
    "### Others\n",
    "- added `heave`, `roll`, and `pitch` to record ship motion if available in EK60 data. **Need to find out their units in the files**."
   ]
  },
  {
   "cell_type": "code",
   "execution_count": 15,
   "metadata": {},
   "outputs": [],
   "source": [
    "beam1.beam_mode = \"vertical\"\n",
    "# beam1.conversion_equation_t = sonar_convert_eq_dict[b'type_1']"
   ]
  },
  {
   "cell_type": "code",
   "execution_count": 16,
   "metadata": {},
   "outputs": [],
   "source": [
    "# Dimensions\n",
    "beam1_beam_dim = beam1.createDimension(\"beam\", 1)\n",
    "beam1_ping_time_dim = beam1.createDimension(\"ping_time\",None)\n",
    "beam1_range_bin_dim = beam1.createDimension(\"range_bin\",None)"
   ]
  },
  {
   "cell_type": "code",
   "execution_count": 17,
   "metadata": {},
   "outputs": [],
   "source": [
    "# Coordinate variables\n",
    "beam1_beam = beam1.createVariable(\"beam\",str,(\"beam\",))\n",
    "beam1_beam.long_name = \"Beam name\"\n",
    "\n",
    "beam1_ping_time = beam1.createVariable(\"ping_time\",\"f8\",(\"ping_time\",))\n",
    "beam1_ping_time.axis = \"T\"\n",
    "beam1_ping_time.calendar = \"gregorian\"\n",
    "beam1_ping_time.long_name = \"Timestamp of each ping\"\n",
    "beam1_ping_time.standard_name = \"time\"\n",
    "beam1_ping_time.units = \"nanoseconds since 1601-01-01 00:00:00Z\"\n",
    "\n",
    "beam1_range_bin = beam1.createVariable(\"range_bin\",\"u8\",(\"range_bin\",))\n",
    "beam1_range_bin.long_name = \"Bin number that can be converted to range of the recorded raw data samples\"\n",
    "beam1_range_bin.standard_name = \"range_bin\"\n",
    "beam1_range_bin.units = \"1\"\n",
    "beam1_range_bin.valid_min = 0"
   ]
  },
  {
   "cell_type": "code",
   "execution_count": 18,
   "metadata": {},
   "outputs": [],
   "source": [
    "# Variables\n",
    "beam1_backscatter_r = beam1.createVariable(\"backscatter_r\",\"f8\",(\"ping_time\",\"range_bin\"))\n",
    "beam1_backscatter_r.long_name = \"Raw backscatter measurements (real part)\"\n",
    "beam1_backscatter_r.units = \"power (uncalibrated)\"\n",
    "beam1_backscatter_r.units_scale = \"linear\""
   ]
  },
  {
   "cell_type": "code",
   "execution_count": 19,
   "metadata": {},
   "outputs": [],
   "source": [
    "beam1_angle_along = beam1.createVariable(\"angle_along\",\"f8\",(\"ping_time\",\"range_bin\"))\n",
    "beam1_angle_along.long_name = \"Electronic angle alongship\"\n",
    "beam1_angle_athwart = beam1.createVariable(\"angle_athwart\",\"f8\",(\"ping_time\",\"range_bin\"))\n",
    "beam1_angle_athwart.long_name = \"Electronic angle athwartship\""
   ]
  },
  {
   "cell_type": "code",
   "execution_count": 20,
   "metadata": {},
   "outputs": [],
   "source": [
    "beam1_heave = beam1.createVariable(\"heave\",\"f8\",(\"ping_time\",))\n",
    "beam1_roll = beam1.createVariable(\"roll\",\"f8\",(\"ping_time\",))\n",
    "beam1_pitch = beam1.createVariable(\"pitch\",\"f8\",(\"ping_time\",))"
   ]
  },
  {
   "cell_type": "code",
   "execution_count": 21,
   "metadata": {},
   "outputs": [],
   "source": [
    "beam1_bw_along = beam1.createVariable(\"beamwidth_alongship\",\"f4\")\n",
    "beam1_bw_along.long_name = \"Half power beamwidth alongship\"\n",
    "beam1_bw_along.standard_name = \"beamwidth alongship\"\n",
    "beam1_bw_along.units = \"arc_degree\"\n",
    "beam1_bw_along.valid_range = (0.0, 360.0)\n",
    "\n",
    "beam1_bw_athwart = beam1.createVariable(\"beamwidth_athwartship\",\"f4\")\n",
    "beam1_bw_athwart.long_name = \"Half power beamwidth athwartship\"\n",
    "beam1_bw_athwart.standard_name = \"beamwidth alongship\"\n",
    "beam1_bw_athwart.units = \"arc_degree\"\n",
    "beam1_bw_athwart.valid_range = (0.0, 360.0)"
   ]
  },
  {
   "cell_type": "code",
   "execution_count": 22,
   "metadata": {},
   "outputs": [],
   "source": [
    "beam1_dir_x = beam1.createVariable(\"beam_direction_x\",\"f4\")\n",
    "beam1_dir_x.long_name = \"x-component of the vector that gives the pointing direction of the beam, in sonar beam coorindate system\"\n",
    "beam1_dir_x.units = \"1\"\n",
    "beam1_dir_x.valid_range = (-1.0,1.0)\n",
    "\n",
    "beam1_dir_y = beam1.createVariable(\"beam_direction_y\",\"f4\")\n",
    "beam1_dir_y.long_name = \"y-component of the vector that gives the pointing direction of the beam, in sonar beam coorindate system\"\n",
    "beam1_dir_y.units = \"1\"\n",
    "beam1_dir_y.valid_range = (-1.0,1.0)\n",
    "\n",
    "beam1_dir_z = beam1.createVariable(\"beam_direction_z\",\"f4\")\n",
    "beam1_dir_z.long_name = \"z-component of the vector that gives the pointing direction of the beam, in sonar beam coorindate system\"\n",
    "beam1_dir_z.units = \"1\"\n",
    "beam1_dir_z.valid_range = (-1.0,1.0)"
   ]
  },
  {
   "cell_type": "code",
   "execution_count": 23,
   "metadata": {},
   "outputs": [],
   "source": [
    "beam1_pos_x = beam1.createVariable(\"transducer_position_x\",\"f4\")\n",
    "beam1_pos_x.long_name = \"x-component of the vector that gives the transducer position in the ship coordinate\"\n",
    "beam1_pos_x.units = \"m\"\n",
    "beam1_pos_x.valid_min = 0.0\n",
    "\n",
    "beam1_pos_y = beam1.createVariable(\"transducer_position_y\",\"f4\")\n",
    "beam1_pos_y.long_name = \"y-component of the vector that gives the transducer position in the ship coordinate\"\n",
    "beam1_pos_y.units = \"m\"\n",
    "beam1_pos_y.valid_min = 0.0\n",
    "\n",
    "beam1_pos_z = beam1.createVariable(\"transducer_position_z\",\"f4\")\n",
    "beam1_pos_z.long_name = \"z-component of the vector that gives the transducer position in the ship coordinate\"\n",
    "beam1_pos_z.units = \"m\"\n",
    "beam1_pos_z.valid_min = 0.0"
   ]
  },
  {
   "cell_type": "code",
   "execution_count": 24,
   "metadata": {},
   "outputs": [],
   "source": [
    "beam1_transducer_depth = beam1.createVariable(\"transducer_depth\",\"f4\")\n",
    "beam1_pos_z.long_name = \"Depth of transducer\"\n",
    "beam1_pos_z.units = \"m\"\n",
    "beam1_pos_z.valid_min = 0.0"
   ]
  },
  {
   "cell_type": "code",
   "execution_count": 25,
   "metadata": {},
   "outputs": [],
   "source": [
    "beam1_stab = beam1.createVariable(\"beam_stabilisation\",sonar_beam_stab)\n",
    "beam1_stab.long_name = \"Beam stabilisation applied (or not)\""
   ]
  },
  {
   "cell_type": "code",
   "execution_count": 26,
   "metadata": {},
   "outputs": [],
   "source": [
    "beam1_type = beam1.createVariable(\"beam_type\",sonar_beam_type)\n",
    "beam1_type.long_name = \"Type of beam\""
   ]
  },
  {
   "cell_type": "code",
   "execution_count": 27,
   "metadata": {},
   "outputs": [],
   "source": [
    "beam1_equiv_beam = beam1.createVariable(\"equivalent_beam_angle\",\"f8\")\n",
    "beam1_equiv_beam.long_name = \"Equivalent beam angle\"\n",
    "beam1_equiv_beam.units = \"sr\"\n",
    "beam1_equiv_beam.valid_range = (0,4*np.pi)"
   ]
  },
  {
   "cell_type": "code",
   "execution_count": 28,
   "metadata": {},
   "outputs": [],
   "source": [
    "beam1_gain = beam1.createVariable(\"gain_correction\",\"f8\")  # this is a scalar for EK60\n",
    "beam1_gain.long_name = \"Gain correction\"\n",
    "beam1_gain.units = \"dB\""
   ]
  },
  {
   "cell_type": "code",
   "execution_count": 29,
   "metadata": {},
   "outputs": [],
   "source": [
    "beam1_sa_corr = beam1.createVariable(\"sa_correction\",\"f8\")  # this is a scalar for EK60\n",
    "beam1_sa_corr.long_name = \"Sa correction factor\"\n",
    "beam1_sa_corr.units = \"dB\""
   ]
  },
  {
   "cell_type": "code",
   "execution_count": 30,
   "metadata": {},
   "outputs": [],
   "source": [
    "beam1_bandwidth = beam1.createVariable(\"transmit_bandwith\",\"f8\")  # this is a scalar for EK60\n",
    "beam1_bandwidth.long_name = \"Nominal bandwidth of transmitted pulse\"\n",
    "beam1_bandwidth.units = \"Hz\"\n",
    "beam1_bandwidth.valid_min = 0.0"
   ]
  },
  {
   "cell_type": "code",
   "execution_count": 31,
   "metadata": {},
   "outputs": [],
   "source": [
    "beam1_pulse_length = beam1.createVariable(\"transmit_duration_nominal\",\"f8\")  # this is a scalar for EK60\n",
    "beam1_pulse_length.long_name = \"Nominal duration of transmitted pulse\"\n",
    "beam1_pulse_length.units = \"s\"\n",
    "beam1_pulse_length.valid_min = 0.0"
   ]
  },
  {
   "cell_type": "code",
   "execution_count": 32,
   "metadata": {},
   "outputs": [],
   "source": [
    "beam1_freq_start = beam1.createVariable(\"transmit_frequency_start\",\"f8\")  # this is a scalar for EK60\n",
    "beam1_freq_start.long_name = \"Start frequency in transmitted pulse\"\n",
    "beam1_freq_start.standard_name = \"sound_frequency\"\n",
    "beam1_freq_start.units = \"Hz\"\n",
    "beam1_freq_start.valid_min = 0.0"
   ]
  },
  {
   "cell_type": "code",
   "execution_count": 33,
   "metadata": {},
   "outputs": [],
   "source": [
    "beam1_freq_stop = beam1.createVariable(\"transmit_frequency_stop\",\"f8\")  # this is a scalar for EK60\n",
    "beam1_freq_stop.long_name = \"Stop frequency in transmitted pulse\"\n",
    "beam1_freq_stop.standard_name = \"sound_frequency\"\n",
    "beam1_freq_stop.units = \"Hz\"\n",
    "beam1_freq_stop.valid_min = 0.0"
   ]
  },
  {
   "cell_type": "code",
   "execution_count": 34,
   "metadata": {},
   "outputs": [],
   "source": [
    "beam1_transmit_power = beam1.createVariable(\"transmit_power\",\"f8\")  # this is a scalar for EK60\n",
    "beam1_transmit_power.long_name = \"Nominal transmit power\"\n",
    "beam1_transmit_power.units = \"W\"\n",
    "beam1_transmit_power.valid_min = 0.0"
   ]
  },
  {
   "cell_type": "code",
   "execution_count": 35,
   "metadata": {},
   "outputs": [],
   "source": [
    "beam1_transmit_type = beam1.createVariable(\"transmit_type\",sonar_transmit)  # this is a scalar for EK60\n",
    "beam1_transmit_type.long_name = \"Type of transmitted pulse\""
   ]
  },
  {
   "cell_type": "code",
   "execution_count": 36,
   "metadata": {},
   "outputs": [],
   "source": [
    "beam1_angle_sens_along = beam1.createVariable(\"angle_sensitivity_alongship\",\"f8\")\n",
    "beam1_angle_sens_along.long_name = \"Sensitivity to convert alongship electronic angle to mechanical angle\"\n",
    "beam1_angle_sens_along.units = \"1\"\n",
    "beam1_angle_sens_athwart = beam1.createVariable(\"angle_sensitivity_athwartship\",\"f8\")\n",
    "beam1_angle_sens_athwart.long_name = \"Sensitivity to convert athwartship electronic angle to mechanical angle\"\n",
    "beam1_angle_sens_athwart.units = \"1\""
   ]
  },
  {
   "cell_type": "code",
   "execution_count": 37,
   "metadata": {},
   "outputs": [],
   "source": [
    "beam1_angle_offset_along = beam1.createVariable(\"angle_offset_alongship\",\"f8\")\n",
    "beam1_angle_offset_along.long_name = \"Offset needed to convert alongship electronic angle to mechanical angle\"\n",
    "beam1_angle_offset_along.units = \"arc_degree\"\n",
    "beam1_angle_offset_athwart = beam1.createVariable(\"angle_offset_athwartship\",\"f8\")\n",
    "beam1_angle_offset_athwart.long_name = \"Offset needed to convert athwartship electronic angle to mechanical angle\"\n",
    "beam1_angle_offset_athwart.units = \"arc_degree\""
   ]
  },
  {
   "cell_type": "code",
   "execution_count": 38,
   "metadata": {},
   "outputs": [
    {
     "name": "stdout",
     "output_type": "stream",
     "text": [
      "<class 'netCDF4._netCDF4.Group'>\n",
      "group /Sonar:\n",
      "    sonar_manufacturer: Simrad\n",
      "    sonar_model: EK60\n",
      "    sonar_serial_number: \n",
      "    sonar_software_name: \n",
      "    sonar_software_version: \n",
      "    sonar_type: echosounde\n",
      "    dimensions(sizes): \n",
      "    variables(dimensions): \n",
      "    groups: Beam_group1\n",
      "\n"
     ]
    }
   ],
   "source": [
    "print(sonar)"
   ]
  },
  {
   "cell_type": "code",
   "execution_count": 42,
   "metadata": {},
   "outputs": [
    {
     "name": "stdout",
     "output_type": "stream",
     "text": [
      "<class 'netCDF4._netCDF4.Group'>\n",
      "group /Sonar/Beam_group1:\n",
      "    beam_mode: vertical\n",
      "    dimensions(sizes): beam(1), ping_time(0), range_bin(0)\n",
      "    variables(dimensions): <class 'str'> \u001b[4mbeam\u001b[0m(beam), float64 \u001b[4mping_time\u001b[0m(ping_time), uint64 \u001b[4mrange_bin\u001b[0m(range_bin), float64 \u001b[4mbackscatter_r\u001b[0m(ping_time,range_bin), float64 \u001b[4mangle_along\u001b[0m(ping_time,range_bin), float64 \u001b[4mangle_athwart\u001b[0m(ping_time,range_bin), float64 \u001b[4mheave\u001b[0m(ping_time), float64 \u001b[4mroll\u001b[0m(ping_time), float64 \u001b[4mpitch\u001b[0m(ping_time), float32 \u001b[4mbeamwidth_alongship\u001b[0m(), float32 \u001b[4mbeamwidth_athwartship\u001b[0m(), float32 \u001b[4mbeam_direction_x\u001b[0m(), float32 \u001b[4mbeam_direction_y\u001b[0m(), float32 \u001b[4mbeam_direction_z\u001b[0m(), float32 \u001b[4mtransducer_position_x\u001b[0m(), float32 \u001b[4mtransducer_position_y\u001b[0m(), float32 \u001b[4mtransducer_position_z\u001b[0m(), float32 \u001b[4mtransducer_depth\u001b[0m(), uint8 \u001b[4mbeam_stabilisation\u001b[0m(), uint8 \u001b[4mbeam_type\u001b[0m(), float64 \u001b[4mequivalent_beam_angle\u001b[0m(), float64 \u001b[4mgain_correction\u001b[0m(), float64 \u001b[4msa_correction\u001b[0m(), float64 \u001b[4mtransmit_bandwith\u001b[0m(), float64 \u001b[4mtransmit_duration_nominal\u001b[0m(), float64 \u001b[4mtransmit_frequency_start\u001b[0m(), float64 \u001b[4mtransmit_frequency_stop\u001b[0m(), float64 \u001b[4mtransmit_power\u001b[0m(), uint8 \u001b[4mtransmit_type\u001b[0m(), float64 \u001b[4mangle_sensitivity_alongship\u001b[0m(), float64 \u001b[4mangle_sensitivity_athwartship\u001b[0m(), float64 \u001b[4mangle_offset_alongship\u001b[0m(), float64 \u001b[4mangle_offset_athwartship\u001b[0m()\n",
      "    groups: \n",
      "\n"
     ]
    }
   ],
   "source": [
    "print(beam1)"
   ]
  },
  {
   "cell_type": "code",
   "execution_count": null,
   "metadata": {},
   "outputs": [],
   "source": []
  },
  {
   "cell_type": "code",
   "execution_count": null,
   "metadata": {},
   "outputs": [],
   "source": []
  },
  {
   "cell_type": "code",
   "execution_count": null,
   "metadata": {},
   "outputs": [],
   "source": [
    "# Open up .nc file for writing\n",
    "rootgrp = netCDF4.Dataset(\"../test.nc\", \"w\", format=\"NETCDF4\")"
   ]
  },
  {
   "cell_type": "code",
   "execution_count": null,
   "metadata": {},
   "outputs": [],
   "source": [
    "print(rootgrp)"
   ]
  },
  {
   "cell_type": "code",
   "execution_count": null,
   "metadata": {},
   "outputs": [],
   "source": [
    "fcstgrp = rootgrp.createGroup(\"forecasts\")\n",
    "analgrp = rootgrp.createGroup(\"analyses\")"
   ]
  },
  {
   "cell_type": "code",
   "execution_count": null,
   "metadata": {},
   "outputs": [],
   "source": [
    "rootgrp.groups"
   ]
  },
  {
   "cell_type": "code",
   "execution_count": null,
   "metadata": {},
   "outputs": [],
   "source": [
    "fcstgrp1 = rootgrp.createGroup(\"/forecasts/model1\")\n",
    "fcstgrp2 = rootgrp.createGroup(\"/forecasts/model2\")"
   ]
  },
  {
   "cell_type": "code",
   "execution_count": null,
   "metadata": {},
   "outputs": [],
   "source": [
    "rootgrp.groups"
   ]
  },
  {
   "cell_type": "code",
   "execution_count": null,
   "metadata": {},
   "outputs": [],
   "source": [
    "for p in rootgrp.groups.values():\n",
    "    print(p)"
   ]
  },
  {
   "cell_type": "code",
   "execution_count": null,
   "metadata": {},
   "outputs": [],
   "source": [
    "# Generate random number to mimick echo and pitch/heave/roll data\n",
    "Sv = pitch = np.random.uniform(-80,-30,(1046,10000))"
   ]
  },
  {
   "cell_type": "code",
   "execution_count": null,
   "metadata": {},
   "outputs": [],
   "source": [
    "fig,ax = plt.subplots(1,2,figsize=(15,3))\n",
    "ax[0].imshow(Sv,aspect='auto')\n",
    "ax[1].imshow(pitch,aspect='auto')\n",
    "plt.show()"
   ]
  },
  {
   "cell_type": "code",
   "execution_count": null,
   "metadata": {},
   "outputs": [],
   "source": [
    "sz = Sv.shape\n",
    "sz"
   ]
  },
  {
   "cell_type": "code",
   "execution_count": null,
   "metadata": {},
   "outputs": [],
   "source": [
    "# Set dimensions --> all common for ADCP and sonar\n",
    "time = rootgrp.createDimension(\"time\", None)\n",
    "depth = rootgrp.createDimension(\"depth\", sz[0])\n",
    "longitude = rootgrp.createDimension(\"longitude\",180)\n",
    "latitude = rootgrp.createDimension(\"latitude\",180)"
   ]
  },
  {
   "cell_type": "code",
   "execution_count": null,
   "metadata": {},
   "outputs": [],
   "source": [
    "rootgrp.dimensions"
   ]
  },
  {
   "cell_type": "code",
   "execution_count": null,
   "metadata": {},
   "outputs": [],
   "source": [
    "for dimobj in rootgrp.dimensions.values():\n",
    "    print(dimobj)"
   ]
  },
  {
   "cell_type": "code",
   "execution_count": null,
   "metadata": {},
   "outputs": [],
   "source": [
    "depth.isunlimited()"
   ]
  },
  {
   "cell_type": "code",
   "execution_count": null,
   "metadata": {},
   "outputs": [],
   "source": [
    "# Create coordinate variables\n",
    "time = rootgrp.createVariable(\"time\",\"f8\",(\"time\",))\n",
    "depth = rootgrp.createVariable(\"depth\",\"f8\",(\"depth\",))\n",
    "latitude = rootgrp.createVariable(\"latitude_good\",\"f4\",(\"latitude\",))\n",
    "longitude = rootgrp.createVariable(\"longitude_good\",\"f4\",(\"longitude\",))"
   ]
  },
  {
   "cell_type": "code",
   "execution_count": null,
   "metadata": {},
   "outputs": [],
   "source": [
    "for dimobj in rootgrp.variables.values():\n",
    "    print(dimobj)"
   ]
  },
  {
   "cell_type": "code",
   "execution_count": null,
   "metadata": {},
   "outputs": [],
   "source": [
    "temp = rootgrp.createVariable(\"temp\",\"f4\",(\"time\",\"depth\"))"
   ]
  },
  {
   "cell_type": "code",
   "execution_count": null,
   "metadata": {},
   "outputs": [],
   "source": [
    "for dimobj in rootgrp.variables.values():\n",
    "    print(dimobj)"
   ]
  },
  {
   "cell_type": "code",
   "execution_count": null,
   "metadata": {},
   "outputs": [],
   "source": [
    "rootgrp.createVariable(\"/forecasts/model1/temp\",\"f4\",(\"time\",\"depth\",\"latitude\",\"longitude\",))"
   ]
  },
  {
   "cell_type": "code",
   "execution_count": null,
   "metadata": {},
   "outputs": [],
   "source": [
    "rootgrp[\"/forecasts/model1/temp\"]"
   ]
  },
  {
   "cell_type": "code",
   "execution_count": null,
   "metadata": {},
   "outputs": [],
   "source": [
    "rootgrp.variables"
   ]
  },
  {
   "cell_type": "code",
   "execution_count": null,
   "metadata": {},
   "outputs": [],
   "source": [
    "import time\n",
    "rootgrp.description = \"bogus example script\"\n",
    "rootgrp.history = \"Created \" + time.ctime(time.time())\n",
    "rootgrp.source = \"netCDF4 python module tutorial\"\n",
    "latitude.units = \"degrees north\"\n",
    "longitude.units = \"degrees east\"\n",
    "temp.units = \"K\"\n",
    "time.units = \"hours since 0001-01-01 00:00:00.0\"\n",
    "time.calendar = \"gregorian\""
   ]
  },
  {
   "cell_type": "code",
   "execution_count": null,
   "metadata": {},
   "outputs": [],
   "source": [
    "rootgrp"
   ]
  },
  {
   "cell_type": "code",
   "execution_count": null,
   "metadata": {},
   "outputs": [],
   "source": [
    "rootgrp.createVariable(\"transducer1/echo\",'f8',(\"time\",\"depth\"))"
   ]
  },
  {
   "cell_type": "code",
   "execution_count": null,
   "metadata": {},
   "outputs": [],
   "source": [
    "rootgrp[\"transducer1\"]"
   ]
  },
  {
   "cell_type": "code",
   "execution_count": null,
   "metadata": {},
   "outputs": [],
   "source": [
    "rootgrp.createGroup(\"transducer2\")"
   ]
  },
  {
   "cell_type": "code",
   "execution_count": null,
   "metadata": {},
   "outputs": [],
   "source": [
    "rootgrp[\"transducer2\"].createDimension(\"rand_dim\", 100)"
   ]
  },
  {
   "cell_type": "code",
   "execution_count": null,
   "metadata": {},
   "outputs": [],
   "source": [
    "rootgrp[\"transducer2\"]"
   ]
  },
  {
   "cell_type": "code",
   "execution_count": null,
   "metadata": {},
   "outputs": [],
   "source": [
    "rootgrp.createVariable(\"transducer2/rand_var\",'f8',(\"time\",\"rand_dim\"))"
   ]
  },
  {
   "cell_type": "code",
   "execution_count": null,
   "metadata": {},
   "outputs": [],
   "source": [
    "rootgrp.close()"
   ]
  },
  {
   "cell_type": "code",
   "execution_count": null,
   "metadata": {},
   "outputs": [],
   "source": [
    "dsnet = netCDF4.Dataset('/Users/wu-jung/code_git/echopype/test.nc')"
   ]
  },
  {
   "cell_type": "code",
   "execution_count": null,
   "metadata": {},
   "outputs": [],
   "source": [
    "dsnet"
   ]
  },
  {
   "cell_type": "code",
   "execution_count": null,
   "metadata": {},
   "outputs": [],
   "source": [
    "dsnet.createVariable(\"transducer2/time\",'f8',(\"time\"))\n",
    "dsnet.createVariable(\"transducer2/echo\",'f8',(\"time\",\"depth\"))"
   ]
  },
  {
   "cell_type": "code",
   "execution_count": null,
   "metadata": {},
   "outputs": [],
   "source": [
    "dsnet = netCDF4.Dataset('/Users/wu-jung/code_git/echopype/test3.nc',mode=\"w\")"
   ]
  },
  {
   "cell_type": "code",
   "execution_count": null,
   "metadata": {},
   "outputs": [],
   "source": [
    "dsnet.createDimension(\"time\",None)\n",
    "dsnet.createDimension(\"depth\",1046)\n",
    "dsnet.createVariable(\"transducer1/echo\",'f8',(\"time\",\"depth\"))"
   ]
  },
  {
   "cell_type": "code",
   "execution_count": null,
   "metadata": {},
   "outputs": [],
   "source": [
    "dsnet"
   ]
  },
  {
   "cell_type": "code",
   "execution_count": null,
   "metadata": {},
   "outputs": [],
   "source": [
    "dsnet[\"transducer1\"]"
   ]
  },
  {
   "cell_type": "code",
   "execution_count": null,
   "metadata": {},
   "outputs": [],
   "source": [
    "dsnet[\"transducer1\"].createDimension(\"time\",None)\n",
    "dsnet[\"transducer1\"].createDimension(\"depth\",1046)"
   ]
  },
  {
   "cell_type": "code",
   "execution_count": null,
   "metadata": {},
   "outputs": [],
   "source": [
    "dsnet.createVariable(\"transducer1/time\",'f8',(\"time\"))\n",
    "dsnet.createVariable(\"transducer1/depth\",'f8',(\"depth\"))"
   ]
  },
  {
   "cell_type": "code",
   "execution_count": null,
   "metadata": {},
   "outputs": [],
   "source": [
    "dsnet.createVariable(\"transducer1/echo1\",'f8',(\"depth\",\"time\"))"
   ]
  },
  {
   "cell_type": "code",
   "execution_count": null,
   "metadata": {},
   "outputs": [],
   "source": [
    "dsnet.close()"
   ]
  },
  {
   "cell_type": "code",
   "execution_count": null,
   "metadata": {},
   "outputs": [],
   "source": []
  },
  {
   "cell_type": "code",
   "execution_count": null,
   "metadata": {},
   "outputs": [],
   "source": [
    "import xarray as xr"
   ]
  },
  {
   "cell_type": "code",
   "execution_count": null,
   "metadata": {},
   "outputs": [],
   "source": [
    "ds = xr.open_dataset(\"../test3.nc\")"
   ]
  },
  {
   "cell_type": "code",
   "execution_count": null,
   "metadata": {},
   "outputs": [],
   "source": [
    "ds"
   ]
  },
  {
   "cell_type": "code",
   "execution_count": null,
   "metadata": {},
   "outputs": [],
   "source": []
  },
  {
   "cell_type": "code",
   "execution_count": null,
   "metadata": {},
   "outputs": [],
   "source": [
    "ds_grp = xr.open_dataset(\"../test3.nc\",group='transducer1')\n",
    "ds_grp"
   ]
  },
  {
   "cell_type": "code",
   "execution_count": null,
   "metadata": {},
   "outputs": [],
   "source": []
  },
  {
   "cell_type": "code",
   "execution_count": null,
   "metadata": {},
   "outputs": [],
   "source": []
  },
  {
   "cell_type": "code",
   "execution_count": null,
   "metadata": {},
   "outputs": [],
   "source": []
  },
  {
   "cell_type": "code",
   "execution_count": null,
   "metadata": {},
   "outputs": [],
   "source": []
  },
  {
   "cell_type": "code",
   "execution_count": null,
   "metadata": {},
   "outputs": [],
   "source": []
  },
  {
   "cell_type": "code",
   "execution_count": null,
   "metadata": {},
   "outputs": [],
   "source": [
    "ds = xr.open_mfdataset(\"../test2.nc\")"
   ]
  },
  {
   "cell_type": "code",
   "execution_count": null,
   "metadata": {},
   "outputs": [],
   "source": [
    "ds"
   ]
  },
  {
   "cell_type": "code",
   "execution_count": null,
   "metadata": {},
   "outputs": [],
   "source": [
    "ds_grp = xr.open_mfdataset(\"../test2.nc\",group='transducer1')"
   ]
  },
  {
   "cell_type": "code",
   "execution_count": null,
   "metadata": {},
   "outputs": [],
   "source": [
    "ds_grp"
   ]
  },
  {
   "cell_type": "code",
   "execution_count": null,
   "metadata": {},
   "outputs": [],
   "source": [
    "ds_grp_var = xr.open_dataset(\"test2.nc\",group=\"transducer1\")"
   ]
  },
  {
   "cell_type": "code",
   "execution_count": null,
   "metadata": {},
   "outputs": [],
   "source": [
    "ds_grp_var"
   ]
  },
  {
   "cell_type": "code",
   "execution_count": null,
   "metadata": {},
   "outputs": [],
   "source": []
  },
  {
   "cell_type": "code",
   "execution_count": null,
   "metadata": {},
   "outputs": [],
   "source": []
  }
 ],
 "metadata": {
  "kernelspec": {
   "display_name": "Python3 sonar",
   "language": "python",
   "name": "sonar"
  },
  "language_info": {
   "codemirror_mode": {
    "name": "ipython",
    "version": 3
   },
   "file_extension": ".py",
   "mimetype": "text/x-python",
   "name": "python",
   "nbconvert_exporter": "python",
   "pygments_lexer": "ipython3",
   "version": "3.6.3"
  }
 },
 "nbformat": 4,
 "nbformat_minor": 2
}
