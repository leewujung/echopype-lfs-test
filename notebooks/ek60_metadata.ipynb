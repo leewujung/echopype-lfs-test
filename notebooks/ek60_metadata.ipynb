{
 "cells": [
  {
   "cell_type": "code",
   "execution_count": 11,
   "metadata": {},
   "outputs": [],
   "source": [
    "from glob import glob\n",
    "import os, sys\n",
    "import h5py"
   ]
  },
  {
   "cell_type": "code",
   "execution_count": 6,
   "metadata": {},
   "outputs": [],
   "source": [
    "files = glob(os.path.join('..','data_zplsc','OOI-D2017082[1,2]*.raw'))\n",
    "h5_fname = os.path.join('..','data_zplsc','EAO-D20170821-22.h5')"
   ]
  },
  {
   "cell_type": "code",
   "execution_count": 10,
   "metadata": {},
   "outputs": [
    {
     "name": "stderr",
     "output_type": "stream",
     "text": [
      "/Users/wu-jung/miniconda3/lib/python3.6/site-packages/h5py/__init__.py:36: FutureWarning: Conversion of the second argument of issubdtype from `float` to `np.floating` is deprecated. In future, it will be treated as `np.float64 == np.dtype(float).type`.\n",
      "  from ._conv import register_converters as _register_converters\n"
     ]
    }
   ],
   "source": [
    "sys.path.insert(0,'../')\n",
    "import echopype_model"
   ]
  },
  {
   "cell_type": "code",
   "execution_count": 12,
   "metadata": {},
   "outputs": [],
   "source": [
    "fh = h5py.File(h5_fname,'r')"
   ]
  },
  {
   "cell_type": "code",
   "execution_count": 28,
   "metadata": {},
   "outputs": [],
   "source": [
    "def printname(name):\n",
    "    print(name)"
   ]
  },
  {
   "cell_type": "code",
   "execution_count": 29,
   "metadata": {},
   "outputs": [
    {
     "name": "stdout",
     "output_type": "stream",
     "text": [
      "header\n",
      "header/sounder_name\n",
      "header/survey_name\n",
      "header/transducer_count\n",
      "header/transect_name\n",
      "header/version\n",
      "metadata\n",
      "metadata/bin_size\n",
      "metadata/zplsc_absorption_coeff\n",
      "metadata/zplsc_bandwidth\n",
      "metadata/zplsc_channel\n",
      "metadata/zplsc_frequency\n",
      "metadata/zplsc_pulse_length\n",
      "metadata/zplsc_sample_interval\n",
      "metadata/zplsc_sound_velocity\n",
      "metadata/zplsc_temperature\n",
      "metadata/zplsc_timestamp\n",
      "metadata/zplsc_transducer_depth\n",
      "metadata/zplsc_transmit_power\n",
      "ping_time\n",
      "power_data\n",
      "power_data/120000.0\n",
      "power_data/200000.0\n",
      "power_data/38000.0\n",
      "transducer00\n",
      "transducer00/angle_offset_alongship\n",
      "transducer00/angle_offset_athwart\n",
      "transducer00/angle_sensitivity_alongship\n",
      "transducer00/angle_sensitivity_athwartship\n",
      "transducer00/beam_type\n",
      "transducer00/beam_width_alongship\n",
      "transducer00/beam_width_athwartship\n",
      "transducer00/channel_id\n",
      "transducer00/dir_x\n",
      "transducer00/dir_y\n",
      "transducer00/dir_z\n",
      "transducer00/equiv_beam_angle\n",
      "transducer00/frequency\n",
      "transducer00/gain\n",
      "transducer00/gain_table\n",
      "transducer00/gpt_software_version\n",
      "transducer00/pos_x\n",
      "transducer00/pos_y\n",
      "transducer00/pos_z\n",
      "transducer00/pulse_length_table\n",
      "transducer00/sa_correction_table\n",
      "transducer01\n",
      "transducer01/angle_offset_alongship\n",
      "transducer01/angle_offset_athwart\n",
      "transducer01/angle_sensitivity_alongship\n",
      "transducer01/angle_sensitivity_athwartship\n",
      "transducer01/beam_type\n",
      "transducer01/beam_width_alongship\n",
      "transducer01/beam_width_athwartship\n",
      "transducer01/channel_id\n",
      "transducer01/dir_x\n",
      "transducer01/dir_y\n",
      "transducer01/dir_z\n",
      "transducer01/equiv_beam_angle\n",
      "transducer01/frequency\n",
      "transducer01/gain\n",
      "transducer01/gain_table\n",
      "transducer01/gpt_software_version\n",
      "transducer01/pos_x\n",
      "transducer01/pos_y\n",
      "transducer01/pos_z\n",
      "transducer01/pulse_length_table\n",
      "transducer01/sa_correction_table\n",
      "transducer02\n",
      "transducer02/angle_offset_alongship\n",
      "transducer02/angle_offset_athwart\n",
      "transducer02/angle_sensitivity_alongship\n",
      "transducer02/angle_sensitivity_athwartship\n",
      "transducer02/beam_type\n",
      "transducer02/beam_width_alongship\n",
      "transducer02/beam_width_athwartship\n",
      "transducer02/channel_id\n",
      "transducer02/dir_x\n",
      "transducer02/dir_y\n",
      "transducer02/dir_z\n",
      "transducer02/equiv_beam_angle\n",
      "transducer02/frequency\n",
      "transducer02/gain\n",
      "transducer02/gain_table\n",
      "transducer02/gpt_software_version\n",
      "transducer02/pos_x\n",
      "transducer02/pos_y\n",
      "transducer02/pos_z\n",
      "transducer02/pulse_length_table\n",
      "transducer02/sa_correction_table\n"
     ]
    }
   ],
   "source": [
    "fh.visit(printname)"
   ]
  },
  {
   "cell_type": "code",
   "execution_count": 38,
   "metadata": {},
   "outputs": [
    {
     "name": "stdout",
     "output_type": "stream",
     "text": [
      "sounder_name :  ['ER60']\n",
      "survey_name :  ['OOI']\n",
      "transducer_count :  [3]\n",
      "transect_name :  ['']\n",
      "version :  ['2.4.3']\n"
     ]
    }
   ],
   "source": [
    "for m,mval in fh['header'].items():\n",
    "    print(m,': ', mval[:])"
   ]
  },
  {
   "cell_type": "code",
   "execution_count": 39,
   "metadata": {},
   "outputs": [
    {
     "name": "stdout",
     "output_type": "stream",
     "text": [
      "bin_size :  [0.19121777]\n",
      "zplsc_absorption_coeff :  [0.03744031 0.00978527 0.05268759]\n",
      "zplsc_bandwidth :  [3026.3916 2425.1497 3088.4004]\n",
      "zplsc_channel :  [1 2 3]\n",
      "zplsc_frequency :  [120000.  38000. 200000.]\n",
      "zplsc_pulse_length :  [0.001024 0.001024 0.001024]\n",
      "zplsc_sample_interval :  [0.000256 0.000256 0.000256]\n",
      "zplsc_sound_velocity :  [1493.8888 1493.8888 1493.8888]\n",
      "zplsc_temperature :  [10. 10. 10.]\n",
      "zplsc_timestamp :  ['20170821000000']\n",
      "zplsc_transducer_depth :  [0. 0. 0.]\n",
      "zplsc_transmit_power :  [250. 500. 150.]\n"
     ]
    }
   ],
   "source": [
    "for m,mval in fh['metadata'].items():\n",
    "    print(m,': ', mval[:])"
   ]
  },
  {
   "cell_type": "code",
   "execution_count": 44,
   "metadata": {},
   "outputs": [
    {
     "name": "stdout",
     "output_type": "stream",
     "text": [
      "angle_offset_alongship :  [0.]\n",
      "angle_offset_athwart :  [0.]\n",
      "angle_sensitivity_alongship :  [23.]\n",
      "angle_sensitivity_athwartship :  [23.]\n",
      "beam_type :  [1]\n",
      "beam_width_alongship :  [7.]\n",
      "beam_width_athwartship :  [7.]\n",
      "channel_id :  ['GPT 120 kHz 00907208a0b1 3-1 ES120-7CD']\n",
      "dir_x :  [0.]\n",
      "dir_y :  [0.]\n",
      "dir_z :  [0.]\n",
      "equiv_beam_angle :  [-20.70000076]\n",
      "frequency :  [120000.]\n",
      "gain :  [25.]\n",
      "gain_table :  [23.5        24.79999924 25.         25.         25.        ]\n",
      "gpt_software_version :  ['070413']\n",
      "pos_x :  [0.]\n",
      "pos_y :  [0.]\n",
      "pos_z :  [0.]\n",
      "pulse_length_table :  [6.39999998e-05 1.28000000e-04 2.55999999e-04 5.11999999e-04\n",
      " 1.02400000e-03]\n",
      "sa_correction_table :  [0. 0. 0. 0. 0.]\n"
     ]
    }
   ],
   "source": [
    "# Data from 120 kHz split-beam\n",
    "# You can see beam_type in there\n",
    "for m,mval in fh['transducer00'].items():\n",
    "    print(m,': ', mval[:])"
   ]
  },
  {
   "cell_type": "code",
   "execution_count": 40,
   "metadata": {},
   "outputs": [
    {
     "name": "stdout",
     "output_type": "stream",
     "text": [
      "angle_offset_alongship :  [0.]\n",
      "angle_offset_athwart :  [0.]\n",
      "angle_sensitivity_alongship :  [21.89999962]\n",
      "angle_sensitivity_athwartship :  [21.89999962]\n",
      "beam_type :  [0]\n",
      "beam_width_alongship :  [7.0999999]\n",
      "beam_width_athwartship :  [7.0999999]\n",
      "channel_id :  ['GPT  38 kHz 00907208dd13 5-1 OOI.38|200']\n",
      "dir_x :  [0.]\n",
      "dir_y :  [0.]\n",
      "dir_z :  [0.]\n",
      "equiv_beam_angle :  [-20.60000038]\n",
      "frequency :  [38000.]\n",
      "gain :  [26.5]\n",
      "gain_table :  [24.  26.  26.5 26.5 26.5]\n",
      "gpt_software_version :  ['150120']\n",
      "pos_x :  [0.]\n",
      "pos_y :  [0.]\n",
      "pos_z :  [0.]\n",
      "pulse_length_table :  [0.000256 0.000512 0.001024 0.002048 0.004096]\n",
      "sa_correction_table :  [0. 0. 0. 0. 0.]\n"
     ]
    }
   ],
   "source": [
    "# Data from 38 kHz split-beam\n",
    "for m,mval in fh['transducer01'].items():\n",
    "    print(m,': ', mval[:])"
   ]
  },
  {
   "cell_type": "code",
   "execution_count": 43,
   "metadata": {},
   "outputs": [
    {
     "data": {
      "text/plain": [
       "array([[  -3.58649018,   12.07647678,   12.05295881, ...,   12.07647678,\n",
       "          12.07647678,   12.07647678],\n",
       "       [   1.65801677,   17.88541498,   17.88541498, ...,   17.90893295,\n",
       "          17.90893295,   17.89717396],\n",
       "       [   1.6344988 ,   17.86189701,   17.85013802, ...,   17.87365599,\n",
       "          17.88541498,   17.87365599],\n",
       "       ...,\n",
       "       [-135.13424649, -118.07196041, -118.6011147 , ..., -132.3708852 ,\n",
       "        -126.44435716, -121.65845059],\n",
       "       [-131.43016647, -114.45019327, -117.20179558, ..., -136.40421679,\n",
       "        -159.81635434, -125.1508689 ],\n",
       "       [-131.72414107, -112.88624837, -123.91617556, ..., -127.99654308,\n",
       "        -128.9490208 , -122.42278456]])"
      ]
     },
     "execution_count": 43,
     "metadata": {},
     "output_type": "execute_result"
    }
   ],
   "source": [
    "fh['power_data/120000.0'][:]"
   ]
  },
  {
   "cell_type": "code",
   "execution_count": null,
   "metadata": {},
   "outputs": [],
   "source": []
  }
 ],
 "metadata": {
  "kernelspec": {
   "display_name": "Python 3",
   "language": "python",
   "name": "python3"
  },
  "language_info": {
   "codemirror_mode": {
    "name": "ipython",
    "version": 3
   },
   "file_extension": ".py",
   "mimetype": "text/x-python",
   "name": "python",
   "nbconvert_exporter": "python",
   "pygments_lexer": "ipython3",
   "version": "3.6.3"
  }
 },
 "nbformat": 4,
 "nbformat_minor": 2
}
