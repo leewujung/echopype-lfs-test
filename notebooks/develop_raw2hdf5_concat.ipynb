{
 "cells": [
  {
   "cell_type": "code",
   "execution_count": 1,
   "metadata": {},
   "outputs": [],
   "source": [
    "import sys"
   ]
  },
  {
   "cell_type": "code",
   "execution_count": 2,
   "metadata": {},
   "outputs": [
    {
     "name": "stderr",
     "output_type": "stream",
     "text": [
      "/Users/wu-jung/miniconda3/lib/python3.6/site-packages/h5py/__init__.py:36: FutureWarning: Conversion of the second argument of issubdtype from `float` to `np.floating` is deprecated. In future, it will be treated as `np.float64 == np.dtype(float).type`.\n",
      "  from ._conv import register_converters as _register_converters\n"
     ]
    }
   ],
   "source": [
    "sys.path.insert(0,'../')\n",
    "from unpack_ek60 import raw2hdf5_initiate, load_ek60_raw, save_metadata, check_metadata"
   ]
  },
  {
   "cell_type": "code",
   "execution_count": 3,
   "metadata": {},
   "outputs": [],
   "source": [
    "import matplotlib.pyplot as plt\n",
    "import h5py"
   ]
  },
  {
   "cell_type": "code",
   "execution_count": 4,
   "metadata": {},
   "outputs": [],
   "source": [
    "import numpy as np"
   ]
  },
  {
   "cell_type": "code",
   "execution_count": 5,
   "metadata": {},
   "outputs": [],
   "source": [
    "input_file_path1 = '../OOI-D20150901-T000000.raw'\n",
    "input_file_path2 = '../OOI-D20150902-T000000.raw'"
   ]
  },
  {
   "cell_type": "code",
   "execution_count": 38,
   "metadata": {},
   "outputs": [],
   "source": [
    "h5_file_path = '../test_concat5.h5'"
   ]
  },
  {
   "cell_type": "code",
   "execution_count": 39,
   "metadata": {},
   "outputs": [
    {
     "name": "stdout",
     "output_type": "stream",
     "text": [
      "12:44:33  unpacking file: ../OOI-D20150901-T000000.raw\n",
      "CPU times: user 11.3 s, sys: 4.38 s, total: 15.7 s\n",
      "Wall time: 18.3 s\n"
     ]
    }
   ],
   "source": [
    "%%time\n",
    "raw2hdf5_initiate(input_file_path1,h5_file_path)"
   ]
  },
  {
   "cell_type": "code",
   "execution_count": 40,
   "metadata": {},
   "outputs": [
    {
     "name": "stdout",
     "output_type": "stream",
     "text": [
      "12:44:51  unpacking file: ../OOI-D20150902-T000000.raw\n",
      "CPU times: user 9.22 s, sys: 2.98 s, total: 12.2 s\n",
      "Wall time: 12.3 s\n"
     ]
    }
   ],
   "source": [
    "%%time\n",
    "first_ping_metadata, data_times, power_data_dict, frequencies, bin_size, \\\n",
    "    config_header, config_transducer = load_ek60_raw(input_file_path2)"
   ]
  },
  {
   "cell_type": "code",
   "execution_count": 42,
   "metadata": {},
   "outputs": [],
   "source": [
    "first_ping_metadata['bin_size'] = bin_size"
   ]
  },
  {
   "cell_type": "code",
   "execution_count": 43,
   "metadata": {},
   "outputs": [],
   "source": [
    "def raw2hdf5_concat(raw_file_path,h5_file_path):\n",
    "    '''\n",
    "    Unpack EK60 .raw files and concatenate to an existing hdf5 files\n",
    "    INPUT:\n",
    "        fname      file to be unpacked\n",
    "        h5_fname   hdf5 file to be concatenated to\n",
    "    '''\n",
    "    # Unpack raw into memory\n",
    "    first_ping_metadata, data_times, power_data_dict, frequencies, bin_size, \\\n",
    "        config_header, config_transducer = load_ek60_raw(raw_file_path)\n",
    "\n",
    "    # Check if input dimension makes sense, if not abort\n",
    "    sz_power_data = np.empty(shape=(len(frequencies),2),dtype=int)\n",
    "    for cnt,f in zip(range(len(frequencies)),frequencies.keys()):\n",
    "        f_str = str(frequencies[f])\n",
    "        sz_power_data[cnt,:] = power_data_dict[f_str].shape\n",
    "    if np.unique(sz_power_data).shape[0]!=2:\n",
    "        print('Raw file has mismatched number of pings across channels')\n",
    "        # break\n",
    "\n",
    "    # Open existing files\n",
    "    fh = h5py.File(h5_file_path, 'r+')\n",
    "\n",
    "    # Check if all metadata field matches, if not, print info and abort\n",
    "    flag = check_metadata('header',config_header,fh) and \\\n",
    "           check_metadata('metadata',first_ping_metadata,fh) and \\\n",
    "           check_metadata('transducer00',config_transducer[0],fh) and \\\n",
    "           check_metadata('transducer01',config_transducer[1],fh) and \\\n",
    "           check_metadata('transducer02',config_transducer[2],fh)\n",
    "\n",
    "    # Concatenating newly unpacked data into HDF5 file\n",
    "    for f in fh['power_data'].keys():\n",
    "        sz_exist = fh['power_data/'+f].shape  # shape of existing power_data mtx\n",
    "        fh['power_data/'+f].resize((sz_exist[0],sz_exist[1]+sz_power_data[0,1]))\n",
    "        fh['power_data/'+f][:,sz_exist[1]:] = power_data_dict[str(f)]\n",
    "    fh['ping_time'].resize((sz_exist[1]+sz_power_data[0,1],))\n",
    "    fh['ping_time'][sz_exist[1]:] = data_times\n",
    "\n",
    "    # Close file\n",
    "    fh.close()"
   ]
  },
  {
   "cell_type": "code",
   "execution_count": 46,
   "metadata": {},
   "outputs": [],
   "source": [
    "fh=h5py.File(h5_file_path, 'r+')"
   ]
  },
  {
   "cell_type": "code",
   "execution_count": 48,
   "metadata": {},
   "outputs": [
    {
     "data": {
      "text/plain": [
       "<HDF5 dataset \"120000.0\": shape (1046, 57444), type \"<f8\">"
      ]
     },
     "execution_count": 48,
     "metadata": {},
     "output_type": "execute_result"
    }
   ],
   "source": [
    "fh['power_data/120000.0']"
   ]
  },
  {
   "cell_type": "code",
   "execution_count": null,
   "metadata": {},
   "outputs": [],
   "source": []
  },
  {
   "cell_type": "code",
   "execution_count": null,
   "metadata": {},
   "outputs": [],
   "source": []
  },
  {
   "cell_type": "code",
   "execution_count": null,
   "metadata": {},
   "outputs": [],
   "source": []
  },
  {
   "cell_type": "code",
   "execution_count": null,
   "metadata": {},
   "outputs": [],
   "source": []
  },
  {
   "cell_type": "code",
   "execution_count": 44,
   "metadata": {},
   "outputs": [
    {
     "name": "stdout",
     "output_type": "stream",
     "text": [
      "12:45:51  unpacking file: ../OOI-D20150902-T000000.raw\n"
     ]
    }
   ],
   "source": [
    "raw2hdf5_concat(input_file_path2,h5_file_path)"
   ]
  },
  {
   "cell_type": "code",
   "execution_count": null,
   "metadata": {},
   "outputs": [],
   "source": []
  },
  {
   "cell_type": "code",
   "execution_count": null,
   "metadata": {},
   "outputs": [],
   "source": []
  },
  {
   "cell_type": "code",
   "execution_count": null,
   "metadata": {},
   "outputs": [],
   "source": []
  },
  {
   "cell_type": "code",
   "execution_count": null,
   "metadata": {},
   "outputs": [],
   "source": []
  },
  {
   "cell_type": "code",
   "execution_count": 28,
   "metadata": {},
   "outputs": [
    {
     "name": "stdout",
     "output_type": "stream",
     "text": [
      "('header', <HDF5 group \"/header\" (5 members)>)\n",
      "('metadata', <HDF5 group \"/metadata\" (12 members)>)\n",
      "('ping_time', <HDF5 dataset \"ping_time\": shape (28717,), type \"<f8\">)\n",
      "('power_data', <HDF5 group \"/power_data\" (3 members)>)\n",
      "('transducer00', <HDF5 group \"/transducer00\" (21 members)>)\n",
      "('transducer01', <HDF5 group \"/transducer01\" (21 members)>)\n",
      "('transducer02', <HDF5 group \"/transducer02\" (21 members)>)\n"
     ]
    }
   ],
   "source": [
    "for p in fh.items():\n",
    "    print(p)"
   ]
  },
  {
   "cell_type": "code",
   "execution_count": 17,
   "metadata": {},
   "outputs": [],
   "source": [
    "flag = check_metadata('header',config_header,fh) and \\\n",
    "       check_metadata('metadata',first_ping_metadata,fh) and \\\n",
    "       check_metadata('transducer00',config_transducer[0],fh) and \\\n",
    "       check_metadata('transducer01',config_transducer[1],fh) and \\\n",
    "       check_metadata('transducer02',config_transducer[2],fh)\n"
   ]
  },
  {
   "cell_type": "code",
   "execution_count": 20,
   "metadata": {},
   "outputs": [],
   "source": [
    "# Check if input dimension makes sense, if not abort\n",
    "sz_power_data = np.empty(shape=(len(frequencies),2),dtype=int)\n",
    "for cnt,f in zip(range(len(frequencies)),frequencies.keys()):\n",
    "    f_str = str(frequencies[f])\n",
    "    sz_power_data[cnt,:] = power_data_dict[f_str].shape\n",
    "if np.unique(sz_power_data).shape[0]!=2:\n",
    "    print('Raw file has mismatched number of pings across channels')"
   ]
  },
  {
   "cell_type": "code",
   "execution_count": 21,
   "metadata": {},
   "outputs": [
    {
     "data": {
      "text/plain": [
       "array([[ 1046, 28727],\n",
       "       [ 1046, 28727],\n",
       "       [ 1046, 28727]])"
      ]
     },
     "execution_count": 21,
     "metadata": {},
     "output_type": "execute_result"
    }
   ],
   "source": [
    "sz_power_data"
   ]
  },
  {
   "cell_type": "code",
   "execution_count": 35,
   "metadata": {},
   "outputs": [],
   "source": [
    "# Concatenating newly unpacked data into HDF5 file\n",
    "for f in fh['power_data'].keys():\n",
    "    sz_exist = fh['power_data/'+f].shape  # shape of existing power_data mtx\n",
    "    fh['power_data/'+f].resize((sz_exist[0],sz_exist[1]+sz_power_data[0,1]))\n",
    "    fh['power_data/'+f][:,sz_exist[1]:] = power_data_dict[str(f)]\n",
    "fh['ping_time'].resize((sz_exist[1]+sz_power_data[0,1],))\n",
    "fh['ping_time'][sz_exist[1]:] = data_times\n"
   ]
  },
  {
   "cell_type": "code",
   "execution_count": 36,
   "metadata": {},
   "outputs": [
    {
     "data": {
      "text/plain": [
       "<HDF5 dataset \"120000.0\": shape (1046, 114898), type \"<f8\">"
      ]
     },
     "execution_count": 36,
     "metadata": {},
     "output_type": "execute_result"
    }
   ],
   "source": [
    "fh['power_data/120000.0']"
   ]
  },
  {
   "cell_type": "code",
   "execution_count": null,
   "metadata": {},
   "outputs": [],
   "source": []
  },
  {
   "cell_type": "code",
   "execution_count": null,
   "metadata": {},
   "outputs": [],
   "source": []
  },
  {
   "cell_type": "code",
   "execution_count": null,
   "metadata": {},
   "outputs": [],
   "source": []
  },
  {
   "cell_type": "code",
   "execution_count": 26,
   "metadata": {},
   "outputs": [
    {
     "name": "stdout",
     "output_type": "stream",
     "text": [
      "(1046, 28717)\n",
      "120000.0\n",
      "(1046, 28727)\n",
      "(1046, 28717)\n",
      "200000.0\n",
      "(1046, 28727)\n",
      "(1046, 28717)\n",
      "38000.0\n",
      "(1046, 28727)\n"
     ]
    }
   ],
   "source": [
    "for f in fh['power_data'].keys():\n",
    "    sz_exist = fh['power_data/'+f].shape  # shape of existing Sv mtx\n",
    "    print(sz_exist)\n",
    "    print(f)\n",
    "    print(power_data_dict[str(f)].shape)"
   ]
  },
  {
   "cell_type": "code",
   "execution_count": null,
   "metadata": {},
   "outputs": [],
   "source": []
  },
  {
   "cell_type": "code",
   "execution_count": null,
   "metadata": {},
   "outputs": [],
   "source": []
  },
  {
   "cell_type": "code",
   "execution_count": null,
   "metadata": {},
   "outputs": [],
   "source": []
  },
  {
   "cell_type": "code",
   "execution_count": 27,
   "metadata": {},
   "outputs": [
    {
     "data": {
      "text/plain": [
       "array([[  -8.39591472,   11.6884303 ,   11.70018928, ...,   11.70018928,\n",
       "          11.67667132,   11.70018928],\n",
       "       [  -1.31700623,   19.56694972,   19.5787087 , ...,   19.56694972,\n",
       "          19.55519073,   19.56694972],\n",
       "       [  -1.59922185,   19.42584191,   19.43760089, ...,   19.43760089,\n",
       "          19.43760089,   19.43760089],\n",
       "       ...,\n",
       "       [-104.31394889,  -85.07625073,  -93.31929866, ...,  -91.50841509,\n",
       "        -103.97293835,  -95.98858807],\n",
       "       [-106.61870979,  -91.4261022 ,  -86.69899055, ...,  -94.23649942,\n",
       "        -104.87838013,  -92.6137596 ],\n",
       "       [-114.83823975,  -96.82347595,  -85.92289759, ...,  -94.37760723,\n",
       "        -100.33941223,  -91.67304087]])"
      ]
     },
     "execution_count": 27,
     "metadata": {},
     "output_type": "execute_result"
    }
   ],
   "source": [
    "power_data_dict[str(f)]"
   ]
  },
  {
   "cell_type": "code",
   "execution_count": null,
   "metadata": {},
   "outputs": [],
   "source": [
    "for p in power_data_dict.keys():\n",
    "    print(power_data_dict[p].shape)"
   ]
  },
  {
   "cell_type": "code",
   "execution_count": null,
   "metadata": {},
   "outputs": [],
   "source": [
    "sz_power_data"
   ]
  },
  {
   "cell_type": "code",
   "execution_count": null,
   "metadata": {},
   "outputs": [],
   "source": []
  },
  {
   "cell_type": "code",
   "execution_count": null,
   "metadata": {},
   "outputs": [],
   "source": []
  },
  {
   "cell_type": "code",
   "execution_count": null,
   "metadata": {},
   "outputs": [],
   "source": []
  },
  {
   "cell_type": "code",
   "execution_count": null,
   "metadata": {},
   "outputs": [],
   "source": []
  },
  {
   "cell_type": "code",
   "execution_count": null,
   "metadata": {},
   "outputs": [],
   "source": []
  },
  {
   "cell_type": "code",
   "execution_count": null,
   "metadata": {},
   "outputs": [],
   "source": []
  },
  {
   "cell_type": "code",
   "execution_count": null,
   "metadata": {},
   "outputs": [],
   "source": [
    "for p in first_ping_metadata.items():\n",
    "    print(p)"
   ]
  },
  {
   "cell_type": "code",
   "execution_count": null,
   "metadata": {},
   "outputs": [],
   "source": [
    "for p in hf.values():\n",
    "    print(p)"
   ]
  },
  {
   "cell_type": "code",
   "execution_count": null,
   "metadata": {},
   "outputs": [],
   "source": [
    "for p in hf.keys():\n",
    "    print(p)"
   ]
  },
  {
   "cell_type": "code",
   "execution_count": null,
   "metadata": {},
   "outputs": [],
   "source": [
    "for p in hf['header'].keys():\n",
    "    print(p)"
   ]
  },
  {
   "cell_type": "code",
   "execution_count": null,
   "metadata": {},
   "outputs": [],
   "source": [
    "hf['header']['sounder_name'][0]"
   ]
  },
  {
   "cell_type": "code",
   "execution_count": null,
   "metadata": {},
   "outputs": [],
   "source": [
    "type(config_header['sounder_name'])"
   ]
  },
  {
   "cell_type": "code",
   "execution_count": null,
   "metadata": {},
   "outputs": [],
   "source": [
    "str(config_header['sounder_name'], 'utf-8') == hf['header']['sounder_name'][0]"
   ]
  },
  {
   "cell_type": "code",
   "execution_count": null,
   "metadata": {},
   "outputs": [],
   "source": [
    "hf['header']['transducer_count'][0]"
   ]
  },
  {
   "cell_type": "code",
   "execution_count": null,
   "metadata": {},
   "outputs": [],
   "source": [
    "for p in hf['header'].keys():\n",
    "    print(p)\n",
    "    if type(hf['header'][p][0])==str or type(hf['header'][p][0])==bytes:\n",
    "        print(str(config_header[p], 'utf-8') == hf['header'][p][0])\n",
    "    elif type(hf['header'][p][0])==int or type(hf['header'][p][0])==float:\n",
    "        print(config_header[p] == hf['header'][p][0])"
   ]
  },
  {
   "cell_type": "code",
   "execution_count": null,
   "metadata": {},
   "outputs": [],
   "source": [
    "for p in hf['metadata'].keys():\n",
    "    print(p)"
   ]
  },
  {
   "cell_type": "code",
   "execution_count": null,
   "metadata": {},
   "outputs": [],
   "source": [
    "for p in hf['header'].keys():\n",
    "    print(p)\n",
    "    if type(hf['header'][p][0])==str or type(hf['header'][p][0])==bytes:\n",
    "        print(str(config_header[p], 'utf-8') == hf['header'][p][0])\n",
    "    elif type(hf['header'][p][0])==int or type(hf['header'][p][0])==float:\n",
    "        print(config_header[p] == hf['header'][p][0])"
   ]
  },
  {
   "cell_type": "code",
   "execution_count": null,
   "metadata": {},
   "outputs": [],
   "source": [
    "group_name = 'header'\n",
    "dict_name = config_header\n",
    "for p in hf[group_name].keys():\n",
    "    print(p)\n",
    "    if isinstance(hf[group_name][p][0],(str,bytes)):\n",
    "        if type(dict_name[p])==bytes:\n",
    "            print(str(dict_name[p], 'utf-8') == hf[group_name][p][0])\n",
    "        else:\n",
    "            print(dict_name[p] == hf[group_name][p][0])\n",
    "    elif isinstance(hf[group_name][p][0],(np.generic,np.ndarray,int,float)):\n",
    "        print(any(dict_name[p]==hf[group_name][p][:]))"
   ]
  },
  {
   "cell_type": "code",
   "execution_count": null,
   "metadata": {},
   "outputs": [],
   "source": [
    "group_name = 'metadata'\n",
    "dict_name = first_ping_metadata\n",
    "for p in hf[group_name].keys():\n",
    "    print(p)\n",
    "    if isinstance(hf[group_name][p][0],(str,bytes)):\n",
    "        if type(dict_name[p])==bytes:\n",
    "            print(str(dict_name[p], 'utf-8') == hf[group_name][p][0])\n",
    "        else:\n",
    "            print(dict_name[p] == hf[group_name][p][0])\n",
    "    elif isinstance(hf[group_name][p][0],(np.generic,np.ndarray,int,float)):\n",
    "        print(any(dict_name[p]==hf[group_name][p][:]))"
   ]
  },
  {
   "cell_type": "code",
   "execution_count": null,
   "metadata": {},
   "outputs": [],
   "source": [
    "hf['transducer00']['channel_id']"
   ]
  },
  {
   "cell_type": "code",
   "execution_count": null,
   "metadata": {},
   "outputs": [],
   "source": [
    "type(config_transducer[0]['channel_id'])==bytes"
   ]
  },
  {
   "cell_type": "code",
   "execution_count": null,
   "metadata": {},
   "outputs": [],
   "source": []
  },
  {
   "cell_type": "code",
   "execution_count": null,
   "metadata": {},
   "outputs": [],
   "source": [
    "group_name = 'transducer00'\n",
    "dict_name = config_transducer[0]\n",
    "for p in hf[group_name].keys():\n",
    "    print(p)\n",
    "    if isinstance(hf[group_name][p][0],(str,bytes)):\n",
    "        if type(dict_name[p])==bytes:\n",
    "            print(str(dict_name[p], 'utf-8') == hf[group_name][p][0])\n",
    "        else:\n",
    "            print(dict_name[p] == hf[group_name][p][0])\n",
    "    elif isinstance(hf[group_name][p][0],(np.generic,np.ndarray,int,float)):\n",
    "        print(any(dict_name[p]==hf[group_name][p][:]))"
   ]
  },
  {
   "cell_type": "code",
   "execution_count": null,
   "metadata": {},
   "outputs": [],
   "source": [
    "config_transducer[0]"
   ]
  },
  {
   "cell_type": "code",
   "execution_count": null,
   "metadata": {},
   "outputs": [],
   "source": [
    "any(first_ping_metadata['bin_size']==hf['metadata']['bin_size'][:])"
   ]
  },
  {
   "cell_type": "code",
   "execution_count": null,
   "metadata": {},
   "outputs": [],
   "source": [
    "hf['metadata']['bin_size'][0]"
   ]
  },
  {
   "cell_type": "code",
   "execution_count": null,
   "metadata": {},
   "outputs": [],
   "source": [
    "type(hf['metadata'][p][0])"
   ]
  },
  {
   "cell_type": "code",
   "execution_count": null,
   "metadata": {},
   "outputs": [],
   "source": [
    "isinstance(hf['metadata'][p][0],(np.generic,np.ndarray,int,float))"
   ]
  },
  {
   "cell_type": "code",
   "execution_count": null,
   "metadata": {},
   "outputs": [],
   "source": [
    "isinstance(hf['header']['transducer_count'][0],(np.generic,np.ndarray,int,float))"
   ]
  },
  {
   "cell_type": "code",
   "execution_count": null,
   "metadata": {},
   "outputs": [],
   "source": []
  }
 ],
 "metadata": {
  "kernelspec": {
   "display_name": "Python 3",
   "language": "python",
   "name": "python3"
  },
  "language_info": {
   "codemirror_mode": {
    "name": "ipython",
    "version": 3
   },
   "file_extension": ".py",
   "mimetype": "text/x-python",
   "name": "python",
   "nbconvert_exporter": "python",
   "pygments_lexer": "ipython3",
   "version": "3.6.3"
  }
 },
 "nbformat": 4,
 "nbformat_minor": 2
}
