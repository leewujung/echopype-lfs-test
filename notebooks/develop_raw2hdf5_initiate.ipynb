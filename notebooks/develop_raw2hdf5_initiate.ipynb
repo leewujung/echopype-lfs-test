{
 "cells": [
  {
   "cell_type": "code",
   "execution_count": 1,
   "metadata": {},
   "outputs": [],
   "source": [
    "import sys"
   ]
  },
  {
   "cell_type": "code",
   "execution_count": 2,
   "metadata": {},
   "outputs": [],
   "source": [
    "sys.path.insert(0,'../')\n",
    "from unpack_ek60 import unpack_ek60_raw"
   ]
  },
  {
   "cell_type": "code",
   "execution_count": 3,
   "metadata": {},
   "outputs": [
    {
     "name": "stderr",
     "output_type": "stream",
     "text": [
      "/Users/wu-jung/miniconda3/lib/python3.6/site-packages/h5py/__init__.py:36: FutureWarning: Conversion of the second argument of issubdtype from `float` to `np.floating` is deprecated. In future, it will be treated as `np.float64 == np.dtype(float).type`.\n",
      "  from ._conv import register_converters as _register_converters\n"
     ]
    }
   ],
   "source": [
    "import matplotlib.pyplot as plt\n",
    "import h5py"
   ]
  },
  {
   "cell_type": "code",
   "execution_count": 4,
   "metadata": {},
   "outputs": [],
   "source": [
    "input_file_path = '../OOI-D20150901-T000000.raw'"
   ]
  },
  {
   "cell_type": "code",
   "execution_count": 5,
   "metadata": {},
   "outputs": [
    {
     "name": "stdout",
     "output_type": "stream",
     "text": [
      "15:25:37  unpacking file: ../OOI-D20150901-T000000.raw\n"
     ]
    }
   ],
   "source": [
    "first_ping_metadata, data_times, power_data_dict, frequencies, bin_size, \\\n",
    "    config_header, config_transducer = unpack_ek60_raw(input_file_path)"
   ]
  },
  {
   "cell_type": "code",
   "execution_count": 6,
   "metadata": {},
   "outputs": [
    {
     "data": {
      "text/plain": [
       "(28717,)"
      ]
     },
     "execution_count": 6,
     "metadata": {},
     "output_type": "execute_result"
    }
   ],
   "source": [
    "data_times.shape"
   ]
  },
  {
   "cell_type": "code",
   "execution_count": 9,
   "metadata": {},
   "outputs": [
    {
     "data": {
      "text/plain": [
       "(1046, 28717)"
      ]
     },
     "execution_count": 9,
     "metadata": {},
     "output_type": "execute_result"
    }
   ],
   "source": [
    "power_data_dict['38000.0'].shape"
   ]
  },
  {
   "cell_type": "code",
   "execution_count": 6,
   "metadata": {},
   "outputs": [
    {
     "data": {
      "text/plain": [
       "defaultdict(list,\n",
       "            {'zplsc_absorption_coeff': [0.03744031, 0.009785269, 0.05268759],\n",
       "             'zplsc_bandwidth': [3026.3916, 2425.1497, 3088.4004],\n",
       "             'zplsc_channel': [1, 2, 3],\n",
       "             'zplsc_frequency': [120000.0, 38000.0, 200000.0],\n",
       "             'zplsc_pulse_length': [0.001024, 0.001024, 0.001024],\n",
       "             'zplsc_sample_interval': [0.000256, 0.000256, 0.000256],\n",
       "             'zplsc_sound_velocity': [1493.8888, 1493.8888, 1493.8888],\n",
       "             'zplsc_temperature': [10.0, 10.0, 10.0],\n",
       "             'zplsc_timestamp': '20150901000000',\n",
       "             'zplsc_transducer_depth': [0.0, 0.0, 0.0],\n",
       "             'zplsc_transmit_power': [250.0, 500.0, 150.0]})"
      ]
     },
     "execution_count": 6,
     "metadata": {},
     "output_type": "execute_result"
    }
   ],
   "source": [
    "first_ping_metadata"
   ]
  },
  {
   "cell_type": "code",
   "execution_count": 14,
   "metadata": {},
   "outputs": [
    {
     "data": {
      "text/plain": [
       "3"
      ]
     },
     "execution_count": 14,
     "metadata": {},
     "output_type": "execute_result"
    }
   ],
   "source": [
    "len(frequencies)"
   ]
  },
  {
   "cell_type": "code",
   "execution_count": 13,
   "metadata": {},
   "outputs": [
    {
     "data": {
      "text/plain": [
       "(120000.0, 38000.0, 200000.0)"
      ]
     },
     "execution_count": 13,
     "metadata": {},
     "output_type": "execute_result"
    }
   ],
   "source": [
    "frequencies[1],frequencies[2],frequencies[3]"
   ]
  },
  {
   "cell_type": "code",
   "execution_count": null,
   "metadata": {},
   "outputs": [],
   "source": [
    "config_header"
   ]
  },
  {
   "cell_type": "code",
   "execution_count": null,
   "metadata": {},
   "outputs": [],
   "source": [
    "config_transducer"
   ]
  },
  {
   "cell_type": "code",
   "execution_count": 23,
   "metadata": {},
   "outputs": [
    {
     "name": "stdout",
     "output_type": "stream",
     "text": [
      "120000.0\n",
      "38000.0\n",
      "200000.0\n"
     ]
    }
   ],
   "source": [
    "for freq in range(1,len(frequencies)+1):\n",
    "    print(str(frequencies[freq]))"
   ]
  },
  {
   "cell_type": "code",
   "execution_count": 26,
   "metadata": {},
   "outputs": [
    {
     "data": {
      "text/plain": [
       "(1046, 28717)"
      ]
     },
     "execution_count": 26,
     "metadata": {},
     "output_type": "execute_result"
    }
   ],
   "source": [
    "power_data_dict[str(frequencies[1])].shape"
   ]
  },
  {
   "cell_type": "code",
   "execution_count": 27,
   "metadata": {},
   "outputs": [
    {
     "name": "stdout",
     "output_type": "stream",
     "text": [
      "1\n",
      "2\n",
      "3\n"
     ]
    }
   ],
   "source": [
    "for f in frequencies.keys():\n",
    "    print(f)"
   ]
  },
  {
   "cell_type": "code",
   "execution_count": 29,
   "metadata": {},
   "outputs": [],
   "source": [
    "from collections import defaultdict"
   ]
  },
  {
   "cell_type": "code",
   "execution_count": 33,
   "metadata": {},
   "outputs": [],
   "source": [
    "import numpy as np"
   ]
  },
  {
   "cell_type": "code",
   "execution_count": 30,
   "metadata": {},
   "outputs": [],
   "source": [
    "    sz_power_data = defaultdict(list)\n",
    "    for f in frequencies.keys():\n",
    "        f_str = str(frequencies[f])\n",
    "        sz_power_data[f_str] = power_data_dict[f_str].shape\n"
   ]
  },
  {
   "cell_type": "code",
   "execution_count": 40,
   "metadata": {},
   "outputs": [],
   "source": [
    "sz_power_data = np.empty(shape=(len(frequencies),2))"
   ]
  },
  {
   "cell_type": "code",
   "execution_count": 41,
   "metadata": {},
   "outputs": [
    {
     "data": {
      "text/plain": [
       "array([[3.10503618e+231, 1.73060574e-077],\n",
       "       [6.95032791e-310, 1.06099790e-313],\n",
       "       [6.95032792e-310, 4.17211958e-309]])"
      ]
     },
     "execution_count": 41,
     "metadata": {},
     "output_type": "execute_result"
    }
   ],
   "source": [
    "sz_power_data"
   ]
  },
  {
   "cell_type": "code",
   "execution_count": 63,
   "metadata": {},
   "outputs": [],
   "source": [
    "    sz_power_data = np.empty(shape=(len(frequencies),2),dtype=int)\n",
    "    for cnt,f in zip(range(len(frequencies)),frequencies.keys()):\n",
    "        f_str = str(frequencies[f])\n",
    "        sz_power_data[cnt,:] = power_data_dict[f_str].shape\n",
    "    if np.unique(sz_power_data).shape[0]!=2:\n",
    "        print('Raw file has mismatched number of pings across channels')\n",
    "#         break\n"
   ]
  },
  {
   "cell_type": "code",
   "execution_count": 64,
   "metadata": {},
   "outputs": [
    {
     "data": {
      "text/plain": [
       "array([[ 1046, 28717],\n",
       "       [ 1046, 28717],\n",
       "       [ 1046, 28717]])"
      ]
     },
     "execution_count": 64,
     "metadata": {},
     "output_type": "execute_result"
    }
   ],
   "source": [
    "sz_power_data"
   ]
  },
  {
   "cell_type": "code",
   "execution_count": 69,
   "metadata": {},
   "outputs": [
    {
     "data": {
      "text/plain": [
       "1046"
      ]
     },
     "execution_count": 69,
     "metadata": {},
     "output_type": "execute_result"
    }
   ],
   "source": [
    "sz_power_data[0,0]"
   ]
  },
  {
   "cell_type": "code",
   "execution_count": 70,
   "metadata": {},
   "outputs": [
    {
     "name": "stdout",
     "output_type": "stream",
     "text": [
      "120000.0\n",
      "38000.0\n",
      "200000.0\n"
     ]
    }
   ],
   "source": [
    "for f in frequencies.values():\n",
    "    print(f)"
   ]
  },
  {
   "cell_type": "code",
   "execution_count": 71,
   "metadata": {},
   "outputs": [
    {
     "data": {
      "text/plain": [
       "array([[-168.0358843 , -134.61685119, -129.74863172, ..., -130.21899109,\n",
       "        -142.93045302, -146.64629203],\n",
       "       [-160.4395805 , -140.02598392, -140.10829681, ..., -140.02598392,\n",
       "        -140.00246595, -140.07301986],\n",
       "       [-160.34550863, -140.04950189, -140.09653783, ..., -140.06126087,\n",
       "        -140.07301986, -140.07301986],\n",
       "       ...,\n",
       "       [-164.0143117 , -130.94804811, -147.3400721 , ..., -139.49682963,\n",
       "        -130.23075008, -127.78488136],\n",
       "       [-150.99711618, -131.86524888, -140.51986126, ..., -139.28516792,\n",
       "        -131.24202272, -130.91277116],\n",
       "       [-153.45474388, -136.92161209, -132.26505434, ..., -141.95445733,\n",
       "        -136.15727812, -147.39886702]])"
      ]
     },
     "execution_count": 71,
     "metadata": {},
     "output_type": "execute_result"
    }
   ],
   "source": [
    "power_data_dict[str(f)]"
   ]
  },
  {
   "cell_type": "code",
   "execution_count": 72,
   "metadata": {},
   "outputs": [],
   "source": [
    "h5_file_path = '../OOI-D20150901-T000000.h5'"
   ]
  },
  {
   "cell_type": "code",
   "execution_count": 91,
   "metadata": {},
   "outputs": [
    {
     "data": {
      "text/plain": [
       "(1046, 28717, None)"
      ]
     },
     "execution_count": 91,
     "metadata": {},
     "output_type": "execute_result"
    }
   ],
   "source": [
    "(sz_power_data[0,0],sz_power_data[0,1],None)"
   ]
  },
  {
   "cell_type": "code",
   "execution_count": 93,
   "metadata": {},
   "outputs": [
    {
     "data": {
      "text/plain": [
       "(1046, 28717)"
      ]
     },
     "execution_count": 93,
     "metadata": {},
     "output_type": "execute_result"
    }
   ],
   "source": [
    "tuple(sz_power_data[0,:])"
   ]
  },
  {
   "cell_type": "code",
   "execution_count": 95,
   "metadata": {},
   "outputs": [
    {
     "data": {
      "text/plain": [
       "(1046, 28717)"
      ]
     },
     "execution_count": 95,
     "metadata": {},
     "output_type": "execute_result"
    }
   ],
   "source": [
    "power_data_dict[str(f)].shape"
   ]
  },
  {
   "cell_type": "code",
   "execution_count": 96,
   "metadata": {},
   "outputs": [],
   "source": [
    "for f in frequencies.values():\n",
    "    h5_file.create_dataset('power_data/%s' % str(f), sz_power_data[0,:], \\\n",
    "                maxshape=(sz_power_data[0,0],None), data=power_data_dict[str(f)], chunks=True)"
   ]
  },
  {
   "cell_type": "code",
   "execution_count": 103,
   "metadata": {},
   "outputs": [
    {
     "name": "stdout",
     "output_type": "stream",
     "text": [
      "120000.0\n",
      "200000.0\n",
      "38000.0\n"
     ]
    }
   ],
   "source": [
    "for name in h5_file['power_data']:\n",
    "    print(name)"
   ]
  },
  {
   "cell_type": "code",
   "execution_count": null,
   "metadata": {},
   "outputs": [],
   "source": [
    "for name in h5_file:\n",
    "    print(name)"
   ]
  },
  {
   "cell_type": "code",
   "execution_count": 79,
   "metadata": {},
   "outputs": [
    {
     "data": {
      "text/plain": [
       "(1046, 28717, None)"
      ]
     },
     "execution_count": 79,
     "metadata": {},
     "output_type": "execute_result"
    }
   ],
   "source": [
    "(sz_power_data[0,0],sz_power_data[0,1],None)"
   ]
  },
  {
   "cell_type": "code",
   "execution_count": 84,
   "metadata": {},
   "outputs": [
    {
     "data": {
      "text/plain": [
       "(1046, 28717)"
      ]
     },
     "execution_count": 84,
     "metadata": {},
     "output_type": "execute_result"
    }
   ],
   "source": [
    "tuple(sz_power_data[0,:])"
   ]
  },
  {
   "cell_type": "code",
   "execution_count": 83,
   "metadata": {},
   "outputs": [
    {
     "data": {
      "text/plain": [
       "array([ 1046, 28717])"
      ]
     },
     "execution_count": 83,
     "metadata": {},
     "output_type": "execute_result"
    }
   ],
   "source": [
    "(sz_power_data[0,:])"
   ]
  },
  {
   "cell_type": "code",
   "execution_count": 104,
   "metadata": {},
   "outputs": [
    {
     "data": {
      "text/plain": [
       "defaultdict(list,\n",
       "            {'zplsc_absorption_coeff': [0.03744031, 0.009785269, 0.05268759],\n",
       "             'zplsc_bandwidth': [3026.3916, 2425.1497, 3088.4004],\n",
       "             'zplsc_channel': [1, 2, 3],\n",
       "             'zplsc_frequency': [120000.0, 38000.0, 200000.0],\n",
       "             'zplsc_pulse_length': [0.001024, 0.001024, 0.001024],\n",
       "             'zplsc_sample_interval': [0.000256, 0.000256, 0.000256],\n",
       "             'zplsc_sound_velocity': [1493.8888, 1493.8888, 1493.8888],\n",
       "             'zplsc_temperature': [10.0, 10.0, 10.0],\n",
       "             'zplsc_timestamp': '20150901000000',\n",
       "             'zplsc_transducer_depth': [0.0, 0.0, 0.0],\n",
       "             'zplsc_transmit_power': [250.0, 500.0, 150.0]})"
      ]
     },
     "execution_count": 104,
     "metadata": {},
     "output_type": "execute_result"
    }
   ],
   "source": [
    "first_ping_metadata"
   ]
  },
  {
   "cell_type": "code",
   "execution_count": 110,
   "metadata": {},
   "outputs": [
    {
     "name": "stdout",
     "output_type": "stream",
     "text": [
      "20150901000000\n",
      "[1, 2, 3]\n",
      "[0.0, 0.0, 0.0]\n",
      "[120000.0, 38000.0, 200000.0]\n",
      "[250.0, 500.0, 150.0]\n",
      "[0.001024, 0.001024, 0.001024]\n",
      "[3026.3916, 2425.1497, 3088.4004]\n",
      "[0.000256, 0.000256, 0.000256]\n",
      "[1493.8888, 1493.8888, 1493.8888]\n",
      "[0.03744031, 0.009785269, 0.05268759]\n",
      "[10.0, 10.0, 10.0]\n"
     ]
    }
   ],
   "source": [
    "for m,mval in first_ping_metadata.items():\n",
    "#     print('%s---%s' % (m,str(mval)))\n",
    "    print(mval)"
   ]
  },
  {
   "cell_type": "code",
   "execution_count": 113,
   "metadata": {},
   "outputs": [],
   "source": [
    "for m,mval in first_ping_metadata.items():\n",
    "    h5_file.create_dataset('metadata/%s' % m, data=mval)"
   ]
  },
  {
   "cell_type": "code",
   "execution_count": 114,
   "metadata": {},
   "outputs": [
    {
     "name": "stdout",
     "output_type": "stream",
     "text": [
      "zplsc_absorption_coeff\n",
      "zplsc_bandwidth\n",
      "zplsc_channel\n",
      "zplsc_frequency\n",
      "zplsc_pulse_length\n",
      "zplsc_sample_interval\n",
      "zplsc_sound_velocity\n",
      "zplsc_temperature\n",
      "zplsc_timestamp\n",
      "zplsc_transducer_depth\n",
      "zplsc_transmit_power\n"
     ]
    }
   ],
   "source": [
    "for name in h5_file['metadata']:\n",
    "    print(name)"
   ]
  },
  {
   "cell_type": "code",
   "execution_count": 171,
   "metadata": {},
   "outputs": [
    {
     "data": {
      "text/plain": [
       "True"
      ]
     },
     "execution_count": 171,
     "metadata": {},
     "output_type": "execute_result"
    }
   ],
   "source": [
    "type(first_ping_metadata['zplsc_timestamp'])==str"
   ]
  },
  {
   "cell_type": "code",
   "execution_count": null,
   "metadata": {},
   "outputs": [],
   "source": [
    "type(first_ping_metadata['zplsc_absorption_coeff'])"
   ]
  },
  {
   "cell_type": "code",
   "execution_count": 129,
   "metadata": {},
   "outputs": [
    {
     "data": {
      "text/plain": [
       "<HDF5 dataset \"120000.0\": shape (1046, 28717), type \"<f8\">"
      ]
     },
     "execution_count": 129,
     "metadata": {},
     "output_type": "execute_result"
    }
   ],
   "source": [
    "h5_file['power_data/120000.0']"
   ]
  },
  {
   "cell_type": "code",
   "execution_count": 147,
   "metadata": {},
   "outputs": [
    {
     "data": {
      "text/plain": [
       "<HDF5 dataset \"zplsc_absorption_coeff\": shape (3,), type \"<f4\">"
      ]
     },
     "execution_count": 147,
     "metadata": {},
     "output_type": "execute_result"
    }
   ],
   "source": [
    "h5_file['metadata/zplsc_absorption_coeff']"
   ]
  },
  {
   "cell_type": "code",
   "execution_count": 188,
   "metadata": {},
   "outputs": [
    {
     "data": {
      "text/plain": [
       "<HDF5 dataset \"zplsc_timestamp\": shape (), type \"|O\">"
      ]
     },
     "execution_count": 188,
     "metadata": {},
     "output_type": "execute_result"
    }
   ],
   "source": [
    "h5_file['metadata/zplsc_timestamp']"
   ]
  },
  {
   "cell_type": "code",
   "execution_count": 162,
   "metadata": {},
   "outputs": [
    {
     "data": {
      "text/plain": [
       "<h5py._hl.dataset.AstypeContext at 0x10e35af60>"
      ]
     },
     "execution_count": 162,
     "metadata": {},
     "output_type": "execute_result"
    }
   ],
   "source": [
    "h5_file['metadata/zplsc_timestamp'].astype('a')"
   ]
  },
  {
   "cell_type": "code",
   "execution_count": 212,
   "metadata": {},
   "outputs": [],
   "source": [
    "dset = h5_file.create_dataset(\"string_ds1\", (100,), dtype=\"S10\")"
   ]
  },
  {
   "cell_type": "code",
   "execution_count": 217,
   "metadata": {},
   "outputs": [
    {
     "data": {
      "text/plain": [
       "14"
      ]
     },
     "execution_count": 217,
     "metadata": {},
     "output_type": "execute_result"
    }
   ],
   "source": [
    "len(first_ping_metadata['zplsc_timestamp'])"
   ]
  },
  {
   "cell_type": "code",
   "execution_count": 233,
   "metadata": {},
   "outputs": [],
   "source": [
    "aaa = h5_file.create_dataset(\"test2\", (100,), dtype=dt)"
   ]
  },
  {
   "cell_type": "code",
   "execution_count": 234,
   "metadata": {},
   "outputs": [],
   "source": [
    "aaa[0] = '100'"
   ]
  },
  {
   "cell_type": "code",
   "execution_count": 235,
   "metadata": {},
   "outputs": [],
   "source": [
    "aaa[1] = first_ping_metadata['zplsc_timestamp']"
   ]
  },
  {
   "cell_type": "code",
   "execution_count": 239,
   "metadata": {},
   "outputs": [
    {
     "data": {
      "text/plain": [
       "'20150901000000'"
      ]
     },
     "execution_count": 239,
     "metadata": {},
     "output_type": "execute_result"
    }
   ],
   "source": [
    "h5_file['test2'][1]"
   ]
  },
  {
   "cell_type": "code",
   "execution_count": 240,
   "metadata": {},
   "outputs": [
    {
     "data": {
      "text/plain": [
       "<HDF5 dataset \"test3\": shape (1,), type \"|O\">"
      ]
     },
     "execution_count": 240,
     "metadata": {},
     "output_type": "execute_result"
    }
   ],
   "source": [
    "h5_file.create_dataset(\"test3\", (1,), data=first_ping_metadata['zplsc_timestamp'], dtype=dt)"
   ]
  },
  {
   "cell_type": "code",
   "execution_count": 247,
   "metadata": {},
   "outputs": [],
   "source": [
    "dt = h5py.special_dtype(vlen=str)"
   ]
  },
  {
   "cell_type": "code",
   "execution_count": 255,
   "metadata": {},
   "outputs": [],
   "source": [
    "for m,mval in first_ping_metadata.items():\n",
    "    if type(first_ping_metadata[m])==str:\n",
    "        h5_file.create_dataset('metadata0/%s' % m, (1,), data=mval)\n",
    "    else:\n",
    "        h5_file.create_dataset('metadata0/%s' % m, data=mval)"
   ]
  },
  {
   "cell_type": "code",
   "execution_count": 257,
   "metadata": {},
   "outputs": [
    {
     "data": {
      "text/plain": [
       "'20150901000000'"
      ]
     },
     "execution_count": 257,
     "metadata": {},
     "output_type": "execute_result"
    }
   ],
   "source": [
    "h5_file['metadata0/zplsc_timestamp'][0]"
   ]
  },
  {
   "cell_type": "code",
   "execution_count": null,
   "metadata": {},
   "outputs": [],
   "source": []
  },
  {
   "cell_type": "code",
   "execution_count": 242,
   "metadata": {},
   "outputs": [
    {
     "data": {
      "text/plain": [
       "'20150901000000'"
      ]
     },
     "execution_count": 242,
     "metadata": {},
     "output_type": "execute_result"
    }
   ],
   "source": [
    "h5_file['test3'][0]"
   ]
  },
  {
   "cell_type": "code",
   "execution_count": 210,
   "metadata": {},
   "outputs": [
    {
     "data": {
      "text/plain": [
       "<HDF5 dataset \"string_ds\": shape (100,), type \"|S10\">"
      ]
     },
     "execution_count": 210,
     "metadata": {},
     "output_type": "execute_result"
    }
   ],
   "source": [
    "h5_file['string_ds']"
   ]
  },
  {
   "cell_type": "code",
   "execution_count": 193,
   "metadata": {},
   "outputs": [
    {
     "ename": "ValueError",
     "evalue": "Shape tuple is incompatible with data",
     "output_type": "error",
     "traceback": [
      "\u001b[0;31m---------------------------------------------------------------------------\u001b[0m",
      "\u001b[0;31mValueError\u001b[0m                                Traceback (most recent call last)",
      "\u001b[0;32m<ipython-input-193-2b6450b78850>\u001b[0m in \u001b[0;36m<module>\u001b[0;34m()\u001b[0m\n\u001b[1;32m      1\u001b[0m \u001b[0;32mfor\u001b[0m \u001b[0mm\u001b[0m\u001b[0;34m,\u001b[0m\u001b[0mmval\u001b[0m \u001b[0;32min\u001b[0m \u001b[0mfirst_ping_metadata\u001b[0m\u001b[0;34m.\u001b[0m\u001b[0mitems\u001b[0m\u001b[0;34m(\u001b[0m\u001b[0;34m)\u001b[0m\u001b[0;34m:\u001b[0m\u001b[0;34m\u001b[0m\u001b[0m\n\u001b[1;32m      2\u001b[0m     \u001b[0;32mif\u001b[0m \u001b[0mtype\u001b[0m\u001b[0;34m(\u001b[0m\u001b[0mfirst_ping_metadata\u001b[0m\u001b[0;34m[\u001b[0m\u001b[0mm\u001b[0m\u001b[0;34m]\u001b[0m\u001b[0;34m)\u001b[0m\u001b[0;34m==\u001b[0m\u001b[0mstr\u001b[0m\u001b[0;34m:\u001b[0m\u001b[0;34m\u001b[0m\u001b[0m\n\u001b[0;32m----> 3\u001b[0;31m         \u001b[0mh5_file\u001b[0m\u001b[0;34m.\u001b[0m\u001b[0mcreate_dataset\u001b[0m\u001b[0;34m(\u001b[0m\u001b[0;34m'metadata6/%s'\u001b[0m \u001b[0;34m%\u001b[0m \u001b[0mm\u001b[0m\u001b[0;34m,\u001b[0m \u001b[0;34m(\u001b[0m\u001b[0;36m16\u001b[0m\u001b[0;34m,\u001b[0m\u001b[0;34m)\u001b[0m\u001b[0;34m,\u001b[0m \u001b[0mdata\u001b[0m\u001b[0;34m=\u001b[0m\u001b[0mmval\u001b[0m\u001b[0;34m,\u001b[0m \u001b[0mdtype\u001b[0m\u001b[0;34m=\u001b[0m\u001b[0;34m\"S14\"\u001b[0m\u001b[0;34m)\u001b[0m\u001b[0;34m\u001b[0m\u001b[0m\n\u001b[0m\u001b[1;32m      4\u001b[0m     \u001b[0;32melse\u001b[0m\u001b[0;34m:\u001b[0m\u001b[0;34m\u001b[0m\u001b[0m\n\u001b[1;32m      5\u001b[0m         \u001b[0mh5_file\u001b[0m\u001b[0;34m.\u001b[0m\u001b[0mcreate_dataset\u001b[0m\u001b[0;34m(\u001b[0m\u001b[0;34m'metadata6/%s'\u001b[0m \u001b[0;34m%\u001b[0m \u001b[0mm\u001b[0m\u001b[0;34m,\u001b[0m \u001b[0mdata\u001b[0m\u001b[0;34m=\u001b[0m\u001b[0mmval\u001b[0m\u001b[0;34m)\u001b[0m\u001b[0;34m\u001b[0m\u001b[0m\n",
      "\u001b[0;32m~/miniconda3/lib/python3.6/site-packages/h5py/_hl/group.py\u001b[0m in \u001b[0;36mcreate_dataset\u001b[0;34m(self, name, shape, dtype, data, **kwds)\u001b[0m\n\u001b[1;32m    104\u001b[0m         \"\"\"\n\u001b[1;32m    105\u001b[0m         \u001b[0;32mwith\u001b[0m \u001b[0mphil\u001b[0m\u001b[0;34m:\u001b[0m\u001b[0;34m\u001b[0m\u001b[0m\n\u001b[0;32m--> 106\u001b[0;31m             \u001b[0mdsid\u001b[0m \u001b[0;34m=\u001b[0m \u001b[0mdataset\u001b[0m\u001b[0;34m.\u001b[0m\u001b[0mmake_new_dset\u001b[0m\u001b[0;34m(\u001b[0m\u001b[0mself\u001b[0m\u001b[0;34m,\u001b[0m \u001b[0mshape\u001b[0m\u001b[0;34m,\u001b[0m \u001b[0mdtype\u001b[0m\u001b[0;34m,\u001b[0m \u001b[0mdata\u001b[0m\u001b[0;34m,\u001b[0m \u001b[0;34m**\u001b[0m\u001b[0mkwds\u001b[0m\u001b[0;34m)\u001b[0m\u001b[0;34m\u001b[0m\u001b[0m\n\u001b[0m\u001b[1;32m    107\u001b[0m             \u001b[0mdset\u001b[0m \u001b[0;34m=\u001b[0m \u001b[0mdataset\u001b[0m\u001b[0;34m.\u001b[0m\u001b[0mDataset\u001b[0m\u001b[0;34m(\u001b[0m\u001b[0mdsid\u001b[0m\u001b[0;34m)\u001b[0m\u001b[0;34m\u001b[0m\u001b[0m\n\u001b[1;32m    108\u001b[0m             \u001b[0;32mif\u001b[0m \u001b[0mname\u001b[0m \u001b[0;32mis\u001b[0m \u001b[0;32mnot\u001b[0m \u001b[0;32mNone\u001b[0m\u001b[0;34m:\u001b[0m\u001b[0;34m\u001b[0m\u001b[0m\n",
      "\u001b[0;32m~/miniconda3/lib/python3.6/site-packages/h5py/_hl/dataset.py\u001b[0m in \u001b[0;36mmake_new_dset\u001b[0;34m(parent, shape, dtype, data, chunks, compression, shuffle, fletcher32, maxshape, compression_opts, fillvalue, scaleoffset, track_times)\u001b[0m\n\u001b[1;32m     75\u001b[0m         \u001b[0mshape\u001b[0m \u001b[0;34m=\u001b[0m \u001b[0mtuple\u001b[0m\u001b[0;34m(\u001b[0m\u001b[0mshape\u001b[0m\u001b[0;34m)\u001b[0m\u001b[0;34m\u001b[0m\u001b[0m\n\u001b[1;32m     76\u001b[0m         \u001b[0;32mif\u001b[0m \u001b[0mdata\u001b[0m \u001b[0;32mis\u001b[0m \u001b[0;32mnot\u001b[0m \u001b[0;32mNone\u001b[0m \u001b[0;32mand\u001b[0m \u001b[0;34m(\u001b[0m\u001b[0mnumpy\u001b[0m\u001b[0;34m.\u001b[0m\u001b[0mproduct\u001b[0m\u001b[0;34m(\u001b[0m\u001b[0mshape\u001b[0m\u001b[0;34m)\u001b[0m \u001b[0;34m!=\u001b[0m \u001b[0mnumpy\u001b[0m\u001b[0;34m.\u001b[0m\u001b[0mproduct\u001b[0m\u001b[0;34m(\u001b[0m\u001b[0mdata\u001b[0m\u001b[0;34m.\u001b[0m\u001b[0mshape\u001b[0m\u001b[0;34m)\u001b[0m\u001b[0;34m)\u001b[0m\u001b[0;34m:\u001b[0m\u001b[0;34m\u001b[0m\u001b[0m\n\u001b[0;32m---> 77\u001b[0;31m             \u001b[0;32mraise\u001b[0m \u001b[0mValueError\u001b[0m\u001b[0;34m(\u001b[0m\u001b[0;34m\"Shape tuple is incompatible with data\"\u001b[0m\u001b[0;34m)\u001b[0m\u001b[0;34m\u001b[0m\u001b[0m\n\u001b[0m\u001b[1;32m     78\u001b[0m \u001b[0;34m\u001b[0m\u001b[0m\n\u001b[1;32m     79\u001b[0m     \u001b[0mtmp_shape\u001b[0m \u001b[0;34m=\u001b[0m \u001b[0mmaxshape\u001b[0m \u001b[0;32mif\u001b[0m \u001b[0mmaxshape\u001b[0m \u001b[0;32mis\u001b[0m \u001b[0;32mnot\u001b[0m \u001b[0;32mNone\u001b[0m \u001b[0;32melse\u001b[0m \u001b[0mshape\u001b[0m\u001b[0;34m\u001b[0m\u001b[0m\n",
      "\u001b[0;31mValueError\u001b[0m: Shape tuple is incompatible with data"
     ]
    }
   ],
   "source": [
    "for m,mval in first_ping_metadata.items():\n",
    "    if type(first_ping_metadata[m])==str:\n",
    "        h5_file.create_dataset('metadata6/%s' % m, (16,), data=mval, dtype=\"S14\")\n",
    "    else:\n",
    "        h5_file.create_dataset('metadata6/%s' % m, data=mval)"
   ]
  },
  {
   "cell_type": "code",
   "execution_count": 178,
   "metadata": {},
   "outputs": [],
   "source": [
    "for m,mval in first_ping_metadata.items():\n",
    "    h5_file.create_dataset('metadata3/%s' % m, data=mval)"
   ]
  },
  {
   "cell_type": "code",
   "execution_count": 180,
   "metadata": {},
   "outputs": [
    {
     "data": {
      "text/plain": [
       "<HDF5 dataset \"zplsc_timestamp\": shape (), type \"|O\">"
      ]
     },
     "execution_count": 180,
     "metadata": {},
     "output_type": "execute_result"
    }
   ],
   "source": [
    "h5_file['metadata4/zplsc_timestamp']"
   ]
  },
  {
   "cell_type": "code",
   "execution_count": 219,
   "metadata": {},
   "outputs": [
    {
     "data": {
      "text/plain": [
       "'20150901000000'"
      ]
     },
     "execution_count": 219,
     "metadata": {},
     "output_type": "execute_result"
    }
   ],
   "source": [
    "first_ping_metadata['zplsc_timestamp']"
   ]
  },
  {
   "cell_type": "code",
   "execution_count": 222,
   "metadata": {},
   "outputs": [
    {
     "data": {
      "text/plain": [
       "'<HDF5 dataset \"zplsc_timestamp\": shape (), type \"|O\">'"
      ]
     },
     "execution_count": 222,
     "metadata": {},
     "output_type": "execute_result"
    }
   ],
   "source": [
    "h5_file['metadata4/zplsc_timestamp']"
   ]
  },
  {
   "cell_type": "code",
   "execution_count": null,
   "metadata": {},
   "outputs": [],
   "source": []
  },
  {
   "cell_type": "code",
   "execution_count": null,
   "metadata": {},
   "outputs": [],
   "source": []
  },
  {
   "cell_type": "code",
   "execution_count": null,
   "metadata": {},
   "outputs": [],
   "source": []
  },
  {
   "cell_type": "code",
   "execution_count": 131,
   "metadata": {},
   "outputs": [
    {
     "data": {
      "text/plain": [
       "array([0.19121777], dtype=float32)"
      ]
     },
     "execution_count": 131,
     "metadata": {},
     "output_type": "execute_result"
    }
   ],
   "source": [
    "bin_size"
   ]
  },
  {
   "cell_type": "code",
   "execution_count": 132,
   "metadata": {},
   "outputs": [
    {
     "data": {
      "text/plain": [
       "{'sounder_name': b'ER60',\n",
       " 'survey_name': b'OOI',\n",
       " 'transducer_count': 3,\n",
       " 'transect_name': b'',\n",
       " 'version': b'2.4.3'}"
      ]
     },
     "execution_count": 132,
     "metadata": {},
     "output_type": "execute_result"
    }
   ],
   "source": [
    "config_header"
   ]
  },
  {
   "cell_type": "code",
   "execution_count": 134,
   "metadata": {},
   "outputs": [],
   "source": [
    "# -- header: fixed sized\n",
    "for m,mval in config_header.items():\n",
    "    h5_file.create_dataset('header/%s' % m, data=mval)"
   ]
  },
  {
   "cell_type": "code",
   "execution_count": 293,
   "metadata": {},
   "outputs": [
    {
     "name": "stdout",
     "output_type": "stream",
     "text": [
      "3\n",
      "0\n",
      "4\n",
      "5\n"
     ]
    },
    {
     "ename": "TypeError",
     "evalue": "object of type 'int' has no len()",
     "output_type": "error",
     "traceback": [
      "\u001b[0;31m---------------------------------------------------------------------------\u001b[0m",
      "\u001b[0;31mTypeError\u001b[0m                                 Traceback (most recent call last)",
      "\u001b[0;32m<ipython-input-293-2110c24601f6>\u001b[0m in \u001b[0;36m<module>\u001b[0;34m()\u001b[0m\n\u001b[1;32m      1\u001b[0m \u001b[0;31m# -- header: fixed sized\u001b[0m\u001b[0;34m\u001b[0m\u001b[0;34m\u001b[0m\u001b[0m\n\u001b[1;32m      2\u001b[0m \u001b[0;32mfor\u001b[0m \u001b[0mm\u001b[0m\u001b[0;34m,\u001b[0m\u001b[0mmval\u001b[0m \u001b[0;32min\u001b[0m \u001b[0mconfig_header\u001b[0m\u001b[0;34m.\u001b[0m\u001b[0mitems\u001b[0m\u001b[0;34m(\u001b[0m\u001b[0;34m)\u001b[0m\u001b[0;34m:\u001b[0m\u001b[0;34m\u001b[0m\u001b[0m\n\u001b[0;32m----> 3\u001b[0;31m     \u001b[0mprint\u001b[0m\u001b[0;34m(\u001b[0m\u001b[0mlen\u001b[0m\u001b[0;34m(\u001b[0m\u001b[0mmval\u001b[0m\u001b[0;34m)\u001b[0m\u001b[0;34m)\u001b[0m\u001b[0;34m\u001b[0m\u001b[0m\n\u001b[0m",
      "\u001b[0;31mTypeError\u001b[0m: object of type 'int' has no len()"
     ]
    }
   ],
   "source": [
    "# -- header: fixed sized\n",
    "for m,mval in config_header.items():\n",
    "    print(len(mval))"
   ]
  },
  {
   "cell_type": "code",
   "execution_count": 135,
   "metadata": {},
   "outputs": [
    {
     "name": "stdout",
     "output_type": "stream",
     "text": [
      "sounder_name\n",
      "survey_name\n",
      "transducer_count\n",
      "transect_name\n",
      "version\n"
     ]
    }
   ],
   "source": [
    "for name in h5_file['header']:\n",
    "    print(name)"
   ]
  },
  {
   "cell_type": "code",
   "execution_count": 290,
   "metadata": {},
   "outputs": [],
   "source": [
    "for m,mval in config_header.items():\n",
    "    if type(config_header[m])==bytes:\n",
    "        h5_file.create_dataset('header4/%s' % m, (1,), data=mval, dtype=h5py.special_dtype(vlen=str))\n",
    "    else:\n",
    "        h5_file.create_dataset('header4/%s' % m, (1,), data=mval)"
   ]
  },
  {
   "cell_type": "code",
   "execution_count": 289,
   "metadata": {},
   "outputs": [
    {
     "ename": "TypeError",
     "evalue": "len() of unsized object",
     "output_type": "error",
     "traceback": [
      "\u001b[0;31m---------------------------------------------------------------------------\u001b[0m",
      "\u001b[0;31mTypeError\u001b[0m                                 Traceback (most recent call last)",
      "\u001b[0;32m<ipython-input-289-44c1f135497f>\u001b[0m in \u001b[0;36m<module>\u001b[0;34m()\u001b[0m\n\u001b[0;32m----> 1\u001b[0;31m \u001b[0mlen\u001b[0m\u001b[0;34m(\u001b[0m\u001b[0mnp\u001b[0m\u001b[0;34m.\u001b[0m\u001b[0marray\u001b[0m\u001b[0;34m(\u001b[0m\u001b[0mconfig_header\u001b[0m\u001b[0;34m[\u001b[0m\u001b[0;34m'transducer_count'\u001b[0m\u001b[0;34m]\u001b[0m\u001b[0;34m)\u001b[0m\u001b[0;34m)\u001b[0m\u001b[0;34m\u001b[0m\u001b[0m\n\u001b[0m",
      "\u001b[0;31mTypeError\u001b[0m: len() of unsized object"
     ]
    }
   ],
   "source": []
  },
  {
   "cell_type": "code",
   "execution_count": 269,
   "metadata": {},
   "outputs": [
    {
     "data": {
      "text/plain": [
       "'ER60'"
      ]
     },
     "execution_count": 269,
     "metadata": {},
     "output_type": "execute_result"
    }
   ],
   "source": [
    "h5_file['header2/sounder_name'][0]"
   ]
  },
  {
   "cell_type": "code",
   "execution_count": 270,
   "metadata": {},
   "outputs": [
    {
     "data": {
      "text/plain": [
       "'OOI'"
      ]
     },
     "execution_count": 270,
     "metadata": {},
     "output_type": "execute_result"
    }
   ],
   "source": [
    "h5_file['header2/survey_name'][0]"
   ]
  },
  {
   "cell_type": "code",
   "execution_count": 291,
   "metadata": {},
   "outputs": [
    {
     "data": {
      "text/plain": [
       "3"
      ]
     },
     "execution_count": 291,
     "metadata": {},
     "output_type": "execute_result"
    }
   ],
   "source": [
    "h5_file['header4/transducer_count'][0]"
   ]
  },
  {
   "cell_type": "code",
   "execution_count": 292,
   "metadata": {},
   "outputs": [
    {
     "data": {
      "text/plain": [
       "range(0, 3)"
      ]
     },
     "execution_count": 292,
     "metadata": {},
     "output_type": "execute_result"
    }
   ],
   "source": [
    "range(len(config_transducer))"
   ]
  },
  {
   "cell_type": "code",
   "execution_count": 300,
   "metadata": {},
   "outputs": [
    {
     "data": {
      "text/plain": [
       "True"
      ]
     },
     "execution_count": 300,
     "metadata": {},
     "output_type": "execute_result"
    }
   ],
   "source": [
    "type(config_transducer[0]['angle_offset_alongship'])==float"
   ]
  },
  {
   "cell_type": "code",
   "execution_count": null,
   "metadata": {},
   "outputs": [],
   "source": []
  },
  {
   "cell_type": "code",
   "execution_count": null,
   "metadata": {},
   "outputs": [],
   "source": []
  },
  {
   "cell_type": "code",
   "execution_count": null,
   "metadata": {},
   "outputs": [],
   "source": []
  },
  {
   "cell_type": "code",
   "execution_count": null,
   "metadata": {},
   "outputs": [],
   "source": []
  },
  {
   "cell_type": "code",
   "execution_count": 133,
   "metadata": {},
   "outputs": [
    {
     "data": {
      "text/plain": [
       "[{'angle_offset_alongship': 0.0,\n",
       "  'angle_offset_athwart': 0.0,\n",
       "  'angle_sensitivity_alongship': 23.0,\n",
       "  'angle_sensitivity_athwartship': 23.0,\n",
       "  'beam_type': 1,\n",
       "  'beam_width_alongship': 7.0,\n",
       "  'beam_width_athwartship': 7.0,\n",
       "  'channel_id': b'GPT 120 kHz 00907208a0b1 3-1 ES120-7CD',\n",
       "  'dir_x': 0.0,\n",
       "  'dir_y': 0.0,\n",
       "  'dir_z': 0.0,\n",
       "  'equiv_beam_angle': -20.700000762939453,\n",
       "  'frequency': 120000.0,\n",
       "  'gain': 25.0,\n",
       "  'gain_table': array([23.5       , 24.79999924, 25.        , 25.        , 25.        ]),\n",
       "  'gpt_software_version': b'070413',\n",
       "  'pos_x': 0.0,\n",
       "  'pos_y': 0.0,\n",
       "  'pos_z': 0.0,\n",
       "  'pulse_length_table': array([6.39999998e-05, 1.28000000e-04, 2.55999999e-04, 5.11999999e-04,\n",
       "         1.02400000e-03]),\n",
       "  'sa_correction_table': array([0., 0., 0., 0., 0.])},\n",
       " {'angle_offset_alongship': 0.0,\n",
       "  'angle_offset_athwart': 0.0,\n",
       "  'angle_sensitivity_alongship': 21.899999618530273,\n",
       "  'angle_sensitivity_athwartship': 21.899999618530273,\n",
       "  'beam_type': 0,\n",
       "  'beam_width_alongship': 7.099999904632568,\n",
       "  'beam_width_athwartship': 7.099999904632568,\n",
       "  'channel_id': b'GPT  38 kHz 00907208dd13 5-1 OOI.38|200',\n",
       "  'dir_x': 0.0,\n",
       "  'dir_y': 0.0,\n",
       "  'dir_z': 0.0,\n",
       "  'equiv_beam_angle': -20.600000381469727,\n",
       "  'frequency': 38000.0,\n",
       "  'gain': 26.5,\n",
       "  'gain_table': array([24. , 26. , 26.5, 26.5, 26.5]),\n",
       "  'gpt_software_version': b'150120',\n",
       "  'pos_x': 0.0,\n",
       "  'pos_y': 0.0,\n",
       "  'pos_z': 0.0,\n",
       "  'pulse_length_table': array([0.000256, 0.000512, 0.001024, 0.002048, 0.004096]),\n",
       "  'sa_correction_table': array([0., 0., 0., 0., 0.])},\n",
       " {'angle_offset_alongship': 0.0,\n",
       "  'angle_offset_athwart': 0.0,\n",
       "  'angle_sensitivity_alongship': 23.0,\n",
       "  'angle_sensitivity_athwartship': 23.0,\n",
       "  'beam_type': 0,\n",
       "  'beam_width_alongship': 7.0,\n",
       "  'beam_width_athwartship': 7.0,\n",
       "  'channel_id': b'GPT 200 kHz 00907208dd13 5-2 OOI38|200',\n",
       "  'dir_x': 0.0,\n",
       "  'dir_y': 0.0,\n",
       "  'dir_z': 0.0,\n",
       "  'equiv_beam_angle': -20.700000762939453,\n",
       "  'frequency': 200000.0,\n",
       "  'gain': 25.0,\n",
       "  'gain_table': array([23.5       , 24.79999924, 25.        , 25.        , 25.        ]),\n",
       "  'gpt_software_version': b'150120',\n",
       "  'pos_x': 0.0,\n",
       "  'pos_y': 0.0,\n",
       "  'pos_z': 0.0,\n",
       "  'pulse_length_table': array([6.39999998e-05, 1.28000000e-04, 2.55999999e-04, 5.11999999e-04,\n",
       "         1.02400000e-03]),\n",
       "  'sa_correction_table': array([0., 0., 0., 0., 0.])}]"
      ]
     },
     "execution_count": 133,
     "metadata": {},
     "output_type": "execute_result"
    }
   ],
   "source": [
    "config_transducer"
   ]
  },
  {
   "cell_type": "code",
   "execution_count": 301,
   "metadata": {},
   "outputs": [],
   "source": [
    "h5_file.close()"
   ]
  },
  {
   "cell_type": "code",
   "execution_count": 302,
   "metadata": {},
   "outputs": [],
   "source": [
    "h5_file_path = '../OOI-D20150901-T000000_new.h5'"
   ]
  },
  {
   "cell_type": "code",
   "execution_count": 303,
   "metadata": {},
   "outputs": [],
   "source": [
    "    # Check if input dimension makes sense, if not abort\n",
    "    sz_power_data = np.empty(shape=(len(frequencies),2),dtype=int)\n",
    "    for cnt,f in zip(range(len(frequencies)),frequencies.keys()):\n",
    "        f_str = str(frequencies[f])\n",
    "        sz_power_data[cnt,:] = power_data_dict[f_str].shape"
   ]
  },
  {
   "cell_type": "code",
   "execution_count": 304,
   "metadata": {},
   "outputs": [
    {
     "data": {
      "text/plain": [
       "<HDF5 dataset \"ping_time\": shape (28717,), type \"<f8\">"
      ]
     },
     "execution_count": 304,
     "metadata": {},
     "output_type": "execute_result"
    }
   ],
   "source": [
    "    # Open new hdf5 file\n",
    "    h5_file = h5py.File(h5_file_path,'x')  # create file, fail if exists\n",
    "\n",
    "    # Store data\n",
    "    # -- ping time: resizable\n",
    "    h5_file.create_dataset('ping_time', (sz_power_data[0,1],), \\\n",
    "                    maxshape=(None,), data=data_times, chunks=True)\n"
   ]
  },
  {
   "cell_type": "code",
   "execution_count": 305,
   "metadata": {},
   "outputs": [],
   "source": [
    "    # -- power data: resizable\n",
    "    for f in frequencies.values():\n",
    "        h5_file.create_dataset('power_data/%s' % str(f), sz_power_data[0,:], \\\n",
    "                    maxshape=(sz_power_data[0,0],None), data=power_data_dict[str(f)], chunks=True)\n"
   ]
  },
  {
   "cell_type": "code",
   "execution_count": 306,
   "metadata": {},
   "outputs": [
    {
     "ename": "TypeError",
     "evalue": "list indices must be integers or slices, not str",
     "output_type": "error",
     "traceback": [
      "\u001b[0;31m---------------------------------------------------------------------------\u001b[0m",
      "\u001b[0;31mTypeError\u001b[0m                                 Traceback (most recent call last)",
      "\u001b[0;32m<ipython-input-306-cc96abad5f9a>\u001b[0m in \u001b[0;36m<module>\u001b[0;34m()\u001b[0m\n\u001b[1;32m      5\u001b[0m         \u001b[0mh5_file\u001b[0m\u001b[0;34m.\u001b[0m\u001b[0mcreate_dataset\u001b[0m\u001b[0;34m(\u001b[0m\u001b[0;34m'metadata/%s'\u001b[0m \u001b[0;34m%\u001b[0m \u001b[0mm\u001b[0m\u001b[0;34m,\u001b[0m \u001b[0;34m(\u001b[0m\u001b[0;36m1\u001b[0m\u001b[0;34m,\u001b[0m\u001b[0;34m)\u001b[0m\u001b[0;34m,\u001b[0m \u001b[0mdata\u001b[0m\u001b[0;34m=\u001b[0m\u001b[0mmval\u001b[0m\u001b[0;34m,\u001b[0m \u001b[0mdtype\u001b[0m\u001b[0;34m=\u001b[0m\u001b[0mdt\u001b[0m\u001b[0;34m)\u001b[0m\u001b[0;34m\u001b[0m\u001b[0m\n\u001b[1;32m      6\u001b[0m     \u001b[0;31m# when only 1 int or float object\u001b[0m\u001b[0;34m\u001b[0m\u001b[0;34m\u001b[0m\u001b[0m\n\u001b[0;32m----> 7\u001b[0;31m     \u001b[0;32melif\u001b[0m \u001b[0mtype\u001b[0m\u001b[0;34m(\u001b[0m\u001b[0mconfig_transducer\u001b[0m\u001b[0;34m[\u001b[0m\u001b[0mm\u001b[0m\u001b[0;34m]\u001b[0m\u001b[0;34m)\u001b[0m\u001b[0;34m==\u001b[0m\u001b[0mint\u001b[0m \u001b[0;34m|\u001b[0m \u001b[0mtype\u001b[0m\u001b[0;34m(\u001b[0m\u001b[0mconfig_transducer\u001b[0m\u001b[0;34m[\u001b[0m\u001b[0mm\u001b[0m\u001b[0;34m]\u001b[0m\u001b[0;34m)\u001b[0m\u001b[0;34m==\u001b[0m\u001b[0mfloat\u001b[0m\u001b[0;34m:\u001b[0m\u001b[0;34m\u001b[0m\u001b[0m\n\u001b[0m\u001b[1;32m      8\u001b[0m         \u001b[0mh5_file\u001b[0m\u001b[0;34m.\u001b[0m\u001b[0mcreate_dataset\u001b[0m\u001b[0;34m(\u001b[0m\u001b[0;34m'header/%s'\u001b[0m \u001b[0;34m%\u001b[0m \u001b[0mm\u001b[0m\u001b[0;34m,\u001b[0m \u001b[0;34m(\u001b[0m\u001b[0;36m1\u001b[0m\u001b[0;34m,\u001b[0m\u001b[0;34m)\u001b[0m\u001b[0;34m,\u001b[0m \u001b[0mdata\u001b[0m\u001b[0;34m=\u001b[0m\u001b[0mmval\u001b[0m\u001b[0;34m)\u001b[0m\u001b[0;34m\u001b[0m\u001b[0m\n\u001b[1;32m      9\u001b[0m     \u001b[0;32melse\u001b[0m\u001b[0;34m:\u001b[0m\u001b[0;34m\u001b[0m\u001b[0m\n",
      "\u001b[0;31mTypeError\u001b[0m: list indices must be integers or slices, not str"
     ]
    }
   ],
   "source": [
    "    # -- metadata: fixed sized\n",
    "    dt = h5py.special_dtype(vlen=str)\n",
    "    for m,mval in first_ping_metadata.items():\n",
    "        if type(first_ping_metadata[m])==str:\n",
    "            h5_file.create_dataset('metadata/%s' % m, (1,), data=mval, dtype=dt)\n",
    "        # when only 1 int or float object\n",
    "        elif type(config_transducer[m])==int | type(config_transducer[m])==float:\n",
    "            h5_file.create_dataset('header/%s' % m, (1,), data=mval)\n",
    "        else:\n",
    "            h5_file.create_dataset('metadata/%s' % m, data=mval)\n",
    "    h5_file.create_dataset('metadata/bin_size', data=binsize)\n"
   ]
  },
  {
   "cell_type": "code",
   "execution_count": 309,
   "metadata": {},
   "outputs": [],
   "source": [
    "    for m,mval in first_ping_metadata.items():\n",
    "        if type(first_ping_metadata[m])==str:\n",
    "            h5_file.create_dataset('metadata2/%s' % m, (1,), data=mval, dtype=dt)\n",
    "        # when only 1 int or float object\n",
    "        elif type(first_ping_metadata[m])==int or type(first_ping_metadata[m])==float:\n",
    "            h5_file.create_dataset('metadata2/%s' % m, (1,), data=mval)\n",
    "        else:\n",
    "            h5_file.create_dataset('metadata2/%s' % m, data=mval)\n"
   ]
  },
  {
   "cell_type": "code",
   "execution_count": 311,
   "metadata": {},
   "outputs": [],
   "source": [
    "    h5_file.create_dataset('metadata/bin_size', data=bin_size)\n",
    "\n",
    "    # -- header: fixed sized\n",
    "    for m,mval in config_header.items():\n",
    "        # when a string\n",
    "        if type(config_header[m])==str:\n",
    "            h5_file.create_dataset('header/%s' % m, (1,), data=mval, dtype=h5py.special_dtype(vlen=str))\n",
    "        # when only 1 int or float object\n",
    "        elif type(config_header[m])==int or type(config_header[m])==float:\n",
    "            h5_file.create_dataset('header/%s' % m, (1,), data=mval)\n"
   ]
  },
  {
   "cell_type": "code",
   "execution_count": 326,
   "metadata": {},
   "outputs": [
    {
     "name": "stdout",
     "output_type": "stream",
     "text": [
      "1\n",
      "2\n",
      "3\n"
     ]
    }
   ],
   "source": [
    "for i in range(1,len(config_transducer)+1):\n",
    "    print(i)"
   ]
  },
  {
   "cell_type": "code",
   "execution_count": 327,
   "metadata": {},
   "outputs": [],
   "source": [
    "    for tx in range(len(config_transducer)):\n",
    "        for m,mval in config_transducer[tx].items():\n",
    "            # when a string\n",
    "            if type(config_transducer[tx][m])==str:\n",
    "                h5_file.create_dataset('transducer%02d2/%s' % (tx,m), (1,), data=mval, dtype=h5py.special_dtype(vlen=str))\n",
    "            # when only 1 int or float object\n",
    "            elif type(config_transducer[tx][m])==int or type(config_transducer[tx][m])==float:\n",
    "                h5_file.create_dataset('transducer%02d2/%s' % (tx,m), (1,), data=mval)\n",
    "            else:\n",
    "                h5_file.create_dataset('transducer%02d2/%s' % (tx,m), data=mval)\n"
   ]
  },
  {
   "cell_type": "code",
   "execution_count": 321,
   "metadata": {},
   "outputs": [
    {
     "name": "stdout",
     "output_type": "stream",
     "text": [
      "channel_id\n",
      "b'GPT  38 kHz 00907208dd13 5-1 OOI.38|200'\n",
      "beam_type\n",
      "0\n",
      "frequency\n",
      "38000.0\n",
      "gain\n",
      "26.5\n",
      "equiv_beam_angle\n",
      "-20.600000381469727\n",
      "beam_width_alongship\n",
      "7.099999904632568\n",
      "beam_width_athwartship\n",
      "7.099999904632568\n",
      "angle_sensitivity_alongship\n",
      "21.899999618530273\n",
      "angle_sensitivity_athwartship\n",
      "21.899999618530273\n",
      "angle_offset_alongship\n",
      "0.0\n",
      "angle_offset_athwart\n",
      "0.0\n",
      "pos_x\n",
      "0.0\n",
      "pos_y\n",
      "0.0\n",
      "pos_z\n",
      "0.0\n",
      "dir_x\n",
      "0.0\n",
      "dir_y\n",
      "0.0\n",
      "dir_z\n",
      "0.0\n",
      "pulse_length_table\n",
      "[0.000256 0.000512 0.001024 0.002048 0.004096]\n",
      "gain_table\n",
      "[24.  26.  26.5 26.5 26.5]\n",
      "sa_correction_table\n",
      "[0. 0. 0. 0. 0.]\n",
      "gpt_software_version\n",
      "b'150120'\n",
      "channel_id\n",
      "b'GPT 200 kHz 00907208dd13 5-2 OOI38|200'\n",
      "beam_type\n",
      "0\n",
      "frequency\n",
      "200000.0\n",
      "gain\n",
      "25.0\n",
      "equiv_beam_angle\n",
      "-20.700000762939453\n",
      "beam_width_alongship\n",
      "7.0\n",
      "beam_width_athwartship\n",
      "7.0\n",
      "angle_sensitivity_alongship\n",
      "23.0\n",
      "angle_sensitivity_athwartship\n",
      "23.0\n",
      "angle_offset_alongship\n",
      "0.0\n",
      "angle_offset_athwart\n",
      "0.0\n",
      "pos_x\n",
      "0.0\n",
      "pos_y\n",
      "0.0\n",
      "pos_z\n",
      "0.0\n",
      "dir_x\n",
      "0.0\n",
      "dir_y\n",
      "0.0\n",
      "dir_z\n",
      "0.0\n",
      "pulse_length_table\n",
      "[6.39999998e-05 1.28000000e-04 2.55999999e-04 5.11999999e-04\n",
      " 1.02400000e-03]\n",
      "gain_table\n",
      "[23.5        24.79999924 25.         25.         25.        ]\n",
      "sa_correction_table\n",
      "[0. 0. 0. 0. 0.]\n",
      "gpt_software_version\n",
      "b'150120'\n"
     ]
    },
    {
     "ename": "IndexError",
     "evalue": "list index out of range",
     "output_type": "error",
     "traceback": [
      "\u001b[0;31m---------------------------------------------------------------------------\u001b[0m",
      "\u001b[0;31mIndexError\u001b[0m                                Traceback (most recent call last)",
      "\u001b[0;32m<ipython-input-321-052183f58a96>\u001b[0m in \u001b[0;36m<module>\u001b[0;34m()\u001b[0m\n\u001b[1;32m      1\u001b[0m \u001b[0;32mfor\u001b[0m \u001b[0mtx\u001b[0m \u001b[0;32min\u001b[0m \u001b[0mrange\u001b[0m\u001b[0;34m(\u001b[0m\u001b[0;36m1\u001b[0m\u001b[0;34m,\u001b[0m\u001b[0mlen\u001b[0m\u001b[0;34m(\u001b[0m\u001b[0mconfig_transducer\u001b[0m\u001b[0;34m)\u001b[0m\u001b[0;34m+\u001b[0m\u001b[0;36m1\u001b[0m\u001b[0;34m)\u001b[0m\u001b[0;34m:\u001b[0m\u001b[0;34m\u001b[0m\u001b[0m\n\u001b[0;32m----> 2\u001b[0;31m     \u001b[0;32mfor\u001b[0m \u001b[0mm\u001b[0m\u001b[0;34m,\u001b[0m\u001b[0mmval\u001b[0m \u001b[0;32min\u001b[0m \u001b[0mconfig_transducer\u001b[0m\u001b[0;34m[\u001b[0m\u001b[0mtx\u001b[0m\u001b[0;34m]\u001b[0m\u001b[0;34m.\u001b[0m\u001b[0mitems\u001b[0m\u001b[0;34m(\u001b[0m\u001b[0;34m)\u001b[0m\u001b[0;34m:\u001b[0m\u001b[0;34m\u001b[0m\u001b[0m\n\u001b[0m\u001b[1;32m      3\u001b[0m         \u001b[0mprint\u001b[0m\u001b[0;34m(\u001b[0m\u001b[0mm\u001b[0m\u001b[0;34m)\u001b[0m\u001b[0;34m\u001b[0m\u001b[0m\n\u001b[1;32m      4\u001b[0m         \u001b[0mprint\u001b[0m\u001b[0;34m(\u001b[0m\u001b[0mmval\u001b[0m\u001b[0;34m)\u001b[0m\u001b[0;34m\u001b[0m\u001b[0m\n",
      "\u001b[0;31mIndexError\u001b[0m: list index out of range"
     ]
    }
   ],
   "source": [
    "    for tx in range(1,len(config_transducer)+1):\n",
    "        for m,mval in config_transducer[tx].items():\n",
    "            print(m)\n",
    "            print(mval)\n"
   ]
  },
  {
   "cell_type": "code",
   "execution_count": null,
   "metadata": {},
   "outputs": [],
   "source": []
  },
  {
   "cell_type": "code",
   "execution_count": null,
   "metadata": {},
   "outputs": [],
   "source": []
  }
 ],
 "metadata": {
  "kernelspec": {
   "display_name": "Python 3",
   "language": "python",
   "name": "python3"
  },
  "language_info": {
   "codemirror_mode": {
    "name": "ipython",
    "version": 3
   },
   "file_extension": ".py",
   "mimetype": "text/x-python",
   "name": "python",
   "nbconvert_exporter": "python",
   "pygments_lexer": "ipython3",
   "version": "3.6.3"
  }
 },
 "nbformat": 4,
 "nbformat_minor": 2
}
