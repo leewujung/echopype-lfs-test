{
 "cells": [
  {
   "cell_type": "code",
   "execution_count": 1,
   "metadata": {},
   "outputs": [],
   "source": [
    "import sys"
   ]
  },
  {
   "cell_type": "code",
   "execution_count": 7,
   "metadata": {},
   "outputs": [],
   "source": [
    "sys.path.insert(0,'../')\n",
    "from unpack_ek60 import load_ek60_raw"
   ]
  },
  {
   "cell_type": "code",
   "execution_count": 8,
   "metadata": {},
   "outputs": [],
   "source": [
    "import matplotlib.pyplot as plt\n",
    "import h5py"
   ]
  },
  {
   "cell_type": "code",
   "execution_count": 15,
   "metadata": {},
   "outputs": [],
   "source": [
    "import numpy as np"
   ]
  },
  {
   "cell_type": "code",
   "execution_count": 9,
   "metadata": {},
   "outputs": [],
   "source": [
    "input_file_path = '../OOI-D20150901-T000000.raw'"
   ]
  },
  {
   "cell_type": "code",
   "execution_count": 12,
   "metadata": {},
   "outputs": [
    {
     "name": "stdout",
     "output_type": "stream",
     "text": [
      "09:24:41  unpacking file: ../OOI-D20150901-T000000.raw\n",
      "CPU times: user 9.6 s, sys: 3.64 s, total: 13.2 s\n",
      "Wall time: 14 s\n"
     ]
    }
   ],
   "source": [
    "%%time\n",
    "first_ping_metadata, data_times, power_data_dict, frequencies, bin_size, \\\n",
    "    config_header, config_transducer = load_ek60_raw(input_file_path)"
   ]
  },
  {
   "cell_type": "code",
   "execution_count": 56,
   "metadata": {},
   "outputs": [],
   "source": [
    "def save_metadata(val,group_info,data_name,fh):\n",
    "    '''\n",
    "    Check data type and save to hdf5\n",
    "\n",
    "    val          data to be saved\n",
    "    group_info   a string (group name, e.g., header) or\n",
    "                 a list (group name and sequence number, e.g., [tranducer, 1]).\n",
    "    data_name    name of data set under group\n",
    "    fh           handle of the file to be saved to\n",
    "    '''\n",
    "    if type(group_info)==str:  # no sequence in group_info\n",
    "        # when data is a string\n",
    "        if type(val)==str or type(val)==bytes:\n",
    "            fh.create_dataset('%s/%s' % (group_info,data_name), (1,), data=val, dtype=h5py.special_dtype(vlen=str))\n",
    "        # when data is only 1 int or float object\n",
    "        elif type(val)==int or type(val)==float:\n",
    "            fh.create_dataset('%s/%s' % (group_info,data_name), (1,), data=val)\n",
    "        else:  # when data is numerical\n",
    "            fh.create_dataset('%s/%s' % (group_info,data_name), data=val)\n",
    "\n",
    "    elif type(group_info)==list and len(group_info)==2:  # have sequence in group_info\n",
    "        # when a string\n",
    "        if type(config_transducer[tx][m])==str:\n",
    "            fh.create_dataset('%s%02d/%s' % (group_info[0],group_info[1],data_name),\\\n",
    "                              (1,), data=val, dtype=h5py.special_dtype(vlen=str))\n",
    "        # when only 1 int or float object\n",
    "        elif type(config_transducer[tx][m])==int or type(config_transducer[tx][m])==float:\n",
    "            fh.create_dataset('%s%02d/%s' % (group_info[0],group_info[1],data_name), (1,), data=val)\n",
    "        else:  # when data is numerical\n",
    "            fh.create_dataset('%s%02d/%s' % (group_info[0],group_info[1],data_name), data=val)"
   ]
  },
  {
   "cell_type": "code",
   "execution_count": 16,
   "metadata": {},
   "outputs": [],
   "source": [
    "# Check if input dimension makes sense, if not abort\n",
    "sz_power_data = np.empty(shape=(len(frequencies),2),dtype=int)\n",
    "for cnt,f in zip(range(len(frequencies)),frequencies.keys()):\n",
    "    f_str = str(frequencies[f])\n",
    "    sz_power_data[cnt,:] = power_data_dict[f_str].shape\n",
    "if np.unique(sz_power_data).shape[0]!=2:\n",
    "    print('Raw file has mismatched number of pings across channels')\n"
   ]
  },
  {
   "cell_type": "code",
   "execution_count": 18,
   "metadata": {},
   "outputs": [],
   "source": [
    "h5_file_path = '../OOI-D20150901-T000000.h5'\n",
    "h5_file = h5py.File(h5_file_path,'x')  # create file, fail if exists"
   ]
  },
  {
   "cell_type": "code",
   "execution_count": 20,
   "metadata": {},
   "outputs": [
    {
     "data": {
      "text/plain": [
       "<HDF5 file \"OOI-D20150901-T000000.h5\" (mode r+)>"
      ]
     },
     "execution_count": 20,
     "metadata": {},
     "output_type": "execute_result"
    }
   ],
   "source": [
    "h5_file"
   ]
  },
  {
   "cell_type": "code",
   "execution_count": 21,
   "metadata": {},
   "outputs": [],
   "source": [
    "# -- ping time: resizable\n",
    "h5_file.create_dataset('ping_time', (sz_power_data[0,1],), \\\n",
    "                maxshape=(None,), data=data_times, chunks=True)\n",
    "\n",
    "# -- power data: resizable\n",
    "for f in frequencies.values():\n",
    "    h5_file.create_dataset('power_data/%s' % str(f), sz_power_data[0,:], \\\n",
    "                maxshape=(sz_power_data[0,0],None), data=power_data_dict[str(f)], chunks=True)"
   ]
  },
  {
   "cell_type": "code",
   "execution_count": null,
   "metadata": {},
   "outputs": [],
   "source": [
    "h5_file.create_dataset('metadata/bin_size', data=bin_size)"
   ]
  },
  {
   "cell_type": "code",
   "execution_count": 41,
   "metadata": {},
   "outputs": [],
   "source": [
    "dt = h5py.special_dtype(vlen=str)"
   ]
  },
  {
   "cell_type": "code",
   "execution_count": 26,
   "metadata": {},
   "outputs": [
    {
     "name": "stdout",
     "output_type": "stream",
     "text": [
      "zplsc_timestamp 20150901000000\n",
      "zplsc_channel [1, 2, 3]\n",
      "zplsc_transducer_depth [0.0, 0.0, 0.0]\n",
      "zplsc_frequency [120000.0, 38000.0, 200000.0]\n",
      "zplsc_transmit_power [250.0, 500.0, 150.0]\n",
      "zplsc_pulse_length [0.001024, 0.001024, 0.001024]\n",
      "zplsc_bandwidth [3026.3916, 2425.1497, 3088.4004]\n",
      "zplsc_sample_interval [0.000256, 0.000256, 0.000256]\n",
      "zplsc_sound_velocity [1493.8888, 1493.8888, 1493.8888]\n",
      "zplsc_absorption_coeff [0.03744031, 0.009785269, 0.05268759]\n",
      "zplsc_temperature [10.0, 10.0, 10.0]\n"
     ]
    }
   ],
   "source": [
    "for m,mval in first_ping_metadata.items():\n",
    "    print(m,mval)"
   ]
  },
  {
   "cell_type": "code",
   "execution_count": 27,
   "metadata": {},
   "outputs": [],
   "source": [
    "for m,mval in first_ping_metadata.items():\n",
    "    save_metadata(mval,'metadata',m,h5_file)"
   ]
  },
  {
   "cell_type": "code",
   "execution_count": 28,
   "metadata": {},
   "outputs": [
    {
     "name": "stdout",
     "output_type": "stream",
     "text": [
      "('metadata', <HDF5 group \"/metadata\" (12 members)>)\n",
      "('ping_time', <HDF5 dataset \"ping_time\": shape (28717,), type \"<f8\">)\n",
      "('power_data', <HDF5 group \"/power_data\" (3 members)>)\n"
     ]
    }
   ],
   "source": [
    "for i in h5_file.items():\n",
    "    print(i)"
   ]
  },
  {
   "cell_type": "code",
   "execution_count": 44,
   "metadata": {},
   "outputs": [
    {
     "data": {
      "text/plain": [
       "'20150901000000'"
      ]
     },
     "execution_count": 44,
     "metadata": {},
     "output_type": "execute_result"
    }
   ],
   "source": [
    "h5_file['metadata/zplsc_timestamp'][0]"
   ]
  },
  {
   "cell_type": "code",
   "execution_count": 57,
   "metadata": {},
   "outputs": [],
   "source": [
    "    # -- header: fixed sized\n",
    "    for m,mval in config_header.items():\n",
    "        save_metadata(mval,'header4',m,h5_file)"
   ]
  },
  {
   "cell_type": "code",
   "execution_count": 58,
   "metadata": {},
   "outputs": [
    {
     "name": "stdout",
     "output_type": "stream",
     "text": [
      "('header', <HDF5 group \"/header\" (5 members)>)\n",
      "('header2', <HDF5 group \"/header2\" (5 members)>)\n",
      "('header3', <HDF5 group \"/header3\" (5 members)>)\n",
      "('header4', <HDF5 group \"/header4\" (5 members)>)\n",
      "('metadata', <HDF5 group \"/metadata\" (12 members)>)\n",
      "('ping_time', <HDF5 dataset \"ping_time\": shape (28717,), type \"<f8\">)\n",
      "('power_data', <HDF5 group \"/power_data\" (3 members)>)\n"
     ]
    }
   ],
   "source": [
    "for i in h5_file.items():\n",
    "    print(i)"
   ]
  },
  {
   "cell_type": "code",
   "execution_count": 33,
   "metadata": {},
   "outputs": [
    {
     "name": "stdout",
     "output_type": "stream",
     "text": [
      "survey_name b'OOI'\n",
      "transect_name b''\n",
      "sounder_name b'ER60'\n",
      "version b'2.4.3'\n",
      "transducer_count 3\n"
     ]
    }
   ],
   "source": [
    "for m,mval in config_header.items():\n",
    "    print(m,mval)"
   ]
  },
  {
   "cell_type": "code",
   "execution_count": 46,
   "metadata": {},
   "outputs": [
    {
     "data": {
      "text/plain": [
       "bytes"
      ]
     },
     "execution_count": 46,
     "metadata": {},
     "output_type": "execute_result"
    }
   ],
   "source": [
    "type(config_header['survey_name'])"
   ]
  },
  {
   "cell_type": "code",
   "execution_count": 51,
   "metadata": {},
   "outputs": [
    {
     "data": {
      "text/plain": [
       "b'OOI'"
      ]
     },
     "execution_count": 51,
     "metadata": {},
     "output_type": "execute_result"
    }
   ],
   "source": [
    "h5_file['header2/survey_name'][0]"
   ]
  },
  {
   "cell_type": "code",
   "execution_count": 55,
   "metadata": {},
   "outputs": [
    {
     "data": {
      "text/plain": [
       "'OOI'"
      ]
     },
     "execution_count": 55,
     "metadata": {},
     "output_type": "execute_result"
    }
   ],
   "source": [
    "h5_file['header3/survey_name'][0]"
   ]
  },
  {
   "cell_type": "code",
   "execution_count": 64,
   "metadata": {},
   "outputs": [
    {
     "data": {
      "text/plain": [
       "3"
      ]
     },
     "execution_count": 64,
     "metadata": {},
     "output_type": "execute_result"
    }
   ],
   "source": [
    "h5_file['header4/transducer_count'][0]"
   ]
  },
  {
   "cell_type": "code",
   "execution_count": null,
   "metadata": {},
   "outputs": [],
   "source": [
    "for tx in range(len(config_transducer)):\n",
    "    for m,mval in config_transducer[tx].items():\n",
    "        save_metadata(mval,['transducer',tx],m,h5_file)\n",
    "\n",
    "        # when a string\n",
    "        if type(config_transducer[tx][m])==str:\n",
    "            h5_file.create_dataset('transducer%02d/%s' % (tx,m), (1,), data=mval, dtype=h5py.special_dtype(vlen=str))\n",
    "        # when only 1 int or float object\n",
    "        elif type(config_transducer[tx][m])==int or type(config_transducer[tx][m])==float:\n",
    "            h5_file.create_dataset('transducer%02d/%s' % (tx,m), (1,), data=mval)\n",
    "        else:\n",
    "            h5_file.create_dataset('transducer%02d/%s' % (tx,m), data=mval)"
   ]
  },
  {
   "cell_type": "code",
   "execution_count": null,
   "metadata": {},
   "outputs": [],
   "source": []
  },
  {
   "cell_type": "code",
   "execution_count": null,
   "metadata": {},
   "outputs": [],
   "source": []
  },
  {
   "cell_type": "code",
   "execution_count": null,
   "metadata": {},
   "outputs": [],
   "source": []
  },
  {
   "cell_type": "code",
   "execution_count": null,
   "metadata": {},
   "outputs": [],
   "source": []
  },
  {
   "cell_type": "code",
   "execution_count": null,
   "metadata": {},
   "outputs": [],
   "source": []
  },
  {
   "cell_type": "code",
   "execution_count": null,
   "metadata": {},
   "outputs": [],
   "source": []
  },
  {
   "cell_type": "code",
   "execution_count": null,
   "metadata": {},
   "outputs": [],
   "source": []
  },
  {
   "cell_type": "code",
   "execution_count": null,
   "metadata": {},
   "outputs": [],
   "source": []
  },
  {
   "cell_type": "code",
   "execution_count": null,
   "metadata": {},
   "outputs": [],
   "source": []
  },
  {
   "cell_type": "code",
   "execution_count": null,
   "metadata": {},
   "outputs": [],
   "source": []
  },
  {
   "cell_type": "code",
   "execution_count": null,
   "metadata": {},
   "outputs": [],
   "source": []
  },
  {
   "cell_type": "code",
   "execution_count": null,
   "metadata": {},
   "outputs": [],
   "source": []
  },
  {
   "cell_type": "code",
   "execution_count": null,
   "metadata": {},
   "outputs": [],
   "source": []
  },
  {
   "cell_type": "code",
   "execution_count": null,
   "metadata": {},
   "outputs": [],
   "source": []
  },
  {
   "cell_type": "code",
   "execution_count": null,
   "metadata": {},
   "outputs": [],
   "source": []
  }
 ],
 "metadata": {
  "kernelspec": {
   "display_name": "Python 3",
   "language": "python",
   "name": "python3"
  },
  "language_info": {
   "codemirror_mode": {
    "name": "ipython",
    "version": 3
   },
   "file_extension": ".py",
   "mimetype": "text/x-python",
   "name": "python",
   "nbconvert_exporter": "python",
   "pygments_lexer": "ipython3",
   "version": "3.6.3"
  }
 },
 "nbformat": 4,
 "nbformat_minor": 2
}
